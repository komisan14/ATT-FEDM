{
 "cells": [
  {
   "cell_type": "code",
   "execution_count": 8,
   "metadata": {},
   "outputs": [
    {
     "name": "stderr",
     "output_type": "stream",
     "text": [
      "C:\\Users\\win10\\AppData\\Local\\Temp\\ipykernel_9948\\1209389782.py:8: DeprecationWarning: executable_path has been deprecated, please pass in a Service object\n",
      "  driver = webdriver.Chrome(executable_path=chrome_path, options=chrome_options)\n"
     ]
    },
    {
     "name": "stdout",
     "output_type": "stream",
     "text": [
      "[]\n"
     ]
    }
   ],
   "source": [
    "from selenium import webdriver\n",
    "from selenium.webdriver.chrome.options import Options\n",
    "from selenium.webdriver.common.by import By\n",
    "\n",
    "chrome_options = Options()\n",
    "\n",
    "chrome_path = r'C:\\\\Users\\\\win10\\\\Documents\\\\ATT.FEDM\\\\CRAWLER_INDIVIDUAL\\\\chromedriver.exe';\n",
    "driver = webdriver.Chrome(executable_path=chrome_path, options=chrome_options)\n",
    "\n",
    "driver.get(\"https://shopee.ph/search?keyword=tshirt\")\n",
    "\n",
    "\n",
    "# driver.quit()\n",
    "# products = [];\n",
    "\n",
    "tags  = driver.find_elements(By.CSS_SELECTOR,\".shopee-search-item-result__item > a\") ;\n",
    "\n",
    "# for t in tags:\n",
    "#     if(t.get_attribute('data-sqe') == 'link'):\n",
    "#         products.push(t);\n",
    "\n",
    "print(tags);\n",
    "\n",
    "\n",
    "\n",
    "htmltext = driver.page_source\n"
   ]
  }
 ],
 "metadata": {
  "kernelspec": {
   "display_name": "base",
   "language": "python",
   "name": "python3"
  },
  "language_info": {
   "codemirror_mode": {
    "name": "ipython",
    "version": 3
   },
   "file_extension": ".py",
   "mimetype": "text/x-python",
   "name": "python",
   "nbconvert_exporter": "python",
   "pygments_lexer": "ipython3",
   "version": "3.9.13"
  },
  "orig_nbformat": 4
 },
 "nbformat": 4,
 "nbformat_minor": 2
}
