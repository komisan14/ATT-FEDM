{
 "cells": [
  {
   "cell_type": "code",
   "execution_count": 12,
   "metadata": {},
   "outputs": [
    {
     "name": "stdout",
     "output_type": "stream",
     "text": [
      "reign\n",
      "[<selenium.webdriver.remote.webelement.WebElement (session=\"24e939c98d32a8cdf79238b8c23cff75\", element=\"839af863-917e-4a68-baa7-512986243ff3\")>, <selenium.webdriver.remote.webelement.WebElement (session=\"24e939c98d32a8cdf79238b8c23cff75\", element=\"edcdd49b-fb67-4a90-bf5f-01cb95f03cab\")>, <selenium.webdriver.remote.webelement.WebElement (session=\"24e939c98d32a8cdf79238b8c23cff75\", element=\"7e450583-7a77-44b0-89b2-7c4a68997882\")>, <selenium.webdriver.remote.webelement.WebElement (session=\"24e939c98d32a8cdf79238b8c23cff75\", element=\"f4cfabbc-7864-44c1-86f5-497ae09b79d9\")>, <selenium.webdriver.remote.webelement.WebElement (session=\"24e939c98d32a8cdf79238b8c23cff75\", element=\"11671cc8-0a8d-482d-92b7-72bc867a5c76\")>, <selenium.webdriver.remote.webelement.WebElement (session=\"24e939c98d32a8cdf79238b8c23cff75\", element=\"ba45faef-b8bc-4b2f-9b4c-d31bf9c7c5e5\")>, <selenium.webdriver.remote.webelement.WebElement (session=\"24e939c98d32a8cdf79238b8c23cff75\", element=\"1e88aa55-34a2-4bb8-83ad-7d4e1f71795c\")>, <selenium.webdriver.remote.webelement.WebElement (session=\"24e939c98d32a8cdf79238b8c23cff75\", element=\"5eb00086-8811-40aa-a5b8-c55a64b7f368\")>, <selenium.webdriver.remote.webelement.WebElement (session=\"24e939c98d32a8cdf79238b8c23cff75\", element=\"4a8f4bb0-6e0e-4efd-9202-028df8a8ee48\")>, <selenium.webdriver.remote.webelement.WebElement (session=\"24e939c98d32a8cdf79238b8c23cff75\", element=\"3ad39bb0-7531-4cc8-b055-6b83bd9eeb89\")>, <selenium.webdriver.remote.webelement.WebElement (session=\"24e939c98d32a8cdf79238b8c23cff75\", element=\"bbc1f3ba-42a9-477f-a3d1-456dbf58bfb1\")>, <selenium.webdriver.remote.webelement.WebElement (session=\"24e939c98d32a8cdf79238b8c23cff75\", element=\"5fefef6c-899d-4bea-ba2e-c83a752b3d52\")>, <selenium.webdriver.remote.webelement.WebElement (session=\"24e939c98d32a8cdf79238b8c23cff75\", element=\"7488f838-fffb-440a-8f31-724506bbaac0\")>, <selenium.webdriver.remote.webelement.WebElement (session=\"24e939c98d32a8cdf79238b8c23cff75\", element=\"43a18df1-5d78-4a8d-a099-39322babe7ca\")>, <selenium.webdriver.remote.webelement.WebElement (session=\"24e939c98d32a8cdf79238b8c23cff75\", element=\"46f35fde-c01c-41fe-ae0e-12d66fef0a94\")>, <selenium.webdriver.remote.webelement.WebElement (session=\"24e939c98d32a8cdf79238b8c23cff75\", element=\"6c5fc64f-82cc-49cd-a1ad-789ec22177d1\")>, <selenium.webdriver.remote.webelement.WebElement (session=\"24e939c98d32a8cdf79238b8c23cff75\", element=\"b6665299-3688-4f7b-bfad-092ebafe1b38\")>, <selenium.webdriver.remote.webelement.WebElement (session=\"24e939c98d32a8cdf79238b8c23cff75\", element=\"c5a95568-7037-4a31-9565-a578b99b9c45\")>, <selenium.webdriver.remote.webelement.WebElement (session=\"24e939c98d32a8cdf79238b8c23cff75\", element=\"e49a7766-dfb1-4cfa-9f2d-48a8afbf7422\")>, <selenium.webdriver.remote.webelement.WebElement (session=\"24e939c98d32a8cdf79238b8c23cff75\", element=\"f3ccf542-8190-47e3-ae8f-2e02f755b6a5\")>, <selenium.webdriver.remote.webelement.WebElement (session=\"24e939c98d32a8cdf79238b8c23cff75\", element=\"14bd15dd-de9a-4924-8c4c-263982cafa04\")>, <selenium.webdriver.remote.webelement.WebElement (session=\"24e939c98d32a8cdf79238b8c23cff75\", element=\"ab4f00bb-b67c-4b31-9d75-a81254d40dfd\")>, <selenium.webdriver.remote.webelement.WebElement (session=\"24e939c98d32a8cdf79238b8c23cff75\", element=\"48bec28e-5fb1-4dfa-b174-e8506f02da7b\")>, <selenium.webdriver.remote.webelement.WebElement (session=\"24e939c98d32a8cdf79238b8c23cff75\", element=\"b1e11279-d9e4-40f5-9cf6-6a6fce02d745\")>, <selenium.webdriver.remote.webelement.WebElement (session=\"24e939c98d32a8cdf79238b8c23cff75\", element=\"9c2a4ea7-1657-412e-ba91-e60bd9675d7c\")>, <selenium.webdriver.remote.webelement.WebElement (session=\"24e939c98d32a8cdf79238b8c23cff75\", element=\"79f16933-8d6b-47b1-9307-89a3402cbb55\")>, <selenium.webdriver.remote.webelement.WebElement (session=\"24e939c98d32a8cdf79238b8c23cff75\", element=\"746f33c2-4f92-46f0-b087-64b0de819874\")>, <selenium.webdriver.remote.webelement.WebElement (session=\"24e939c98d32a8cdf79238b8c23cff75\", element=\"812763b9-f70c-426d-8f82-956703f3701f\")>, <selenium.webdriver.remote.webelement.WebElement (session=\"24e939c98d32a8cdf79238b8c23cff75\", element=\"15ff50b5-2537-4bd7-aba3-1868c29810df\")>, <selenium.webdriver.remote.webelement.WebElement (session=\"24e939c98d32a8cdf79238b8c23cff75\", element=\"e153874c-5282-45a6-a841-d95a6a8dae60\")>, <selenium.webdriver.remote.webelement.WebElement (session=\"24e939c98d32a8cdf79238b8c23cff75\", element=\"686f9f0b-1325-4a23-9837-b410686f5476\")>, <selenium.webdriver.remote.webelement.WebElement (session=\"24e939c98d32a8cdf79238b8c23cff75\", element=\"f6c234c5-436c-4ab2-82e4-411067d8bb43\")>, <selenium.webdriver.remote.webelement.WebElement (session=\"24e939c98d32a8cdf79238b8c23cff75\", element=\"c18382bd-4ba9-4fb8-b7c5-265ec05eba30\")>, <selenium.webdriver.remote.webelement.WebElement (session=\"24e939c98d32a8cdf79238b8c23cff75\", element=\"c24f4f3b-0405-4bf3-8c90-b03d07868070\")>, <selenium.webdriver.remote.webelement.WebElement (session=\"24e939c98d32a8cdf79238b8c23cff75\", element=\"f8fbc29e-cf78-4086-95a8-996dc970a0ac\")>, <selenium.webdriver.remote.webelement.WebElement (session=\"24e939c98d32a8cdf79238b8c23cff75\", element=\"8f8bfc16-0956-4c98-a860-f40244c6059c\")>, <selenium.webdriver.remote.webelement.WebElement (session=\"24e939c98d32a8cdf79238b8c23cff75\", element=\"d8d417db-0932-4dad-8c99-6de02524a40f\")>, <selenium.webdriver.remote.webelement.WebElement (session=\"24e939c98d32a8cdf79238b8c23cff75\", element=\"87a79b72-8630-4deb-b290-77a1b344cd34\")>, <selenium.webdriver.remote.webelement.WebElement (session=\"24e939c98d32a8cdf79238b8c23cff75\", element=\"597c4bb0-f063-47a3-a729-401a7d3231f1\")>, <selenium.webdriver.remote.webelement.WebElement (session=\"24e939c98d32a8cdf79238b8c23cff75\", element=\"7d070858-a6d7-4d52-bdd3-753955e3ba13\")>]\n",
      "reign\n",
      "['https://www.lazada.com.ph/products/rc-earth-tone-basic-round-neck-top-crop-top-fit-to-extra-small-to-smallcottonstretchable-knitted-i1803001979.html', 'https://www.lazada.com.ph/products/kathryn-textured-knit-basic-squre-neck-top-daily-croptop-11330-i3458960691.html', 'https://www.lazada.com.ph/products/jarosertw-square-neck-best-selling-k-fashion-croptop-i2715427695.html', 'https://www.lazada.com.ph/products/veronikka-eva-plain-puff-sleeves-button-up-blouse-womens-croptop-xs-to-small-i342246772.html', 'https://www.lazada.com.ph/products/sasa-overlap-top-lettuce-knitted-v-neck-crop-tops-sophia-i3155390676.html', 'https://www.lazada.com.ph/products/bny-ladies-sleeveless-high-neck-rib-cropped-top-209-i3530207298.html', 'https://www.lazada.com.ph/products/diya-beauty-womens-simple-fashion-long-sleeve-cardigan-crop-top-i1798185701.html', 'https://www.lazada.com.ph/products/maylyn-choker-crop-top-i1914363786.html', 'https://www.lazada.com.ph/products/kathryn-korean-top-puff-sleeve-off-shoulder-two-way-crop-top-11210-i3429224314.html', 'https://www.lazada.com.ph/products/kathryn-california-drawstring-side-crop-tee-11290-i3426153464.html', 'https://www.lazada.com.ph/products/niana-combi-croptop-i3263784532.html', 'https://www.lazada.com.ph/products/heart-off-shoulder-crop-top-i965456232.html', 'https://www.lazada.com.ph/products/two-way-off-shoulder-crop-top-ruffle-puff-sleeve-blouse-with-ribbon-for-women-i967204330.html', 'https://www.lazada.com.ph/products/sasa-raglan-crop-top-two-tone-tops-i3155383880.html', 'https://www.lazada.com.ph/products/riya-fashion-wide-puff-sleeve-elegant-ladies-plain-knitted-slimming-crop-top-korean-style-square-neck-macaron-colors-summer-preppy-5089-i3027979928.html', 'https://www.lazada.com.ph/products/kathryntextured-knit-crop-tank-top-11326-i3432596238.html', 'https://www.lazada.com.ph/products/kathryn-korean-trend-long-sleeve-croptop-11176-i3429273242.html', 'https://www.lazada.com.ph/products/merly-longsleeve-croptop-i3165355996.html', 'https://www.lazada.com.ph/products/lacota-korean-style-printed-rainbow-butterfly-couple-t-shirt-sexy-crop-top-for-women-i1706034247.html', 'https://www.lazada.com.ph/products/mavie-knitted-croptop-i2317317148.html', 'https://www.lazada.com.ph/products/veronikka-eva-gingham-puff-sleeves-button-up-blouse-womens-croptop-small-to-medium-i342238940.html', 'https://www.lazada.com.ph/products/nancy-peplum-squareneck-crop-top-plain-and-polka-polkadots-i2143703590.html', 'https://www.lazada.com.ph/products/jazzie-knitted-croptop-florenzshop-i2736683385.html', 'https://www.lazada.com.ph/products/randomly-pack-croptop-i739094784.html', 'https://www.lazada.com.ph/products/cod-long-sleeve-v-neck-rib-knit-crop-top-new-trend-i3259903635.html', 'https://www.lazada.com.ph/products/reinna-crop-top-l-crepe-fabric-i2591194993.html', 'https://www.lazada.com.ph/products/riya-fashion-women-cute-flowers-design-fresh-elegant-semi-cropped-knitted-blouse-korean-style-5211-i3396549939.html', 'https://www.lazada.com.ph/products/tneck-mid-rib-crop-top-plainstripeanimal-print-i1849581429.html', 'https://www.lazada.com.ph/products/elite-squareneck-rib-knit-long-sleeve-croptop-for-womens-i3467388408.html', 'https://www.lazada.com.ph/products/inspi-bear-crop-top-for-women-minimalist-shirt-oversized-croptop-for-teens-aesthetic-korean-top-2022-i1166896644.html', 'https://www.lazada.com.ph/products/diya-korean-slim-high-rise-crop-t-shirt-d909-i525672773.html', 'https://www.lazada.com.ph/products/capin-collar-tops-short-sleeves-polo-crop-tops-knitted-collar-tops-i2440536791.html', 'https://www.lazada.com.ph/products/riya-fashion-casual-preppy-cropped-polo-shirt-stripe-knitted-blouse-latest-for-women-all-match-slim-fit-5215-i3477268727.html', 'https://www.lazada.com.ph/products/princess-collar-knitted-crop-top-i2284900294.html', 'https://www.lazada.com.ph/products/mskc-l-korean-letter-cropped-top-i3237336203.html', 'https://www.lazada.com.ph/products/riya-fashion-elegant-sweet-square-neck-knitted-blouse-see-through-embroideried-womens-leisure-semi-cropped-top-korean-style-5283-i3569664065.html', 'https://www.lazada.com.ph/products/riya-fashion-korean-style-off-shoulder-sexy-flare-sleeve-long-sleeved-slimming-cropped-blouse-crop-top-square-neck-5285-i3629473304.html', 'https://www.lazada.com.ph/products/round-neck-tops-plain-basic-crop-top-korean-fashion-blouse-ht-i2554648233.html', 'https://www.lazada.com.ph/products/diya-new-korean-style-heart-short-sleeved-stretchable-knitted-top-crop-top-i1871133080.html', 'https://www.lazada.com.ph/products/rhemzfashion-roundneck-kiss-mark-print-crop-top-fit-xs-to-small-i3333566928.html']\n",
      "[{'link': 'https://www.lazada.com.ph/products/rc-earth-tone-basic-round-neck-top-crop-top-fit-to-extra-small-to-smallcottonstretchable-knitted-i1803001979.html', 'productname': 'RC- Earth Tone Basic Round neck Top Crop top | Fit to extra small to small/cotton/stretchable| knitted', 'productprice': '₱48.15\\n₱170.00-72%', 'Location': 'Metro Manila~Quezon City, Quezon City, Project 6', 'sellerRatings': '96%', 'shopName': 'Sofia25clothing'}, {'link': 'https://www.lazada.com.ph/products/kathryn-textured-knit-basic-squre-neck-top-daily-croptop-11330-i3458960691.html', 'productname': 'KATHRYN Textured Knit Basic Squre Neck Top Daily Croptop 11330#', 'productprice': '₱64.41\\n₱350.00-82%', 'Location': 'Metro Manila~Quezon City, Quezon City, Project 6', 'sellerRatings': '91%', 'shopName': 'Kathryn Clothing'}, {'link': 'https://www.lazada.com.ph/products/jarosertw-square-neck-best-selling-k-fashion-croptop-i2715427695.html', 'productname': 'JaroseRTW Square neck Best Selling K-Fashion Croptop', 'productprice': '₱50.44\\n₱150.00-66%', 'Location': 'Metro Manila~Quezon City, Quezon City, Project 6', 'sellerRatings': '96%', 'shopName': 'JaRose RTW'}, {'link': 'https://www.lazada.com.ph/products/veronikka-eva-plain-puff-sleeves-button-up-blouse-womens-croptop-xs-to-small-i342246772.html', 'productname': \"Veronikka [Eva] Plain Puff Sleeves Button Up Blouse / Women's CropTop XS to SMALL\", 'productprice': '₱97.51\\n₱500.00-80%', 'Location': 'Metro Manila~Quezon City, Quezon City, Project 6', 'sellerRatings': '96%', 'shopName': 'Veronikka'}, {'link': 'https://www.lazada.com.ph/products/sasa-overlap-top-lettuce-knitted-v-neck-crop-tops-sophia-i3155390676.html', 'productname': 'SASA Overlap Top Lettuce Knitted V Neck Crop Tops SOPHIA', 'productprice': '₱53.91\\n₱150.00-64%', 'Location': 'Metro Manila~Quezon City, Quezon City, Project 6', 'sellerRatings': '94%', 'shopName': 'SaSa Fashion Shop'}, {'link': 'https://www.lazada.com.ph/products/bny-ladies-sleeveless-high-neck-rib-cropped-top-209-i3530207298.html', 'productname': \"BNY LADIES' SLEEVELESS HIGH-NECK RIB CROPPED TOP (209)\", 'productprice': '₱247.00\\n₱349.00-29%', 'Location': 'Metro Manila~Quezon City, Quezon City, Project 6', 'sellerRatings': '98%', 'shopName': 'BNY'}, {'link': 'https://www.lazada.com.ph/products/diya-beauty-womens-simple-fashion-long-sleeve-cardigan-crop-top-i1798185701.html', 'productname': \"Diya Beauty Women's Simple Fashion Long Sleeve Cardigan Crop Top\", 'productprice': '₱155.64\\n₱259.00-40%', 'Location': 'Metro Manila~Quezon City, Quezon City, Project 6', 'sellerRatings': '96%', 'shopName': 'Diya Stand'}, {'link': 'https://www.lazada.com.ph/products/maylyn-choker-crop-top-i1914363786.html', 'productname': 'Maylyn Choker Crop Top', 'productprice': '₱56.14\\n₱99.00-43%', 'Location': 'Metro Manila~Quezon City, Quezon City, Project 6', 'sellerRatings': '94%', 'shopName': 'Beau Fashion Etc'}, {'link': 'https://www.lazada.com.ph/products/kathryn-korean-top-puff-sleeve-off-shoulder-two-way-crop-top-11210-i3429224314.html', 'productname': 'Kathryn Korean Top Puff Sleeve Off Shoulder Two Way Crop top 11210#', 'productprice': '₱47.76\\n₱299.00-84%', 'Location': 'Metro Manila~Quezon City, Quezon City, Project 6', 'sellerRatings': '91%', 'shopName': 'Kathryn Clothing'}, {'link': 'https://www.lazada.com.ph/products/kathryn-california-drawstring-side-crop-tee-11290-i3426153464.html', 'productname': 'Kathryn California Drawstring Side Crop Tee 11290#', 'productprice': '₱103.64\\n₱300.00-65%', 'Location': 'Metro Manila~Quezon City, Quezon City, Project 6', 'sellerRatings': '91%', 'shopName': 'Kathryn Clothing'}, {'link': 'https://www.lazada.com.ph/products/niana-combi-croptop-i3263784532.html', 'productname': 'Niana Combi croptop', 'productprice': '₱58.52\\n₱150.00-61%', 'Location': 'Metro Manila~Quezon City, Quezon City, Project 6', 'sellerRatings': '96%', 'shopName': 'TaytayRTW'}, {'link': 'https://www.lazada.com.ph/products/heart-off-shoulder-crop-top-i965456232.html', 'productname': 'Heart Off Shoulder Crop Top', 'productprice': '₱54.17\\n₱120.00-55%', 'Location': 'Metro Manila~Quezon City, Quezon City, Project 6', 'sellerRatings': '94%', 'shopName': 'Beau Fashion Etc'}, {'link': 'https://www.lazada.com.ph/products/two-way-off-shoulder-crop-top-ruffle-puff-sleeve-blouse-with-ribbon-for-women-i967204330.html', 'productname': 'Two way off shoulder crop top ruffle puff sleeve blouse with ribbon for women', 'productprice': '₱263.13\\n₱300.00-12%', 'Location': 'Metro Manila~Quezon City, Quezon City, Project 6', 'sellerRatings': '94%', 'shopName': 'Real Kolections'}, {'link': 'https://www.lazada.com.ph/products/sasa-raglan-crop-top-two-tone-tops-i3155383880.html', 'productname': 'SASA RAGLAN Crop Top Two Tone Tops', 'productprice': '₱43.07\\n₱150.00-71%', 'Location': 'Metro Manila~Quezon City, Quezon City, Project 6', 'sellerRatings': '94%', 'shopName': 'SaSa Fashion Shop'}, {'link': 'https://www.lazada.com.ph/products/riya-fashion-wide-puff-sleeve-elegant-ladies-plain-knitted-slimming-crop-top-korean-style-square-neck-macaron-colors-summer-preppy-5089-i3027979928.html', 'productname': 'Riya Fashion wide puff sleeve elegant ladies plain knitted slimming crop top korean style square neck macaron colors summer preppy 5089', 'productprice': '₱248.00\\n₱599.00-59%', 'Location': 'Metro Manila~Quezon City, Quezon City, Project 6', 'sellerRatings': '97%', 'shopName': 'Riya Fashion Boutique'}, {'link': 'https://www.lazada.com.ph/products/kathryntextured-knit-crop-tank-top-11326-i3432596238.html', 'productname': 'KathrynTextured Knit Crop Tank Top 11326#', 'productprice': '₱55.64\\n₱280.00-80%', 'Location': 'Metro Manila~Quezon City, Quezon City, Project 6', 'sellerRatings': '91%', 'shopName': 'Kathryn Clothing'}, {'link': 'https://www.lazada.com.ph/products/kathryn-korean-trend-long-sleeve-croptop-11176-i3429273242.html', 'productname': 'Kathryn Korean Trend Long Sleeve Croptop 11176#', 'productprice': '₱61.51\\n₱299.00-79%', 'Location': 'Metro Manila~Quezon City, Quezon City, Project 6', 'sellerRatings': '91%', 'shopName': 'Kathryn Clothing'}, {'link': 'https://www.lazada.com.ph/products/merly-longsleeve-croptop-i3165355996.html', 'productname': 'Merly Longsleeve croptop', 'productprice': '₱91.22\\n₱250.00-64%', 'Location': 'Metro Manila~Quezon City, Quezon City, Project 6', 'sellerRatings': '96%', 'shopName': 'TaytayRTW'}, {'link': 'https://www.lazada.com.ph/products/lacota-korean-style-printed-rainbow-butterfly-couple-t-shirt-sexy-crop-top-for-women-i1706034247.html', 'productname': 'LACOTA Korean Style Printed Rainbow Butterfly Couple T-Shirt Sexy Crop Top For Women', 'productprice': '₱53.59\\n₱380.00-86%', 'Location': 'Metro Manila~Quezon City, Quezon City, Project 6', 'sellerRatings': '95%', 'shopName': 'Lacota Vogue Fashion Store'}, {'link': 'https://www.lazada.com.ph/products/mavie-knitted-croptop-i2317317148.html', 'productname': 'Mavie knitted croptop', 'productprice': '₱53.22\\n₱150.00-65%', 'Location': 'Metro Manila~Quezon City, Quezon City, Project 6', 'sellerRatings': '96%', 'shopName': 'TaytayRTW'}, {'link': 'https://www.lazada.com.ph/products/veronikka-eva-gingham-puff-sleeves-button-up-blouse-womens-croptop-small-to-medium-i342238940.html', 'productname': \"Veronikka Eva Gingham Puff Sleeves Button Up Blouse / Women's CropTop Small to Medium\", 'productprice': '₱78.21\\n₱500.00-84%', 'Location': 'Metro Manila~Quezon City, Quezon City, Project 6', 'sellerRatings': '96%', 'shopName': 'Veronikka'}, {'link': 'https://www.lazada.com.ph/products/nancy-peplum-squareneck-crop-top-plain-and-polka-polkadots-i2143703590.html', 'productname': 'Nancy Peplum Squareneck Crop Top (Plain and Polka | Polkadots', 'productprice': '₱55.00\\n₱70.00-21%', 'Location': 'Metro Manila~Quezon City, Quezon City, Project 6', 'sellerRatings': '96%', 'shopName': 'comfabby.ph'}, {'link': 'https://www.lazada.com.ph/products/jazzie-knitted-croptop-florenzshop-i2736683385.html', 'productname': 'Jazzie Knitted croptop // Florenzshop', 'productprice': '₱52.66\\n₱120.00-56%', 'Location': 'Metro Manila~Quezon City, Quezon City, Project 6', 'sellerRatings': '97%', 'shopName': 'florenzshop'}, {'link': 'https://www.lazada.com.ph/products/randomly-pack-croptop-i739094784.html', 'productname': 'Randomly pack croptop', 'productprice': '₱41.75\\n₱199.00-79%', 'Location': 'Metro Manila~Quezon City, Quezon City, Project 6', 'sellerRatings': '96%', 'shopName': 'TaytayRTW'}, {'link': 'https://www.lazada.com.ph/products/cod-long-sleeve-v-neck-rib-knit-crop-top-new-trend-i3259903635.html', 'productname': 'COD Long Sleeve V neck Rib Knit Crop Top New Trend', 'productprice': '₱59.78\\n₱250.00-76%', 'Location': 'Metro Manila~Quezon City, Quezon City, Project 6', 'sellerRatings': '96%', 'shopName': 'Blessed Fashion'}, {'link': 'https://www.lazada.com.ph/products/reinna-crop-top-l-crepe-fabric-i2591194993.html', 'productname': 'Reinna Crop Top l Crepe Fabric', 'productprice': '₱53.30\\n₱55.00-3%', 'Location': 'Metro Manila~Quezon City, Quezon City, Project 6', 'sellerRatings': '96%', 'shopName': 'Zamarah Clothing'}, {'link': 'https://www.lazada.com.ph/products/riya-fashion-women-cute-flowers-design-fresh-elegant-semi-cropped-knitted-blouse-korean-style-5211-i3396549939.html', 'productname': 'Riya Fashion women cute flowers design fresh elegant semi cropped knitted blouse korean style 5211', 'productprice': '₱239.00\\n₱599.00-60%', 'Location': 'Metro Manila~Quezon City, Quezon City, Project 6', 'sellerRatings': '97%', 'shopName': 'Riya Fashion Boutique'}, {'link': 'https://www.lazada.com.ph/products/tneck-mid-rib-crop-top-plainstripeanimal-print-i1849581429.html', 'productname': 'Tneck MID Rib Crop Top (plain,stripe,animal print)', 'productprice': '₱51.65\\n₱55.00-6%', 'Location': 'Metro Manila~Quezon City, Quezon City, Project 6', 'sellerRatings': '96%', 'shopName': 'Zamarah Clothing'}, {'link': 'https://www.lazada.com.ph/products/elite-squareneck-rib-knit-long-sleeve-croptop-for-womens-i3467388408.html', 'productname': 'Elite Squareneck Rib Knit Long Sleeve Croptop for Womens', 'productprice': '₱69.00', 'Location': 'Metro Manila~Quezon City, Quezon City, Project 6', 'sellerRatings': '98%', 'shopName': 'Elite Shop Manila'}, {'link': 'https://www.lazada.com.ph/products/inspi-bear-crop-top-for-women-minimalist-shirt-oversized-croptop-for-teens-aesthetic-korean-top-2022-i1166896644.html', 'productname': 'INSPI Bear Crop Top for Women Minimalist Shirt Oversized Croptop for Teens Aesthetic Korean Top 2022', 'productprice': '₱229.00\\n₱400.00-43%', 'Location': 'Metro Manila~Quezon City, Quezon City, Project 6', 'sellerRatings': '96%', 'shopName': 'inspi'}, {'link': 'https://www.lazada.com.ph/products/diya-korean-slim-high-rise-crop-t-shirt-d909-i525672773.html', 'productname': 'Diya-Korean slim high-rise Crop T-shirt D909', 'productprice': '₱139.00\\n₱220.00-37%', 'Location': 'Metro Manila~Quezon City, Quezon City, Project 6', 'sellerRatings': '96%', 'shopName': 'Diya Stand'}, {'link': 'https://www.lazada.com.ph/products/capin-collar-tops-short-sleeves-polo-crop-tops-knitted-collar-tops-i2440536791.html', 'productname': 'CAPIN Collar Tops Short Sleeves Polo Crop Tops Knitted Collar Tops', 'productprice': '₱50.79\\n₱209.00-76%', 'Location': 'Metro Manila~Quezon City, Quezon City, Project 6', 'sellerRatings': '93%', 'shopName': 'CAP IN'}, {'link': 'https://www.lazada.com.ph/products/riya-fashion-casual-preppy-cropped-polo-shirt-stripe-knitted-blouse-latest-for-women-all-match-slim-fit-5215-i3477268727.html', 'productname': 'Riya Fashion casual preppy cropped polo shirt stripe knitted blouse latest for women all match slim fit 5215', 'productprice': '₱196.00\\n₱599.00-67%', 'Location': 'Metro Manila~Quezon City, Quezon City, Project 6', 'sellerRatings': '97%', 'shopName': 'Riya Fashion Boutique'}, {'link': 'https://www.lazada.com.ph/products/princess-collar-knitted-crop-top-i2284900294.html', 'productname': 'Princess Collar Knitted Crop Top', 'productprice': '₱51.99\\n₱55.00-5%', 'Location': 'Metro Manila~Quezon City, Quezon City, Project 6', 'sellerRatings': '96%', 'shopName': 'Zamarah Clothing'}, {'link': 'https://www.lazada.com.ph/products/mskc-l-korean-letter-cropped-top-i3237336203.html', 'productname': 'MSKC l KOREAN LETTER CROPPED TOP', 'productprice': '₱89.15\\n₱110.00-19%', 'Location': 'Metro Manila~Quezon City, Quezon City, Project 6', 'sellerRatings': '97%', 'shopName': 'DAILYTEES'}, {'link': 'https://www.lazada.com.ph/products/riya-fashion-elegant-sweet-square-neck-knitted-blouse-see-through-embroideried-womens-leisure-semi-cropped-top-korean-style-5283-i3569664065.html', 'productname': \"Riya Fashion Elegant Sweet Square Neck Knitted blouse see through Embroideried Women's Leisure semi cropped Top korean style 5283\", 'productprice': '₱196.00\\n₱499.00-61%', 'Location': 'Metro Manila~Quezon City, Quezon City, Project 6', 'sellerRatings': '97%', 'shopName': 'Riya Fashion Boutique'}, {'link': 'https://www.lazada.com.ph/products/riya-fashion-korean-style-off-shoulder-sexy-flare-sleeve-long-sleeved-slimming-cropped-blouse-crop-top-square-neck-5285-i3629473304.html', 'productname': 'Riya Fashion korean style Off shoulder sexy flare sleeve long sleeved slimming cropped blouse crop top square neck 5285', 'productprice': '₱289.00\\n₱699.00-59%', 'Location': 'Metro Manila~Quezon City, Quezon City, Project 6', 'sellerRatings': '97%', 'shopName': 'Riya Fashion Boutique'}, {'link': 'https://www.lazada.com.ph/products/round-neck-tops-plain-basic-crop-top-korean-fashion-blouse-ht-i2554648233.html', 'productname': 'Round neck Tops Plain Basic Crop Top Korean Fashion Blouse H&T', 'productprice': '₱40.38\\n₱100.00-60%', 'Location': 'Metro Manila~Quezon City, Quezon City, Project 6', 'sellerRatings': '91%', 'shopName': 'H&T.Jeans'}, {'link': 'https://www.lazada.com.ph/products/diya-new-korean-style-heart-short-sleeved-stretchable-knitted-top-crop-top-i1871133080.html', 'productname': 'Diya New Korean Style Heart Short-sleeved Stretchable Knitted top Crop TOP', 'productprice': '₱165.00\\n₱259.00-36%', 'Location': 'Metro Manila~Quezon City, Quezon City, Project 6', 'sellerRatings': '96%', 'shopName': 'Diya Stand'}, {'link': 'https://www.lazada.com.ph/products/rhemzfashion-roundneck-kiss-mark-print-crop-top-fit-xs-to-small-i3333566928.html', 'productname': 'Rhemzfashion Roundneck Kiss Mark Print Crop Top Fit Xs to Small', 'productprice': '₱48.00\\n₱170.00-72%', 'Location': 'Metro Manila~Quezon City, Quezon City, Project 6', 'sellerRatings': '95%', 'shopName': 'Rhemz Online fashion'}]\n"
     ]
    }
   ],
   "source": [
    "from selenium import webdriver\n",
    "from bs4 import BeautifulSoup;\n",
    "from selenium.webdriver.chrome.options import Options\n",
    "from selenium.webdriver.chrome.service import Service;\n",
    "from selenium.webdriver.common.by import By\n",
    "from selenium.webdriver.common.action_chains import ActionChains;\n",
    "from webdriver_manager.chrome import ChromeDriverManager;\n",
    "from selenium.webdriver.support.ui import WebDriverWait;\n",
    "from selenium.webdriver.support import expected_conditions as EC;\n",
    "import time;\n",
    "import pandas as pd;\n",
    "from selenium.common.exceptions import NoSuchElementException\n",
    "\n",
    "\n",
    "options = Options()\n",
    "options.add_experimental_option('detach', True);\n",
    "driver = webdriver.Chrome(service = Service(ChromeDriverManager().install()), options   \n",
    "    \n",
    "    driver.get(\"https://www.lazada.com.ph/tag/croptop/?q=croptop&_keyori=ss&from=input&spm=a2o4l.home.search.go.239e2030qKxoIa&catalog_redirect_tag=true\")\n",
    "    driver.maximize_window();\n",
    "    time.sleep(4);\n",
    "    links = [];\n",
    "    print('reign')\n",
    "    tags = driver.find_elements(By.CSS_SELECTOR,'._95X4G > a ');\n",
    "\n",
    "    print(tags)\n",
    "\n",
    "    print('reign')\n",
    "    for x in tags:\n",
    "    # print(x.text, \"\\n\");\n",
    "        link = x.get_attribute('href');\n",
    "        links.append(link);\n",
    "    print(links)\n",
    "    \n",
    "    \n",
    "    #Dito me nagkakaeerror po, di ko alam gagamitin, kung class name o css selector. pero ayaw naman both :))\n",
    "    details = [];\n",
    "    \n",
    "    for link in links: \n",
    "        driver.get(link);\n",
    "        # WebDriverWait(driver,10).until(EC.presence_of_element_located((By.CLASS_NAME,\"._95X4G > a \")));\n",
    "        \n",
    "        time.sleep(4);\n",
    "        df = {};\n",
    "        df['link'] = link;  \n",
    "        df['productname'] = driver.find_element(By.CLASS_NAME,\"pdp-mod-product-badge-title\").text.strip();\n",
    "        df['productprice'] = driver.find_element(By.CLASS_NAME,\"pdp-product-price\").text.strip();\n",
    "        df['Location'] = driver.find_element(By.CLASS_NAME,\"location__address\").text.strip(); \n",
    "        df['sellerRatings'] = driver.find_element(By.CLASS_NAME,\"seller-info-value.rating-positive \").text.strip(); \n",
    "        df['shopName'] = driver.find_element(By.CLASS_NAME,\"pdp-link.pdp-link_size_l.pdp-link_theme_black.seller-name__detail-name\").text.strip(); \n",
    "        \n",
    "        details.append(df);\n",
    "\n",
    "    print(details);\n",
    "    \n",
    "   \n",
    "except NoSuchElementException as exc:\n",
    "    print(exc)"
   ]
  },
  {
   "cell_type": "code",
   "execution_count": 2,
   "metadata": {},
   "outputs": [],
   "source": [
    "# for x in tags:\n",
    "#     # print(x.text, \"\\n\");\n",
    "#     link = x.get_attribute('href');\n",
    "#     links.append(link);\n"
   ]
  },
  {
   "cell_type": "code",
   "execution_count": 13,
   "metadata": {},
   "outputs": [
    {
     "data": {
      "text/plain": [
       "['https://www.lazada.com.ph/products/rc-earth-tone-basic-round-neck-top-crop-top-fit-to-extra-small-to-smallcottonstretchable-knitted-i1803001979.html',\n",
       " 'https://www.lazada.com.ph/products/kathryn-textured-knit-basic-squre-neck-top-daily-croptop-11330-i3458960691.html',\n",
       " 'https://www.lazada.com.ph/products/jarosertw-square-neck-best-selling-k-fashion-croptop-i2715427695.html',\n",
       " 'https://www.lazada.com.ph/products/veronikka-eva-plain-puff-sleeves-button-up-blouse-womens-croptop-xs-to-small-i342246772.html',\n",
       " 'https://www.lazada.com.ph/products/sasa-overlap-top-lettuce-knitted-v-neck-crop-tops-sophia-i3155390676.html',\n",
       " 'https://www.lazada.com.ph/products/bny-ladies-sleeveless-high-neck-rib-cropped-top-209-i3530207298.html',\n",
       " 'https://www.lazada.com.ph/products/diya-beauty-womens-simple-fashion-long-sleeve-cardigan-crop-top-i1798185701.html',\n",
       " 'https://www.lazada.com.ph/products/maylyn-choker-crop-top-i1914363786.html',\n",
       " 'https://www.lazada.com.ph/products/kathryn-korean-top-puff-sleeve-off-shoulder-two-way-crop-top-11210-i3429224314.html',\n",
       " 'https://www.lazada.com.ph/products/kathryn-california-drawstring-side-crop-tee-11290-i3426153464.html',\n",
       " 'https://www.lazada.com.ph/products/niana-combi-croptop-i3263784532.html',\n",
       " 'https://www.lazada.com.ph/products/heart-off-shoulder-crop-top-i965456232.html',\n",
       " 'https://www.lazada.com.ph/products/two-way-off-shoulder-crop-top-ruffle-puff-sleeve-blouse-with-ribbon-for-women-i967204330.html',\n",
       " 'https://www.lazada.com.ph/products/sasa-raglan-crop-top-two-tone-tops-i3155383880.html',\n",
       " 'https://www.lazada.com.ph/products/riya-fashion-wide-puff-sleeve-elegant-ladies-plain-knitted-slimming-crop-top-korean-style-square-neck-macaron-colors-summer-preppy-5089-i3027979928.html',\n",
       " 'https://www.lazada.com.ph/products/kathryntextured-knit-crop-tank-top-11326-i3432596238.html',\n",
       " 'https://www.lazada.com.ph/products/kathryn-korean-trend-long-sleeve-croptop-11176-i3429273242.html',\n",
       " 'https://www.lazada.com.ph/products/merly-longsleeve-croptop-i3165355996.html',\n",
       " 'https://www.lazada.com.ph/products/lacota-korean-style-printed-rainbow-butterfly-couple-t-shirt-sexy-crop-top-for-women-i1706034247.html',\n",
       " 'https://www.lazada.com.ph/products/mavie-knitted-croptop-i2317317148.html',\n",
       " 'https://www.lazada.com.ph/products/veronikka-eva-gingham-puff-sleeves-button-up-blouse-womens-croptop-small-to-medium-i342238940.html',\n",
       " 'https://www.lazada.com.ph/products/nancy-peplum-squareneck-crop-top-plain-and-polka-polkadots-i2143703590.html',\n",
       " 'https://www.lazada.com.ph/products/jazzie-knitted-croptop-florenzshop-i2736683385.html',\n",
       " 'https://www.lazada.com.ph/products/randomly-pack-croptop-i739094784.html',\n",
       " 'https://www.lazada.com.ph/products/cod-long-sleeve-v-neck-rib-knit-crop-top-new-trend-i3259903635.html',\n",
       " 'https://www.lazada.com.ph/products/reinna-crop-top-l-crepe-fabric-i2591194993.html',\n",
       " 'https://www.lazada.com.ph/products/riya-fashion-women-cute-flowers-design-fresh-elegant-semi-cropped-knitted-blouse-korean-style-5211-i3396549939.html',\n",
       " 'https://www.lazada.com.ph/products/tneck-mid-rib-crop-top-plainstripeanimal-print-i1849581429.html',\n",
       " 'https://www.lazada.com.ph/products/elite-squareneck-rib-knit-long-sleeve-croptop-for-womens-i3467388408.html',\n",
       " 'https://www.lazada.com.ph/products/inspi-bear-crop-top-for-women-minimalist-shirt-oversized-croptop-for-teens-aesthetic-korean-top-2022-i1166896644.html',\n",
       " 'https://www.lazada.com.ph/products/diya-korean-slim-high-rise-crop-t-shirt-d909-i525672773.html',\n",
       " 'https://www.lazada.com.ph/products/capin-collar-tops-short-sleeves-polo-crop-tops-knitted-collar-tops-i2440536791.html',\n",
       " 'https://www.lazada.com.ph/products/riya-fashion-casual-preppy-cropped-polo-shirt-stripe-knitted-blouse-latest-for-women-all-match-slim-fit-5215-i3477268727.html',\n",
       " 'https://www.lazada.com.ph/products/princess-collar-knitted-crop-top-i2284900294.html',\n",
       " 'https://www.lazada.com.ph/products/mskc-l-korean-letter-cropped-top-i3237336203.html',\n",
       " 'https://www.lazada.com.ph/products/riya-fashion-elegant-sweet-square-neck-knitted-blouse-see-through-embroideried-womens-leisure-semi-cropped-top-korean-style-5283-i3569664065.html',\n",
       " 'https://www.lazada.com.ph/products/riya-fashion-korean-style-off-shoulder-sexy-flare-sleeve-long-sleeved-slimming-cropped-blouse-crop-top-square-neck-5285-i3629473304.html',\n",
       " 'https://www.lazada.com.ph/products/round-neck-tops-plain-basic-crop-top-korean-fashion-blouse-ht-i2554648233.html',\n",
       " 'https://www.lazada.com.ph/products/diya-new-korean-style-heart-short-sleeved-stretchable-knitted-top-crop-top-i1871133080.html',\n",
       " 'https://www.lazada.com.ph/products/rhemzfashion-roundneck-kiss-mark-print-crop-top-fit-xs-to-small-i3333566928.html']"
      ]
     },
     "execution_count": 13,
     "metadata": {},
     "output_type": "execute_result"
    }
   ],
   "source": [
    "links"
   ]
  },
  {
   "cell_type": "code",
   "execution_count": 14,
   "metadata": {},
   "outputs": [
    {
     "name": "stdout",
     "output_type": "stream",
     "text": [
      "{'link': 'https://www.lazada.com.ph/products/rc-earth-tone-basic-round-neck-top-crop-top-fit-to-extra-small-to-smallcottonstretchable-knitted-i1803001979.html', 'productname': 'RC- Earth Tone Basic Round neck Top Crop top | Fit to extra small to small/cotton/stretchable| knitted', 'productprice': '₱48.15\\n₱170.00-72%', 'Location': 'Metro Manila~Quezon City, Quezon City, Project 6', 'sellerRatings': '96%', 'shopName': 'Sofia25clothing'}\n",
      "{'link': 'https://www.lazada.com.ph/products/kathryn-textured-knit-basic-squre-neck-top-daily-croptop-11330-i3458960691.html', 'productname': 'KATHRYN Textured Knit Basic Squre Neck Top Daily Croptop 11330#', 'productprice': '₱64.41\\n₱350.00-82%', 'Location': 'Metro Manila~Quezon City, Quezon City, Project 6', 'sellerRatings': '91%', 'shopName': 'Kathryn Clothing'}\n",
      "{'link': 'https://www.lazada.com.ph/products/jarosertw-square-neck-best-selling-k-fashion-croptop-i2715427695.html', 'productname': 'JaroseRTW Square neck Best Selling K-Fashion Croptop', 'productprice': '₱50.44\\n₱150.00-66%', 'Location': 'Metro Manila~Quezon City, Quezon City, Project 6', 'sellerRatings': '96%', 'shopName': 'JaRose RTW'}\n",
      "{'link': 'https://www.lazada.com.ph/products/veronikka-eva-plain-puff-sleeves-button-up-blouse-womens-croptop-xs-to-small-i342246772.html', 'productname': \"Veronikka [Eva] Plain Puff Sleeves Button Up Blouse / Women's CropTop XS to SMALL\", 'productprice': '₱97.51\\n₱500.00-80%', 'Location': 'Metro Manila~Quezon City, Quezon City, Project 6', 'sellerRatings': '96%', 'shopName': 'Veronikka'}\n",
      "{'link': 'https://www.lazada.com.ph/products/sasa-overlap-top-lettuce-knitted-v-neck-crop-tops-sophia-i3155390676.html', 'productname': 'SASA Overlap Top Lettuce Knitted V Neck Crop Tops SOPHIA', 'productprice': '₱53.91\\n₱150.00-64%', 'Location': 'Metro Manila~Quezon City, Quezon City, Project 6', 'sellerRatings': '94%', 'shopName': 'SaSa Fashion Shop'}\n",
      "{'link': 'https://www.lazada.com.ph/products/bny-ladies-sleeveless-high-neck-rib-cropped-top-209-i3530207298.html', 'productname': \"BNY LADIES' SLEEVELESS HIGH-NECK RIB CROPPED TOP (209)\", 'productprice': '₱247.00\\n₱349.00-29%', 'Location': 'Metro Manila~Quezon City, Quezon City, Project 6', 'sellerRatings': '98%', 'shopName': 'BNY'}\n",
      "{'link': 'https://www.lazada.com.ph/products/diya-beauty-womens-simple-fashion-long-sleeve-cardigan-crop-top-i1798185701.html', 'productname': \"Diya Beauty Women's Simple Fashion Long Sleeve Cardigan Crop Top\", 'productprice': '₱155.64\\n₱259.00-40%', 'Location': 'Metro Manila~Quezon City, Quezon City, Project 6', 'sellerRatings': '96%', 'shopName': 'Diya Stand'}\n",
      "{'link': 'https://www.lazada.com.ph/products/maylyn-choker-crop-top-i1914363786.html', 'productname': 'Maylyn Choker Crop Top', 'productprice': '₱56.14\\n₱99.00-43%', 'Location': 'Metro Manila~Quezon City, Quezon City, Project 6', 'sellerRatings': '94%', 'shopName': 'Beau Fashion Etc'}\n",
      "{'link': 'https://www.lazada.com.ph/products/kathryn-korean-top-puff-sleeve-off-shoulder-two-way-crop-top-11210-i3429224314.html', 'productname': 'Kathryn Korean Top Puff Sleeve Off Shoulder Two Way Crop top 11210#', 'productprice': '₱47.76\\n₱299.00-84%', 'Location': 'Metro Manila~Quezon City, Quezon City, Project 6', 'sellerRatings': '91%', 'shopName': 'Kathryn Clothing'}\n",
      "{'link': 'https://www.lazada.com.ph/products/kathryn-california-drawstring-side-crop-tee-11290-i3426153464.html', 'productname': 'Kathryn California Drawstring Side Crop Tee 11290#', 'productprice': '₱103.64\\n₱300.00-65%', 'Location': 'Metro Manila~Quezon City, Quezon City, Project 6', 'sellerRatings': '91%', 'shopName': 'Kathryn Clothing'}\n",
      "{'link': 'https://www.lazada.com.ph/products/niana-combi-croptop-i3263784532.html', 'productname': 'Niana Combi croptop', 'productprice': '₱58.52\\n₱150.00-61%', 'Location': 'Metro Manila~Quezon City, Quezon City, Project 6', 'sellerRatings': '96%', 'shopName': 'TaytayRTW'}\n",
      "{'link': 'https://www.lazada.com.ph/products/heart-off-shoulder-crop-top-i965456232.html', 'productname': 'Heart Off Shoulder Crop Top', 'productprice': '₱54.17\\n₱120.00-55%', 'Location': 'Metro Manila~Quezon City, Quezon City, Project 6', 'sellerRatings': '94%', 'shopName': 'Beau Fashion Etc'}\n",
      "{'link': 'https://www.lazada.com.ph/products/two-way-off-shoulder-crop-top-ruffle-puff-sleeve-blouse-with-ribbon-for-women-i967204330.html', 'productname': 'Two way off shoulder crop top ruffle puff sleeve blouse with ribbon for women', 'productprice': '₱263.13\\n₱300.00-12%', 'Location': 'Metro Manila~Quezon City, Quezon City, Project 6', 'sellerRatings': '94%', 'shopName': 'Real Kolections'}\n",
      "{'link': 'https://www.lazada.com.ph/products/sasa-raglan-crop-top-two-tone-tops-i3155383880.html', 'productname': 'SASA RAGLAN Crop Top Two Tone Tops', 'productprice': '₱43.07\\n₱150.00-71%', 'Location': 'Metro Manila~Quezon City, Quezon City, Project 6', 'sellerRatings': '94%', 'shopName': 'SaSa Fashion Shop'}\n",
      "{'link': 'https://www.lazada.com.ph/products/riya-fashion-wide-puff-sleeve-elegant-ladies-plain-knitted-slimming-crop-top-korean-style-square-neck-macaron-colors-summer-preppy-5089-i3027979928.html', 'productname': 'Riya Fashion wide puff sleeve elegant ladies plain knitted slimming crop top korean style square neck macaron colors summer preppy 5089', 'productprice': '₱248.00\\n₱599.00-59%', 'Location': 'Metro Manila~Quezon City, Quezon City, Project 6', 'sellerRatings': '97%', 'shopName': 'Riya Fashion Boutique'}\n",
      "{'link': 'https://www.lazada.com.ph/products/kathryntextured-knit-crop-tank-top-11326-i3432596238.html', 'productname': 'KathrynTextured Knit Crop Tank Top 11326#', 'productprice': '₱55.64\\n₱280.00-80%', 'Location': 'Metro Manila~Quezon City, Quezon City, Project 6', 'sellerRatings': '91%', 'shopName': 'Kathryn Clothing'}\n",
      "{'link': 'https://www.lazada.com.ph/products/kathryn-korean-trend-long-sleeve-croptop-11176-i3429273242.html', 'productname': 'Kathryn Korean Trend Long Sleeve Croptop 11176#', 'productprice': '₱61.51\\n₱299.00-79%', 'Location': 'Metro Manila~Quezon City, Quezon City, Project 6', 'sellerRatings': '91%', 'shopName': 'Kathryn Clothing'}\n",
      "{'link': 'https://www.lazada.com.ph/products/merly-longsleeve-croptop-i3165355996.html', 'productname': 'Merly Longsleeve croptop', 'productprice': '₱91.22\\n₱250.00-64%', 'Location': 'Metro Manila~Quezon City, Quezon City, Project 6', 'sellerRatings': '96%', 'shopName': 'TaytayRTW'}\n",
      "{'link': 'https://www.lazada.com.ph/products/lacota-korean-style-printed-rainbow-butterfly-couple-t-shirt-sexy-crop-top-for-women-i1706034247.html', 'productname': 'LACOTA Korean Style Printed Rainbow Butterfly Couple T-Shirt Sexy Crop Top For Women', 'productprice': '₱53.59\\n₱380.00-86%', 'Location': 'Metro Manila~Quezon City, Quezon City, Project 6', 'sellerRatings': '95%', 'shopName': 'Lacota Vogue Fashion Store'}\n",
      "{'link': 'https://www.lazada.com.ph/products/mavie-knitted-croptop-i2317317148.html', 'productname': 'Mavie knitted croptop', 'productprice': '₱53.22\\n₱150.00-65%', 'Location': 'Metro Manila~Quezon City, Quezon City, Project 6', 'sellerRatings': '96%', 'shopName': 'TaytayRTW'}\n",
      "{'link': 'https://www.lazada.com.ph/products/veronikka-eva-gingham-puff-sleeves-button-up-blouse-womens-croptop-small-to-medium-i342238940.html', 'productname': \"Veronikka Eva Gingham Puff Sleeves Button Up Blouse / Women's CropTop Small to Medium\", 'productprice': '₱78.21\\n₱500.00-84%', 'Location': 'Metro Manila~Quezon City, Quezon City, Project 6', 'sellerRatings': '96%', 'shopName': 'Veronikka'}\n",
      "{'link': 'https://www.lazada.com.ph/products/nancy-peplum-squareneck-crop-top-plain-and-polka-polkadots-i2143703590.html', 'productname': 'Nancy Peplum Squareneck Crop Top (Plain and Polka | Polkadots', 'productprice': '₱55.00\\n₱70.00-21%', 'Location': 'Metro Manila~Quezon City, Quezon City, Project 6', 'sellerRatings': '96%', 'shopName': 'comfabby.ph'}\n",
      "{'link': 'https://www.lazada.com.ph/products/jazzie-knitted-croptop-florenzshop-i2736683385.html', 'productname': 'Jazzie Knitted croptop // Florenzshop', 'productprice': '₱52.66\\n₱120.00-56%', 'Location': 'Metro Manila~Quezon City, Quezon City, Project 6', 'sellerRatings': '97%', 'shopName': 'florenzshop'}\n",
      "{'link': 'https://www.lazada.com.ph/products/randomly-pack-croptop-i739094784.html', 'productname': 'Randomly pack croptop', 'productprice': '₱41.75\\n₱199.00-79%', 'Location': 'Metro Manila~Quezon City, Quezon City, Project 6', 'sellerRatings': '96%', 'shopName': 'TaytayRTW'}\n",
      "{'link': 'https://www.lazada.com.ph/products/cod-long-sleeve-v-neck-rib-knit-crop-top-new-trend-i3259903635.html', 'productname': 'COD Long Sleeve V neck Rib Knit Crop Top New Trend', 'productprice': '₱59.78\\n₱250.00-76%', 'Location': 'Metro Manila~Quezon City, Quezon City, Project 6', 'sellerRatings': '96%', 'shopName': 'Blessed Fashion'}\n",
      "{'link': 'https://www.lazada.com.ph/products/reinna-crop-top-l-crepe-fabric-i2591194993.html', 'productname': 'Reinna Crop Top l Crepe Fabric', 'productprice': '₱53.30\\n₱55.00-3%', 'Location': 'Metro Manila~Quezon City, Quezon City, Project 6', 'sellerRatings': '96%', 'shopName': 'Zamarah Clothing'}\n",
      "{'link': 'https://www.lazada.com.ph/products/riya-fashion-women-cute-flowers-design-fresh-elegant-semi-cropped-knitted-blouse-korean-style-5211-i3396549939.html', 'productname': 'Riya Fashion women cute flowers design fresh elegant semi cropped knitted blouse korean style 5211', 'productprice': '₱239.00\\n₱599.00-60%', 'Location': 'Metro Manila~Quezon City, Quezon City, Project 6', 'sellerRatings': '97%', 'shopName': 'Riya Fashion Boutique'}\n",
      "{'link': 'https://www.lazada.com.ph/products/tneck-mid-rib-crop-top-plainstripeanimal-print-i1849581429.html', 'productname': 'Tneck MID Rib Crop Top (plain,stripe,animal print)', 'productprice': '₱51.65\\n₱55.00-6%', 'Location': 'Metro Manila~Quezon City, Quezon City, Project 6', 'sellerRatings': '96%', 'shopName': 'Zamarah Clothing'}\n",
      "{'link': 'https://www.lazada.com.ph/products/elite-squareneck-rib-knit-long-sleeve-croptop-for-womens-i3467388408.html', 'productname': 'Elite Squareneck Rib Knit Long Sleeve Croptop for Womens', 'productprice': '₱69.00', 'Location': 'Metro Manila~Quezon City, Quezon City, Project 6', 'sellerRatings': '98%', 'shopName': 'Elite Shop Manila'}\n",
      "{'link': 'https://www.lazada.com.ph/products/inspi-bear-crop-top-for-women-minimalist-shirt-oversized-croptop-for-teens-aesthetic-korean-top-2022-i1166896644.html', 'productname': 'INSPI Bear Crop Top for Women Minimalist Shirt Oversized Croptop for Teens Aesthetic Korean Top 2022', 'productprice': '₱229.00\\n₱400.00-43%', 'Location': 'Metro Manila~Quezon City, Quezon City, Project 6', 'sellerRatings': '96%', 'shopName': 'inspi'}\n",
      "{'link': 'https://www.lazada.com.ph/products/diya-korean-slim-high-rise-crop-t-shirt-d909-i525672773.html', 'productname': 'Diya-Korean slim high-rise Crop T-shirt D909', 'productprice': '₱139.00\\n₱220.00-37%', 'Location': 'Metro Manila~Quezon City, Quezon City, Project 6', 'sellerRatings': '96%', 'shopName': 'Diya Stand'}\n",
      "{'link': 'https://www.lazada.com.ph/products/capin-collar-tops-short-sleeves-polo-crop-tops-knitted-collar-tops-i2440536791.html', 'productname': 'CAPIN Collar Tops Short Sleeves Polo Crop Tops Knitted Collar Tops', 'productprice': '₱50.79\\n₱209.00-76%', 'Location': 'Metro Manila~Quezon City, Quezon City, Project 6', 'sellerRatings': '93%', 'shopName': 'CAP IN'}\n",
      "{'link': 'https://www.lazada.com.ph/products/riya-fashion-casual-preppy-cropped-polo-shirt-stripe-knitted-blouse-latest-for-women-all-match-slim-fit-5215-i3477268727.html', 'productname': 'Riya Fashion casual preppy cropped polo shirt stripe knitted blouse latest for women all match slim fit 5215', 'productprice': '₱196.00\\n₱599.00-67%', 'Location': 'Metro Manila~Quezon City, Quezon City, Project 6', 'sellerRatings': '97%', 'shopName': 'Riya Fashion Boutique'}\n",
      "{'link': 'https://www.lazada.com.ph/products/princess-collar-knitted-crop-top-i2284900294.html', 'productname': 'Princess Collar Knitted Crop Top', 'productprice': '₱51.99\\n₱55.00-5%', 'Location': 'Metro Manila~Quezon City, Quezon City, Project 6', 'sellerRatings': '96%', 'shopName': 'Zamarah Clothing'}\n",
      "{'link': 'https://www.lazada.com.ph/products/mskc-l-korean-letter-cropped-top-i3237336203.html', 'productname': 'MSKC l KOREAN LETTER CROPPED TOP', 'productprice': '₱89.15\\n₱110.00-19%', 'Location': 'Metro Manila~Quezon City, Quezon City, Project 6', 'sellerRatings': '97%', 'shopName': 'DAILYTEES'}\n",
      "{'link': 'https://www.lazada.com.ph/products/riya-fashion-elegant-sweet-square-neck-knitted-blouse-see-through-embroideried-womens-leisure-semi-cropped-top-korean-style-5283-i3569664065.html', 'productname': \"Riya Fashion Elegant Sweet Square Neck Knitted blouse see through Embroideried Women's Leisure semi cropped Top korean style 5283\", 'productprice': '₱196.00\\n₱499.00-61%', 'Location': 'Metro Manila~Quezon City, Quezon City, Project 6', 'sellerRatings': '97%', 'shopName': 'Riya Fashion Boutique'}\n",
      "{'link': 'https://www.lazada.com.ph/products/riya-fashion-korean-style-off-shoulder-sexy-flare-sleeve-long-sleeved-slimming-cropped-blouse-crop-top-square-neck-5285-i3629473304.html', 'productname': 'Riya Fashion korean style Off shoulder sexy flare sleeve long sleeved slimming cropped blouse crop top square neck 5285', 'productprice': '₱289.00\\n₱699.00-59%', 'Location': 'Metro Manila~Quezon City, Quezon City, Project 6', 'sellerRatings': '97%', 'shopName': 'Riya Fashion Boutique'}\n",
      "{'link': 'https://www.lazada.com.ph/products/round-neck-tops-plain-basic-crop-top-korean-fashion-blouse-ht-i2554648233.html', 'productname': 'Round neck Tops Plain Basic Crop Top Korean Fashion Blouse H&T', 'productprice': '₱40.38\\n₱100.00-60%', 'Location': 'Metro Manila~Quezon City, Quezon City, Project 6', 'sellerRatings': '91%', 'shopName': 'H&T.Jeans'}\n",
      "{'link': 'https://www.lazada.com.ph/products/diya-new-korean-style-heart-short-sleeved-stretchable-knitted-top-crop-top-i1871133080.html', 'productname': 'Diya New Korean Style Heart Short-sleeved Stretchable Knitted top Crop TOP', 'productprice': '₱165.00\\n₱259.00-36%', 'Location': 'Metro Manila~Quezon City, Quezon City, Project 6', 'sellerRatings': '96%', 'shopName': 'Diya Stand'}\n",
      "{'link': 'https://www.lazada.com.ph/products/rhemzfashion-roundneck-kiss-mark-print-crop-top-fit-xs-to-small-i3333566928.html', 'productname': 'Rhemzfashion Roundneck Kiss Mark Print Crop Top Fit Xs to Small', 'productprice': '₱48.00\\n₱170.00-72%', 'Location': 'Metro Manila~Quezon City, Quezon City, Project 6', 'sellerRatings': '95%', 'shopName': 'Rhemz Online fashion'}\n"
     ]
    }
   ],
   "source": [
    "for d in details:\n",
    "    print(d)"
   ]
  },
  {
   "cell_type": "code",
   "execution_count": 5,
   "metadata": {},
   "outputs": [],
   "source": [
    "#to get\n",
    "\n",
    "#title - _44qnta\n",
    "#price - pqTWkA\n",
    "#rating - _1k47d8 _046PXf\n",
    "#sold - P3CdcB\n",
    "#available - walang class name\n",
    "#shop - VlDReK\n",
    "#ship_to - jqPI6Z\n",
    "#shipping_fee - IwHyBY\n",
    "#customer_rating - hirap hehe\n",
    "#product_time - shopee-product-rating__time\n",
    "#"
   ]
  },
  {
   "cell_type": "code",
   "execution_count": 6,
   "metadata": {},
   "outputs": [],
   "source": [
    "# details = [];\n",
    "# # plinks = [];\n",
    "# # pname = [];\n",
    "# # pprice = [];\n",
    "# # prating = [];\n",
    "# # pnorating = [];\n",
    "# # psold = [];\n",
    "\n",
    "# for link in links: \n",
    "#     driver.get(link);\n",
    "#     WebDriverWait(driver,10).until(EC.presence_of_element_located((By.CSS_SELECTOR,\"._44qnta > span\")));\n",
    "    \n",
    "#     # time.sleep(4);\n",
    "#     df = {};\n",
    "#     df['link'] = link;  \n",
    "#     df['productname'] = driver.find_element(By.CSS_SELECTOR,\"._44qnta > span\").text.strip()\n",
    "#     df['productprice'] = driver.find_element(By.CLASS_NAME,\"pqTWkA\").text.strip()\n",
    "#     df['productRating'] = driver.find_element(By.CSS_SELECTOR,\"._1k47d8 _046PXf > div\").text.strip()\n",
    "#     df['shopRatings'] = driver.find_element(By.CLASS_NAME,\"_1k47d8\").text.strip()\n",
    "#     df['noofSold'] = driver.find_element(By.CLASS_NAME,\"P3CdcB\").text.strip()\n",
    "#     df['shopName'] = driver.find_element(By.CLASS_NAME,\"VlDReK\").text.strip()\n",
    "#     df['shipTo'] = driver.find_element(By.CLASS_NAME,\"jqPI6Z\").text.strip()\n",
    "#     # df['shippingFee'] = driver.find_element(By.CLASS_NAME,\"IwHyBY\").text.strip()\n",
    "    \n",
    "    \n",
    "#     details.append(df);\n",
    "\n",
    "# print(details);\n",
    "# #     plinks.append(link);\n",
    "# #     pname.append(driver.find_element(By.CSS_SELECTOR,\"._44qnta > span\").text.strip())\n",
    "# #     pprice.append(driver.find_element(By.CLASS_NAME,\"pqTWkA\").text.strip())\n",
    "# #     prating.append(driver.find_element(By.CLASS_NAME,\"_1k47d8 _046PXf\").text.strip())\n",
    "# #     pnorating.append(driver.find_element(By.CLASS_NAME,\"_1k47d8\").text.strip())\n",
    "# #     psold.append(driver.find_element(By.CLASS_NAME,\"P3CdcB\").text.strip())\n",
    "    \n",
    "#     # df = pd.DataFrame({\n",
    "#         # 'links' : plinks;\n",
    "#         # 'productname' : pname;\n",
    "#         # 'price' : pprice;\n",
    "#         # 'productrating' : prating;\n",
    "#         # 'noofrating' : pnorating;\n",
    "#         # 'noofsold' : psold;\n",
    "#     # })\n",
    "    "
   ]
  },
  {
   "cell_type": "code",
   "execution_count": 7,
   "metadata": {},
   "outputs": [],
   "source": [
    "# for d in details:\n",
    "#     print(d)"
   ]
  },
  {
   "cell_type": "code",
   "execution_count": 8,
   "metadata": {},
   "outputs": [],
   "source": [
    "# element = driver.find_element(By.CLASS_NAME, \"IwHyBY\")\n",
    "# title = element.get_attribute(\"title\")\n",
    "# df['shippingFee'] = title.strip()"
   ]
  },
  {
   "cell_type": "code",
   "execution_count": 9,
   "metadata": {},
   "outputs": [],
   "source": [
    "# elements = driver.find_elements(By.CLASS_NAME,\"Xkm22X\")\n",
    "\n",
    "# stripped_elements = []\n",
    "# for element in elements:\n",
    "#     stripped_elements.append(element.text.strip())\n",
    "\n",
    "# print(stripped_elements)"
   ]
  },
  {
   "cell_type": "code",
   "execution_count": null,
   "metadata": {},
   "outputs": [],
   "source": []
  }
 ],
 "metadata": {
  "kernelspec": {
   "display_name": "base",
   "language": "python",
   "name": "python3"
  },
  "language_info": {
   "codemirror_mode": {
    "name": "ipython",
    "version": 3
   },
   "file_extension": ".py",
   "mimetype": "text/x-python",
   "name": "python",
   "nbconvert_exporter": "python",
   "pygments_lexer": "ipython3",
   "version": "3.9.13"
  },
  "orig_nbformat": 4
 },
 "nbformat": 4,
 "nbformat_minor": 2
}
