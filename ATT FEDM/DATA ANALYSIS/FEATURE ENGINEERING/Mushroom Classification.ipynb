{
 "cells": [
  {
   "cell_type": "markdown",
   "id": "61bba649",
   "metadata": {
    "id": "61bba649"
   },
   "source": [
    "## Mushroom Classification\n",
    "The goal of this activity is to create a model that predicts whether the mushroom is edible or not"
   ]
  },
  {
   "cell_type": "markdown",
   "id": "721dcd42",
   "metadata": {
    "id": "721dcd42"
   },
   "source": [
    "* 1.1 Exploration of Data"
   ]
  },
  {
   "cell_type": "code",
   "execution_count": 1,
   "id": "368d7735",
   "metadata": {
    "executionInfo": {
     "elapsed": 495,
     "status": "ok",
     "timestamp": 1681519706165,
     "user": {
      "displayName": "Bill Jericko Mercado",
      "userId": "12923505684249867943"
     },
     "user_tz": -480
    },
    "id": "368d7735"
   },
   "outputs": [],
   "source": [
    "import numpy as np;\n",
    "import pandas as pd;\n",
    "import matplotlib.pyplot as plt;\n",
    "import seaborn as sns;"
   ]
  },
  {
   "cell_type": "code",
   "execution_count": 2,
   "id": "36885407",
   "metadata": {
    "executionInfo": {
     "elapsed": 12,
     "status": "ok",
     "timestamp": 1681519706840,
     "user": {
      "displayName": "Bill Jericko Mercado",
      "userId": "12923505684249867943"
     },
     "user_tz": -480
    },
    "id": "36885407"
   },
   "outputs": [
    {
     "ename": "FileNotFoundError",
     "evalue": "[Errno 2] No such file or directory: 'mushrooms.csv'",
     "output_type": "error",
     "traceback": [
      "\u001b[1;31m---------------------------------------------------------------------------\u001b[0m",
      "\u001b[1;31mFileNotFoundError\u001b[0m                         Traceback (most recent call last)",
      "\u001b[1;32m~\\AppData\\Local\\Temp\\ipykernel_17716\\1197904075.py\u001b[0m in \u001b[0;36m<module>\u001b[1;34m\u001b[0m\n\u001b[1;32m----> 1\u001b[1;33m \u001b[0mdf\u001b[0m \u001b[1;33m=\u001b[0m \u001b[0mpd\u001b[0m\u001b[1;33m.\u001b[0m\u001b[0mread_csv\u001b[0m\u001b[1;33m(\u001b[0m\u001b[1;34m'mushrooms.csv'\u001b[0m\u001b[1;33m)\u001b[0m\u001b[1;33m\u001b[0m\u001b[1;33m\u001b[0m\u001b[0m\n\u001b[0m",
      "\u001b[1;32mC:\\ProgramData\\Anaconda3\\lib\\site-packages\\pandas\\util\\_decorators.py\u001b[0m in \u001b[0;36mwrapper\u001b[1;34m(*args, **kwargs)\u001b[0m\n\u001b[0;32m    309\u001b[0m                     \u001b[0mstacklevel\u001b[0m\u001b[1;33m=\u001b[0m\u001b[0mstacklevel\u001b[0m\u001b[1;33m,\u001b[0m\u001b[1;33m\u001b[0m\u001b[1;33m\u001b[0m\u001b[0m\n\u001b[0;32m    310\u001b[0m                 )\n\u001b[1;32m--> 311\u001b[1;33m             \u001b[1;32mreturn\u001b[0m \u001b[0mfunc\u001b[0m\u001b[1;33m(\u001b[0m\u001b[1;33m*\u001b[0m\u001b[0margs\u001b[0m\u001b[1;33m,\u001b[0m \u001b[1;33m**\u001b[0m\u001b[0mkwargs\u001b[0m\u001b[1;33m)\u001b[0m\u001b[1;33m\u001b[0m\u001b[1;33m\u001b[0m\u001b[0m\n\u001b[0m\u001b[0;32m    312\u001b[0m \u001b[1;33m\u001b[0m\u001b[0m\n\u001b[0;32m    313\u001b[0m         \u001b[1;32mreturn\u001b[0m \u001b[0mwrapper\u001b[0m\u001b[1;33m\u001b[0m\u001b[1;33m\u001b[0m\u001b[0m\n",
      "\u001b[1;32mC:\\ProgramData\\Anaconda3\\lib\\site-packages\\pandas\\io\\parsers\\readers.py\u001b[0m in \u001b[0;36mread_csv\u001b[1;34m(filepath_or_buffer, sep, delimiter, header, names, index_col, usecols, squeeze, prefix, mangle_dupe_cols, dtype, engine, converters, true_values, false_values, skipinitialspace, skiprows, skipfooter, nrows, na_values, keep_default_na, na_filter, verbose, skip_blank_lines, parse_dates, infer_datetime_format, keep_date_col, date_parser, dayfirst, cache_dates, iterator, chunksize, compression, thousands, decimal, lineterminator, quotechar, quoting, doublequote, escapechar, comment, encoding, encoding_errors, dialect, error_bad_lines, warn_bad_lines, on_bad_lines, delim_whitespace, low_memory, memory_map, float_precision, storage_options)\u001b[0m\n\u001b[0;32m    676\u001b[0m     \u001b[0mkwds\u001b[0m\u001b[1;33m.\u001b[0m\u001b[0mupdate\u001b[0m\u001b[1;33m(\u001b[0m\u001b[0mkwds_defaults\u001b[0m\u001b[1;33m)\u001b[0m\u001b[1;33m\u001b[0m\u001b[1;33m\u001b[0m\u001b[0m\n\u001b[0;32m    677\u001b[0m \u001b[1;33m\u001b[0m\u001b[0m\n\u001b[1;32m--> 678\u001b[1;33m     \u001b[1;32mreturn\u001b[0m \u001b[0m_read\u001b[0m\u001b[1;33m(\u001b[0m\u001b[0mfilepath_or_buffer\u001b[0m\u001b[1;33m,\u001b[0m \u001b[0mkwds\u001b[0m\u001b[1;33m)\u001b[0m\u001b[1;33m\u001b[0m\u001b[1;33m\u001b[0m\u001b[0m\n\u001b[0m\u001b[0;32m    679\u001b[0m \u001b[1;33m\u001b[0m\u001b[0m\n\u001b[0;32m    680\u001b[0m \u001b[1;33m\u001b[0m\u001b[0m\n",
      "\u001b[1;32mC:\\ProgramData\\Anaconda3\\lib\\site-packages\\pandas\\io\\parsers\\readers.py\u001b[0m in \u001b[0;36m_read\u001b[1;34m(filepath_or_buffer, kwds)\u001b[0m\n\u001b[0;32m    573\u001b[0m \u001b[1;33m\u001b[0m\u001b[0m\n\u001b[0;32m    574\u001b[0m     \u001b[1;31m# Create the parser.\u001b[0m\u001b[1;33m\u001b[0m\u001b[1;33m\u001b[0m\u001b[0m\n\u001b[1;32m--> 575\u001b[1;33m     \u001b[0mparser\u001b[0m \u001b[1;33m=\u001b[0m \u001b[0mTextFileReader\u001b[0m\u001b[1;33m(\u001b[0m\u001b[0mfilepath_or_buffer\u001b[0m\u001b[1;33m,\u001b[0m \u001b[1;33m**\u001b[0m\u001b[0mkwds\u001b[0m\u001b[1;33m)\u001b[0m\u001b[1;33m\u001b[0m\u001b[1;33m\u001b[0m\u001b[0m\n\u001b[0m\u001b[0;32m    576\u001b[0m \u001b[1;33m\u001b[0m\u001b[0m\n\u001b[0;32m    577\u001b[0m     \u001b[1;32mif\u001b[0m \u001b[0mchunksize\u001b[0m \u001b[1;32mor\u001b[0m \u001b[0miterator\u001b[0m\u001b[1;33m:\u001b[0m\u001b[1;33m\u001b[0m\u001b[1;33m\u001b[0m\u001b[0m\n",
      "\u001b[1;32mC:\\ProgramData\\Anaconda3\\lib\\site-packages\\pandas\\io\\parsers\\readers.py\u001b[0m in \u001b[0;36m__init__\u001b[1;34m(self, f, engine, **kwds)\u001b[0m\n\u001b[0;32m    930\u001b[0m \u001b[1;33m\u001b[0m\u001b[0m\n\u001b[0;32m    931\u001b[0m         \u001b[0mself\u001b[0m\u001b[1;33m.\u001b[0m\u001b[0mhandles\u001b[0m\u001b[1;33m:\u001b[0m \u001b[0mIOHandles\u001b[0m \u001b[1;33m|\u001b[0m \u001b[1;32mNone\u001b[0m \u001b[1;33m=\u001b[0m \u001b[1;32mNone\u001b[0m\u001b[1;33m\u001b[0m\u001b[1;33m\u001b[0m\u001b[0m\n\u001b[1;32m--> 932\u001b[1;33m         \u001b[0mself\u001b[0m\u001b[1;33m.\u001b[0m\u001b[0m_engine\u001b[0m \u001b[1;33m=\u001b[0m \u001b[0mself\u001b[0m\u001b[1;33m.\u001b[0m\u001b[0m_make_engine\u001b[0m\u001b[1;33m(\u001b[0m\u001b[0mf\u001b[0m\u001b[1;33m,\u001b[0m \u001b[0mself\u001b[0m\u001b[1;33m.\u001b[0m\u001b[0mengine\u001b[0m\u001b[1;33m)\u001b[0m\u001b[1;33m\u001b[0m\u001b[1;33m\u001b[0m\u001b[0m\n\u001b[0m\u001b[0;32m    933\u001b[0m \u001b[1;33m\u001b[0m\u001b[0m\n\u001b[0;32m    934\u001b[0m     \u001b[1;32mdef\u001b[0m \u001b[0mclose\u001b[0m\u001b[1;33m(\u001b[0m\u001b[0mself\u001b[0m\u001b[1;33m)\u001b[0m\u001b[1;33m:\u001b[0m\u001b[1;33m\u001b[0m\u001b[1;33m\u001b[0m\u001b[0m\n",
      "\u001b[1;32mC:\\ProgramData\\Anaconda3\\lib\\site-packages\\pandas\\io\\parsers\\readers.py\u001b[0m in \u001b[0;36m_make_engine\u001b[1;34m(self, f, engine)\u001b[0m\n\u001b[0;32m   1214\u001b[0m             \u001b[1;31m# \"Union[str, PathLike[str], ReadCsvBuffer[bytes], ReadCsvBuffer[str]]\"\u001b[0m\u001b[1;33m\u001b[0m\u001b[1;33m\u001b[0m\u001b[0m\n\u001b[0;32m   1215\u001b[0m             \u001b[1;31m# , \"str\", \"bool\", \"Any\", \"Any\", \"Any\", \"Any\", \"Any\"\u001b[0m\u001b[1;33m\u001b[0m\u001b[1;33m\u001b[0m\u001b[0m\n\u001b[1;32m-> 1216\u001b[1;33m             self.handles = get_handle(  # type: ignore[call-overload]\n\u001b[0m\u001b[0;32m   1217\u001b[0m                 \u001b[0mf\u001b[0m\u001b[1;33m,\u001b[0m\u001b[1;33m\u001b[0m\u001b[1;33m\u001b[0m\u001b[0m\n\u001b[0;32m   1218\u001b[0m                 \u001b[0mmode\u001b[0m\u001b[1;33m,\u001b[0m\u001b[1;33m\u001b[0m\u001b[1;33m\u001b[0m\u001b[0m\n",
      "\u001b[1;32mC:\\ProgramData\\Anaconda3\\lib\\site-packages\\pandas\\io\\common.py\u001b[0m in \u001b[0;36mget_handle\u001b[1;34m(path_or_buf, mode, encoding, compression, memory_map, is_text, errors, storage_options)\u001b[0m\n\u001b[0;32m    784\u001b[0m         \u001b[1;32mif\u001b[0m \u001b[0mioargs\u001b[0m\u001b[1;33m.\u001b[0m\u001b[0mencoding\u001b[0m \u001b[1;32mand\u001b[0m \u001b[1;34m\"b\"\u001b[0m \u001b[1;32mnot\u001b[0m \u001b[1;32min\u001b[0m \u001b[0mioargs\u001b[0m\u001b[1;33m.\u001b[0m\u001b[0mmode\u001b[0m\u001b[1;33m:\u001b[0m\u001b[1;33m\u001b[0m\u001b[1;33m\u001b[0m\u001b[0m\n\u001b[0;32m    785\u001b[0m             \u001b[1;31m# Encoding\u001b[0m\u001b[1;33m\u001b[0m\u001b[1;33m\u001b[0m\u001b[0m\n\u001b[1;32m--> 786\u001b[1;33m             handle = open(\n\u001b[0m\u001b[0;32m    787\u001b[0m                 \u001b[0mhandle\u001b[0m\u001b[1;33m,\u001b[0m\u001b[1;33m\u001b[0m\u001b[1;33m\u001b[0m\u001b[0m\n\u001b[0;32m    788\u001b[0m                 \u001b[0mioargs\u001b[0m\u001b[1;33m.\u001b[0m\u001b[0mmode\u001b[0m\u001b[1;33m,\u001b[0m\u001b[1;33m\u001b[0m\u001b[1;33m\u001b[0m\u001b[0m\n",
      "\u001b[1;31mFileNotFoundError\u001b[0m: [Errno 2] No such file or directory: 'mushrooms.csv'"
     ]
    }
   ],
   "source": [
    "df = pd.read_csv('mushrooms.csv')"
   ]
  },
  {
   "cell_type": "code",
   "execution_count": null,
   "id": "f9afe617",
   "metadata": {
    "colab": {
     "base_uri": "https://localhost:8080/",
     "height": 332
    },
    "executionInfo": {
     "elapsed": 12,
     "status": "ok",
     "timestamp": 1681519706841,
     "user": {
      "displayName": "Bill Jericko Mercado",
      "userId": "12923505684249867943"
     },
     "user_tz": -480
    },
    "id": "f9afe617",
    "outputId": "9674434b-56ab-4225-ca1f-68adac142f48"
   },
   "outputs": [],
   "source": [
    "df.head(5)"
   ]
  },
  {
   "cell_type": "code",
   "execution_count": null,
   "id": "f64d6bf9",
   "metadata": {
    "colab": {
     "base_uri": "https://localhost:8080/"
    },
    "executionInfo": {
     "elapsed": 10,
     "status": "ok",
     "timestamp": 1681519706841,
     "user": {
      "displayName": "Bill Jericko Mercado",
      "userId": "12923505684249867943"
     },
     "user_tz": -480
    },
    "id": "f64d6bf9",
    "outputId": "40a21df7-d5d7-48d4-f318-c1a4b2e4c09e"
   },
   "outputs": [],
   "source": [
    "df['class'].value_counts()"
   ]
  },
  {
   "cell_type": "markdown",
   "id": "98fa1bc3",
   "metadata": {
    "id": "98fa1bc3"
   },
   "source": [
    "#### 2. Data Pre-processing"
   ]
  },
  {
   "cell_type": "markdown",
   "id": "a183aedc",
   "metadata": {
    "id": "a183aedc"
   },
   "source": [
    "* 2.1. Data Cleaning"
   ]
  },
  {
   "cell_type": "markdown",
   "id": "2788233a",
   "metadata": {
    "id": "2788233a"
   },
   "source": [
    "* 2.1.1. Drop Duplicates"
   ]
  },
  {
   "cell_type": "code",
   "execution_count": null,
   "id": "a5575853",
   "metadata": {
    "colab": {
     "base_uri": "https://localhost:8080/"
    },
    "executionInfo": {
     "elapsed": 6,
     "status": "ok",
     "timestamp": 1681519706841,
     "user": {
      "displayName": "Bill Jericko Mercado",
      "userId": "12923505684249867943"
     },
     "user_tz": -480
    },
    "id": "a5575853",
    "outputId": "01408008-06f7-43bd-d582-93cbac7774e3"
   },
   "outputs": [],
   "source": [
    "#check the shape of our data frame\n",
    "df.shape"
   ]
  },
  {
   "cell_type": "code",
   "execution_count": null,
   "id": "11d62507",
   "metadata": {
    "executionInfo": {
     "elapsed": 6,
     "status": "ok",
     "timestamp": 1681519706842,
     "user": {
      "displayName": "Bill Jericko Mercado",
      "userId": "12923505684249867943"
     },
     "user_tz": -480
    },
    "id": "11d62507"
   },
   "outputs": [],
   "source": [
    "df.drop_duplicates(inplace=True)"
   ]
  },
  {
   "cell_type": "code",
   "execution_count": null,
   "id": "51d5da88",
   "metadata": {
    "colab": {
     "base_uri": "https://localhost:8080/"
    },
    "executionInfo": {
     "elapsed": 6,
     "status": "ok",
     "timestamp": 1681519706843,
     "user": {
      "displayName": "Bill Jericko Mercado",
      "userId": "12923505684249867943"
     },
     "user_tz": -480
    },
    "id": "51d5da88",
    "outputId": "f2b30f5a-a7c2-4c72-c653-feb3f9922065"
   },
   "outputs": [],
   "source": [
    "df.shape"
   ]
  },
  {
   "cell_type": "markdown",
   "id": "29a452c6",
   "metadata": {
    "id": "29a452c6"
   },
   "source": [
    "* 2.1.2. Fill in missing values"
   ]
  },
  {
   "cell_type": "code",
   "execution_count": null,
   "id": "b852ab77",
   "metadata": {
    "colab": {
     "base_uri": "https://localhost:8080/"
    },
    "executionInfo": {
     "elapsed": 14,
     "status": "ok",
     "timestamp": 1681519707935,
     "user": {
      "displayName": "Bill Jericko Mercado",
      "userId": "12923505684249867943"
     },
     "user_tz": -480
    },
    "id": "b852ab77",
    "outputId": "364822c4-ba0d-4898-fa06-ff9cd4279a4f"
   },
   "outputs": [],
   "source": [
    "df.isna().sum()"
   ]
  },
  {
   "cell_type": "markdown",
   "id": "3216430e",
   "metadata": {
    "id": "3216430e"
   },
   "source": [
    "We can see that the dataset does not have any missing values in any of its features"
   ]
  },
  {
   "cell_type": "markdown",
   "id": "04ba6beb",
   "metadata": {
    "id": "04ba6beb"
   },
   "source": [
    "* 2.1.3. Removing extreme values"
   ]
  },
  {
   "cell_type": "code",
   "execution_count": null,
   "id": "00e8ae3b",
   "metadata": {
    "colab": {
     "base_uri": "https://localhost:8080/"
    },
    "executionInfo": {
     "elapsed": 10,
     "status": "ok",
     "timestamp": 1681519707935,
     "user": {
      "displayName": "Bill Jericko Mercado",
      "userId": "12923505684249867943"
     },
     "user_tz": -480
    },
    "id": "00e8ae3b",
    "outputId": "0803c228-fcc7-4c14-c5c8-048ab4336de3"
   },
   "outputs": [],
   "source": [
    "df.dtypes"
   ]
  },
  {
   "cell_type": "markdown",
   "id": "95ed94eb",
   "metadata": {
    "id": "95ed94eb"
   },
   "source": [
    "Since we do not have any numerical features, we will skip the \"removing of extreme values\" step."
   ]
  },
  {
   "cell_type": "markdown",
   "id": "1962bcba",
   "metadata": {
    "id": "1962bcba"
   },
   "source": [
    "* 2.2. Converting categorical features into numerical features"
   ]
  },
  {
   "cell_type": "code",
   "execution_count": null,
   "id": "7c14abd2",
   "metadata": {
    "executionInfo": {
     "elapsed": 8,
     "status": "ok",
     "timestamp": 1681519707935,
     "user": {
      "displayName": "Bill Jericko Mercado",
      "userId": "12923505684249867943"
     },
     "user_tz": -480
    },
    "id": "7c14abd2"
   },
   "outputs": [],
   "source": [
    "from sklearn.preprocessing import LabelEncoder"
   ]
  },
  {
   "cell_type": "code",
   "execution_count": null,
   "id": "31076972",
   "metadata": {
    "executionInfo": {
     "elapsed": 8,
     "status": "ok",
     "timestamp": 1681519707935,
     "user": {
      "displayName": "Bill Jericko Mercado",
      "userId": "12923505684249867943"
     },
     "user_tz": -480
    },
    "id": "31076972"
   },
   "outputs": [],
   "source": [
    "encoder = LabelEncoder();\n",
    "df_new = df.copy();"
   ]
  },
  {
   "cell_type": "code",
   "execution_count": null,
   "id": "de96bcb9",
   "metadata": {
    "executionInfo": {
     "elapsed": 9,
     "status": "ok",
     "timestamp": 1681519707936,
     "user": {
      "displayName": "Bill Jericko Mercado",
      "userId": "12923505684249867943"
     },
     "user_tz": -480
    },
    "id": "de96bcb9"
   },
   "outputs": [],
   "source": [
    "for col in df_new.columns:\n",
    "    if(col != 'class'):\n",
    "        df_new[col] = encoder.fit_transform(df_new[col]);"
   ]
  },
  {
   "cell_type": "code",
   "execution_count": null,
   "id": "16f6c084",
   "metadata": {
    "executionInfo": {
     "elapsed": 9,
     "status": "ok",
     "timestamp": 1681519707936,
     "user": {
      "displayName": "Bill Jericko Mercado",
      "userId": "12923505684249867943"
     },
     "user_tz": -480
    },
    "id": "16f6c084"
   },
   "outputs": [],
   "source": [
    "df_new['class'] = np.where(df_new['class'] == 'p',1,0)"
   ]
  },
  {
   "cell_type": "code",
   "execution_count": null,
   "id": "86d5dd19",
   "metadata": {
    "colab": {
     "base_uri": "https://localhost:8080/"
    },
    "executionInfo": {
     "elapsed": 8,
     "status": "ok",
     "timestamp": 1681519707936,
     "user": {
      "displayName": "Bill Jericko Mercado",
      "userId": "12923505684249867943"
     },
     "user_tz": -480
    },
    "id": "86d5dd19",
    "outputId": "628daf7d-652a-4bdd-b324-4545451c3955"
   },
   "outputs": [],
   "source": [
    "df_new.dtypes"
   ]
  },
  {
   "cell_type": "markdown",
   "id": "f167095c",
   "metadata": {
    "id": "f167095c"
   },
   "source": [
    "* 2.3 Data Normalization / Feature Scaling"
   ]
  },
  {
   "cell_type": "code",
   "execution_count": null,
   "id": "f7cf5a92",
   "metadata": {
    "executionInfo": {
     "elapsed": 7,
     "status": "ok",
     "timestamp": 1681519707936,
     "user": {
      "displayName": "Bill Jericko Mercado",
      "userId": "12923505684249867943"
     },
     "user_tz": -480
    },
    "id": "f7cf5a92"
   },
   "outputs": [],
   "source": [
    "from sklearn.preprocessing import MinMaxScaler\n",
    "\n",
    "df_scaled = df_new.copy();\n",
    "scaler = MinMaxScaler();"
   ]
  },
  {
   "cell_type": "code",
   "execution_count": null,
   "id": "fb0f2ff8",
   "metadata": {
    "executionInfo": {
     "elapsed": 7,
     "status": "ok",
     "timestamp": 1681519707936,
     "user": {
      "displayName": "Bill Jericko Mercado",
      "userId": "12923505684249867943"
     },
     "user_tz": -480
    },
    "id": "fb0f2ff8"
   },
   "outputs": [],
   "source": [
    "for col in df_scaled.columns:\n",
    "    if(col != 'class'):\n",
    "        df_scaled[col] = scaler.fit_transform(df_scaled[col].values.reshape(-1,1));"
   ]
  },
  {
   "cell_type": "code",
   "execution_count": null,
   "id": "4698d5de",
   "metadata": {
    "colab": {
     "base_uri": "https://localhost:8080/",
     "height": 520
    },
    "executionInfo": {
     "elapsed": 8,
     "status": "ok",
     "timestamp": 1681519707937,
     "user": {
      "displayName": "Bill Jericko Mercado",
      "userId": "12923505684249867943"
     },
     "user_tz": -480
    },
    "id": "4698d5de",
    "outputId": "5c819acd-e30f-4c00-93a1-1e32e4b0c2e2"
   },
   "outputs": [],
   "source": [
    "df_scaled"
   ]
  },
  {
   "cell_type": "markdown",
   "id": "4735c503",
   "metadata": {
    "id": "4735c503"
   },
   "source": [
    "* Feature Selection / Correlation Analysis"
   ]
  },
  {
   "cell_type": "code",
   "execution_count": null,
   "id": "9bb62806",
   "metadata": {
    "colab": {
     "base_uri": "https://localhost:8080/",
     "height": 608
    },
    "executionInfo": {
     "elapsed": 1257,
     "status": "ok",
     "timestamp": 1681519709187,
     "user": {
      "displayName": "Bill Jericko Mercado",
      "userId": "12923505684249867943"
     },
     "user_tz": -480
    },
    "id": "9bb62806",
    "outputId": "41cb2e88-a1d8-4b5b-d977-636a04e30203"
   },
   "outputs": [],
   "source": [
    "sns.heatmap(df_scaled.corr())"
   ]
  },
  {
   "cell_type": "code",
   "execution_count": null,
   "id": "4e2fb8e0",
   "metadata": {
    "executionInfo": {
     "elapsed": 10,
     "status": "ok",
     "timestamp": 1681519709187,
     "user": {
      "displayName": "Bill Jericko Mercado",
      "userId": "12923505684249867943"
     },
     "user_tz": -480
    },
    "id": "4e2fb8e0"
   },
   "outputs": [],
   "source": [
    "df_scaled = df_scaled.drop(['veil-type'],axis=1)"
   ]
  },
  {
   "cell_type": "code",
   "execution_count": null,
   "id": "f49b7a8e",
   "metadata": {
    "colab": {
     "base_uri": "https://localhost:8080/",
     "height": 608
    },
    "executionInfo": {
     "elapsed": 11,
     "status": "ok",
     "timestamp": 1681519709188,
     "user": {
      "displayName": "Bill Jericko Mercado",
      "userId": "12923505684249867943"
     },
     "user_tz": -480
    },
    "id": "f49b7a8e",
    "outputId": "53b28bd2-aa2e-4ae5-9430-cd576582ffa4"
   },
   "outputs": [],
   "source": [
    "sns.heatmap(df_scaled.corr())"
   ]
  },
  {
   "cell_type": "code",
   "execution_count": null,
   "id": "2c88ef33",
   "metadata": {
    "executionInfo": {
     "elapsed": 8,
     "status": "ok",
     "timestamp": 1681519709188,
     "user": {
      "displayName": "Bill Jericko Mercado",
      "userId": "12923505684249867943"
     },
     "user_tz": -480
    },
    "id": "2c88ef33"
   },
   "outputs": [],
   "source": [
    "corr = df_scaled.corr();\n",
    "corr_mask = corr.mask(np.triu(np.ones_like(corr, dtype=bool)))\n",
    "corr_unstacked = corr_mask.unstack().sort_values(ascending = False);\n",
    "corr_df = pd.DataFrame(corr_unstacked[abs(corr_unstacked)>.75]).sort_index()"
   ]
  },
  {
   "cell_type": "code",
   "execution_count": null,
   "id": "df1068ae",
   "metadata": {
    "colab": {
     "base_uri": "https://localhost:8080/",
     "height": 81
    },
    "executionInfo": {
     "elapsed": 8,
     "status": "ok",
     "timestamp": 1681519709188,
     "user": {
      "displayName": "Bill Jericko Mercado",
      "userId": "12923505684249867943"
     },
     "user_tz": -480
    },
    "id": "df1068ae",
    "outputId": "1cc9b3b4-51e9-4184-93e5-3988676959da"
   },
   "outputs": [],
   "source": [
    "corr_df"
   ]
  },
  {
   "cell_type": "code",
   "execution_count": null,
   "id": "8cf76d37",
   "metadata": {
    "executionInfo": {
     "elapsed": 7,
     "status": "ok",
     "timestamp": 1681519709188,
     "user": {
      "displayName": "Bill Jericko Mercado",
      "userId": "12923505684249867943"
     },
     "user_tz": -480
    },
    "id": "8cf76d37"
   },
   "outputs": [],
   "source": [
    "#drop gill-attachment to remove any correlation\n",
    "df_scaled = df_scaled.drop(['gill-attachment'],axis=1)"
   ]
  },
  {
   "cell_type": "code",
   "execution_count": null,
   "id": "94923337",
   "metadata": {},
   "outputs": [],
   "source": [
    "X = df_scaled.drop(['class'],axis=1);\n",
    "y = df_scaled['class'];"
   ]
  },
  {
   "cell_type": "code",
   "execution_count": null,
   "id": "71849cad",
   "metadata": {},
   "outputs": [],
   "source": [
    "from sklearn.metrics import confusion_matrix;\n",
    "from sklearn.metrics import RocCurveDisplay; #plot_roc_curve\n",
    "from sklearn.metrics import classification_report;\n",
    "\n",
    "def evaluate_model(model,X,y):\n",
    "\n",
    "    X_train,X_test,y_train,y_test = train_test_split(X,y,random_state=42,\n",
    "                                                 train_size=.80,stratify=y);\n",
    "    model.fit(X_train,y_train);\n",
    "    \n",
    "    print(classification_report(y_test,model.predict(X_test),\n",
    "                                target_names=['edible','poisonous']));\n",
    "    print(confusion_matrix(y_test,model.predict(X_test),\n",
    "                          labels=[0,1]));\n",
    "    print('Training score:',model.score(X_train,y_train));\n",
    "    print('Test score:',model.score(X_test,y_test));\n",
    "    RocCurveDisplay.from_estimator(model,X_test,y_test); #plot_roc_curve(model,X_test,y_test)"
   ]
  },
  {
   "cell_type": "code",
   "execution_count": null,
   "id": "30d52e2c",
   "metadata": {},
   "outputs": [],
   "source": [
    "from sklearn.ensemble import RandomForestClassifier;\n",
    "\n",
    "rf = RandomForestClassifier();\n",
    "evaluate_model(rf,X,y)"
   ]
  },
  {
   "cell_type": "code",
   "execution_count": null,
   "id": "f1804895",
   "metadata": {},
   "outputs": [],
   "source": [
    "#information gain\n",
    "from sklearn.feature_selection import mutual_info_classif\n",
    "\n",
    "importances = mutual_info_classif(X,y);\n",
    "feat_importances = pd.Series(importances, df_scaled.columns[0:len(df_scaled.columns) - 1]);\n",
    "feat_importances.plot(kind='barh')"
   ]
  },
  {
   "cell_type": "code",
   "execution_count": null,
   "id": "27733863",
   "metadata": {},
   "outputs": [],
   "source": [
    "#drop features with low feature importance\n",
    "X_ig = X.drop(['veil-color','stalk-color-below-ring','gill-color','cap-surface','cap-shape'],axis=1)"
   ]
  },
  {
   "cell_type": "code",
   "execution_count": null,
   "id": "4397f95d",
   "metadata": {},
   "outputs": [],
   "source": [
    "evaluate_model(rf,X_ig,y)"
   ]
  },
  {
   "cell_type": "code",
   "execution_count": null,
   "id": "e4e57c71",
   "metadata": {},
   "outputs": [],
   "source": [
    "#CHI SQUARE TEST\n",
    "from sklearn.feature_selection import SelectKBest\n",
    "from sklearn.feature_selection import chi2\n",
    "\n",
    "chi2_features = SelectKBest(chi2, k = 6); #k is the number of features you want to retain\n",
    "X_chi2 = chi2_features.fit_transform(X,y);\n",
    "\n",
    "evaluate_model(rf,X_chi2,y)\n"
   ]
  },
  {
   "cell_type": "code",
   "execution_count": null,
   "id": "5c0e2aec",
   "metadata": {},
   "outputs": [],
   "source": [
    "#CORRELATION\n",
    "\n",
    "corr = df_scaled.corr();\n",
    "corr['class'] = abs(corr['class'])\n",
    "corr['class']"
   ]
  },
  {
   "cell_type": "code",
   "execution_count": null,
   "id": "b7f46e49",
   "metadata": {},
   "outputs": [],
   "source": [
    "X_corr = X.drop(['cap-shape','cap-color','odor','cap-surface','stalk-shape','stalk-color-above-ring',\n",
    "                'stalk-color-below-ring','veil-color','ring-number','spore-print-color','habitat'],axis=1)"
   ]
  },
  {
   "cell_type": "code",
   "execution_count": null,
   "id": "ac6483b5",
   "metadata": {},
   "outputs": [],
   "source": [
    "X_corr.shape"
   ]
  },
  {
   "cell_type": "code",
   "execution_count": null,
   "id": "8ab273f9",
   "metadata": {},
   "outputs": [],
   "source": [
    "evaluate_model(rf,X_corr,y)"
   ]
  },
  {
   "cell_type": "code",
   "execution_count": null,
   "id": "00fa28fb",
   "metadata": {},
   "outputs": [],
   "source": [
    "#VARIANCE THRESHOLD\n",
    "from sklearn.feature_selection import VarianceThreshold\n",
    "\n",
    "v_threshold = VarianceThreshold(threshold = 0.10);\n",
    "v_threshold.fit(X);\n",
    "sp = v_threshold.get_support()"
   ]
  },
  {
   "cell_type": "code",
   "execution_count": null,
   "id": "80bc25cf",
   "metadata": {},
   "outputs": [],
   "source": [
    "col = X.columns"
   ]
  },
  {
   "cell_type": "code",
   "execution_count": null,
   "id": "4a48f5f3",
   "metadata": {},
   "outputs": [],
   "source": [
    "X_thres = X.copy();\n",
    "for s,c in zip(sp,col):\n",
    "    if(s == False):\n",
    "        X_thres.drop([c],axis=1,inplace=True)"
   ]
  },
  {
   "cell_type": "code",
   "execution_count": null,
   "id": "f871d718",
   "metadata": {},
   "outputs": [],
   "source": [
    "X_thres.columns"
   ]
  },
  {
   "cell_type": "code",
   "execution_count": null,
   "id": "36ff2b2f",
   "metadata": {},
   "outputs": [],
   "source": [
    "evaluate_model(rf,X_thres,y)"
   ]
  },
  {
   "cell_type": "code",
   "execution_count": null,
   "id": "eb092d64",
   "metadata": {},
   "outputs": [],
   "source": [
    "#MAD\n",
    "mean_abs_diff = np.sum(np.abs(X - np.mean(X,axis = 0)),axis = 0)/X.shape[0];\n",
    "\n",
    "plt.bar(np.arange(X.shape[1]),mean_abs_diff);"
   ]
  },
  {
   "cell_type": "code",
   "execution_count": null,
   "id": "817f42a1",
   "metadata": {},
   "outputs": [],
   "source": [
    "X.columns"
   ]
  },
  {
   "cell_type": "code",
   "execution_count": null,
   "id": "d027c141",
   "metadata": {},
   "outputs": [],
   "source": [
    "from sklearn.model_selection import cross_val_score;"
   ]
  },
  {
   "cell_type": "code",
   "execution_count": null,
   "id": "3640939e",
   "metadata": {},
   "outputs": [],
   "source": [
    "from sklearn.decomposition import PCA\n",
    "\n",
    "pca = PCA(n_components = 3);\n",
    "X_pca = pca.fit_transform(X);\n",
    "pca_df = pd.DataFrame(data = X_pca, columns = ['PCA1','PCA2','PCA3']);\n",
    "\n",
    "evaluate_model(rf,pca_df,y)\n",
    "print(cross_val_score(rf,pca_df,y,cv=10).mean())"
   ]
  },
  {
   "cell_type": "code",
   "execution_count": null,
   "id": "5a81b762",
   "metadata": {},
   "outputs": [],
   "source": [
    "fig = plt.figure();\n",
    "ax = fig.add_subplot(projection = '3d');\n",
    "\n",
    "ax.scatter(pca_df['PCA1'],pca_df['PCA2'],pca_df['PCA3'],\n",
    "           c = y,marker='o')"
   ]
  },
  {
   "cell_type": "code",
   "execution_count": null,
   "id": "d1436f19",
   "metadata": {},
   "outputs": [],
   "source": [
    "from sklearn.decomposition import FastICA\n",
    "\n",
    "ica =  FastICA(n_components = 3);\n",
    "X_ica = ica.fit_transform(X);\n",
    "\n",
    "evaluate_model(rf,X_ica,y)\n",
    "cross_val_score(rf,X_ica,y,cv=10).mean()"
   ]
  },
  {
   "cell_type": "code",
   "execution_count": null,
   "id": "fa17a337",
   "metadata": {},
   "outputs": [],
   "source": [
    "ica_df =  pd.DataFrame(data=X_ica,columns=['ICA1','ICA2','ICA3'])"
   ]
  },
  {
   "cell_type": "code",
   "execution_count": null,
   "id": "29db859d",
   "metadata": {},
   "outputs": [],
   "source": [
    "fig = plt.figure();\n",
    "ax = fig.add_subplot(projection = '3d');\n",
    "\n",
    "ax.scatter(ica_df['ICA1'],ica_df['ICA2'],ica_df['ICA3'],\n",
    "           c = y,marker='o')"
   ]
  },
  {
   "cell_type": "code",
   "execution_count": null,
   "id": "cb6bcf9d",
   "metadata": {},
   "outputs": [],
   "source": [
    "from sklearn.discriminant_analysis import LinearDiscriminantAnalysis\n",
    "\n",
    "lda = LinearDiscriminantAnalysis(n_components = 1);\n",
    "\n",
    "X_lda = lda.fit(X,y).transform(X);\n",
    "\n",
    "evaluate_model(rf,X_lda,y)\n",
    "cross_val_score(rf,X_lda,y,cv=5).mean()"
   ]
  },
  {
   "cell_type": "code",
   "execution_count": null,
   "id": "5ab51148",
   "metadata": {},
   "outputs": [],
   "source": [
    "lda_df = pd.DataFrame(data=X_lda,columns=['LDA']);\n",
    "dff = pd.concat([lda_df,y])"
   ]
  },
  {
   "cell_type": "code",
   "execution_count": null,
   "id": "5c53282a",
   "metadata": {},
   "outputs": [],
   "source": [
    "from sklearn.manifold import LocallyLinearEmbedding;\n",
    "\n",
    "lle = LocallyLinearEmbedding(n_components=3);\n",
    "X_lle = lle.fit_transform(X);\n",
    "\n",
    "evaluate_model(rf,X_lle,y);\n",
    "cross_val_score(rf,X_lle,y,cv=5).mean()"
   ]
  },
  {
   "cell_type": "code",
   "execution_count": null,
   "id": "ff932f70",
   "metadata": {},
   "outputs": [],
   "source": [
    "from sklearn.manifold import TSNE;\n",
    "\n",
    "tsne = TSNE(n_components=3,verbose=1,perplexity=40,n_iter=300);\n",
    "\n",
    "X_tnse = tsne.fit_transform(X);\n",
    "\n",
    "evaluate_model(rf,X_tnse,y);\n",
    "cross_val_score(rf,X_tnse,y,cv=5).mean()"
   ]
  },
  {
   "cell_type": "code",
   "execution_count": null,
   "id": "388a6dd3",
   "metadata": {},
   "outputs": [],
   "source": []
  },
  {
   "cell_type": "code",
   "execution_count": null,
   "id": "16abc334",
   "metadata": {},
   "outputs": [],
   "source": []
  },
  {
   "cell_type": "code",
   "execution_count": null,
   "id": "2a4f69a2",
   "metadata": {},
   "outputs": [],
   "source": []
  },
  {
   "cell_type": "code",
   "execution_count": null,
   "id": "a032cb40",
   "metadata": {
    "colab": {
     "base_uri": "https://localhost:8080/",
     "height": 608
    },
    "executionInfo": {
     "elapsed": 937,
     "status": "ok",
     "timestamp": 1681519710118,
     "user": {
      "displayName": "Bill Jericko Mercado",
      "userId": "12923505684249867943"
     },
     "user_tz": -480
    },
    "id": "a032cb40",
    "outputId": "6906d742-fa2d-436d-e96e-e65541d592e1"
   },
   "outputs": [],
   "source": [
    "sns.heatmap(df_scaled.corr())"
   ]
  },
  {
   "cell_type": "markdown",
   "id": "47943228",
   "metadata": {
    "id": "47943228"
   },
   "source": [
    "* 3. Modelling"
   ]
  },
  {
   "cell_type": "markdown",
   "id": "7cbae6d0",
   "metadata": {
    "id": "7cbae6d0"
   },
   "source": [
    "* 3.1. Split target variable to feature variables"
   ]
  },
  {
   "cell_type": "code",
   "execution_count": null,
   "id": "f97d5483",
   "metadata": {
    "executionInfo": {
     "elapsed": 11,
     "status": "ok",
     "timestamp": 1681519710118,
     "user": {
      "displayName": "Bill Jericko Mercado",
      "userId": "12923505684249867943"
     },
     "user_tz": -480
    },
    "id": "f97d5483"
   },
   "outputs": [],
   "source": [
    "X = df_scaled.drop(['class'],axis=1);\n",
    "y = df_scaled['class'];"
   ]
  },
  {
   "cell_type": "markdown",
   "id": "6df70bb0",
   "metadata": {
    "id": "6df70bb0"
   },
   "source": [
    "* 3.2. Split our dataset to training and test"
   ]
  },
  {
   "cell_type": "code",
   "execution_count": null,
   "id": "f125aebe",
   "metadata": {
    "executionInfo": {
     "elapsed": 11,
     "status": "ok",
     "timestamp": 1681519710118,
     "user": {
      "displayName": "Bill Jericko Mercado",
      "userId": "12923505684249867943"
     },
     "user_tz": -480
    },
    "id": "f125aebe"
   },
   "outputs": [],
   "source": [
    "from sklearn.model_selection import train_test_split"
   ]
  },
  {
   "cell_type": "code",
   "execution_count": null,
   "id": "307038ae",
   "metadata": {
    "executionInfo": {
     "elapsed": 11,
     "status": "ok",
     "timestamp": 1681519710119,
     "user": {
      "displayName": "Bill Jericko Mercado",
      "userId": "12923505684249867943"
     },
     "user_tz": -480
    },
    "id": "307038ae"
   },
   "outputs": [],
   "source": [
    "X_train,X_test,y_train,y_test = train_test_split(X,y,random_state=42,\n",
    "                                                 train_size=.80,stratify=y);"
   ]
  },
  {
   "cell_type": "code",
   "execution_count": null,
   "id": "4fed88c7",
   "metadata": {
    "colab": {
     "base_uri": "https://localhost:8080/"
    },
    "executionInfo": {
     "elapsed": 11,
     "status": "ok",
     "timestamp": 1681519710119,
     "user": {
      "displayName": "Bill Jericko Mercado",
      "userId": "12923505684249867943"
     },
     "user_tz": -480
    },
    "id": "4fed88c7",
    "outputId": "9129138e-83fb-4350-a548-593a4df0cc8a"
   },
   "outputs": [],
   "source": [
    "print(X_train.shape);\n",
    "print(X_test.shape);"
   ]
  },
  {
   "cell_type": "markdown",
   "id": "ec4afa1f",
   "metadata": {
    "id": "ec4afa1f"
   },
   "source": [
    "* 3.3. Choose the best model"
   ]
  },
  {
   "cell_type": "code",
   "execution_count": null,
   "id": "a849b30e",
   "metadata": {
    "executionInfo": {
     "elapsed": 4,
     "status": "ok",
     "timestamp": 1681519946122,
     "user": {
      "displayName": "Bill Jericko Mercado",
      "userId": "12923505684249867943"
     },
     "user_tz": -480
    },
    "id": "a849b30e"
   },
   "outputs": [],
   "source": [
    "from sklearn.metrics import confusion_matrix;\n",
    "from sklearn.metrics import RocCurveDisplay;\n",
    "from sklearn.metrics import classification_report;\n",
    "\n",
    "def evaluate_model(model):\n",
    "    print(classification_report(y_test,model.predict(X_test),\n",
    "                                target_names=['edible','poisonous']));\n",
    "    print(confusion_matrix(y_test,model.predict(X_test),\n",
    "                          labels=[0,1]));\n",
    "    print('Training score:',model.score(X_train,y_train));\n",
    "    print('Test score:',model.score(X_test,y_test));\n",
    "    RocCurveDisplay.from_estimator(model,X_test,y_test);\n",
    "\n"
   ]
  },
  {
   "cell_type": "markdown",
   "id": "f7d8742e",
   "metadata": {
    "id": "f7d8742e"
   },
   "source": [
    "* 3.3.1. Gaussian Naive Bayes"
   ]
  },
  {
   "cell_type": "code",
   "execution_count": null,
   "id": "57156baf",
   "metadata": {
    "colab": {
     "base_uri": "https://localhost:8080/",
     "height": 675
    },
    "executionInfo": {
     "elapsed": 753,
     "status": "ok",
     "timestamp": 1681519949291,
     "user": {
      "displayName": "Bill Jericko Mercado",
      "userId": "12923505684249867943"
     },
     "user_tz": -480
    },
    "id": "57156baf",
    "outputId": "d17ffa4c-3f87-4c4b-bde9-f00cb8e3cad8"
   },
   "outputs": [],
   "source": [
    "from sklearn.naive_bayes import GaussianNB\n",
    "\n",
    "gnb = GaussianNB();\n",
    "gnb.fit(X_train,y_train);\n",
    "\n",
    "evaluate_model(gnb)"
   ]
  },
  {
   "cell_type": "markdown",
   "id": "c91db7e5",
   "metadata": {
    "id": "c91db7e5"
   },
   "source": [
    "* 3.3.2. BernoulliNB"
   ]
  },
  {
   "cell_type": "code",
   "execution_count": null,
   "id": "1a9763b4",
   "metadata": {
    "colab": {
     "base_uri": "https://localhost:8080/",
     "height": 675
    },
    "executionInfo": {
     "elapsed": 469,
     "status": "ok",
     "timestamp": 1681519953814,
     "user": {
      "displayName": "Bill Jericko Mercado",
      "userId": "12923505684249867943"
     },
     "user_tz": -480
    },
    "id": "1a9763b4",
    "outputId": "5354f348-6eb2-4224-be6e-503706983b1f"
   },
   "outputs": [],
   "source": [
    "from sklearn.naive_bayes import BernoulliNB\n",
    "\n",
    "bnb = BernoulliNB();\n",
    "bnb.fit(X_train,y_train);\n",
    "\n",
    "evaluate_model(bnb)"
   ]
  },
  {
   "cell_type": "markdown",
   "id": "ef295f10",
   "metadata": {
    "id": "ef295f10"
   },
   "source": [
    "* 3.3.3. Decision Tree Classifier"
   ]
  },
  {
   "cell_type": "code",
   "execution_count": null,
   "id": "88c43459",
   "metadata": {
    "colab": {
     "base_uri": "https://localhost:8080/",
     "height": 675
    },
    "executionInfo": {
     "elapsed": 1123,
     "status": "ok",
     "timestamp": 1681519958552,
     "user": {
      "displayName": "Bill Jericko Mercado",
      "userId": "12923505684249867943"
     },
     "user_tz": -480
    },
    "id": "88c43459",
    "outputId": "c5795e49-d1cf-4c2b-d4b1-98642b4d3b56"
   },
   "outputs": [],
   "source": [
    "from sklearn.tree import DecisionTreeClassifier\n",
    "\n",
    "dt = DecisionTreeClassifier();\n",
    "dt.fit(X_train,y_train);\n",
    "\n",
    "evaluate_model(dt)"
   ]
  },
  {
   "cell_type": "markdown",
   "id": "d75f2678",
   "metadata": {
    "id": "d75f2678"
   },
   "source": [
    "* 3.3.4. Random Forest Classifier"
   ]
  },
  {
   "cell_type": "code",
   "execution_count": null,
   "id": "936e5ae5",
   "metadata": {
    "colab": {
     "base_uri": "https://localhost:8080/",
     "height": 675
    },
    "executionInfo": {
     "elapsed": 962,
     "status": "ok",
     "timestamp": 1681519962419,
     "user": {
      "displayName": "Bill Jericko Mercado",
      "userId": "12923505684249867943"
     },
     "user_tz": -480
    },
    "id": "936e5ae5",
    "outputId": "473a8e0a-caaf-4b7e-b09f-e2347f61ce68"
   },
   "outputs": [],
   "source": [
    "from sklearn.ensemble import RandomForestClassifier\n",
    "\n",
    "rf = RandomForestClassifier();\n",
    "rf.fit(X_train,y_train);\n",
    "\n",
    "evaluate_model(rf)"
   ]
  },
  {
   "cell_type": "markdown",
   "id": "46ca2556",
   "metadata": {
    "id": "46ca2556"
   },
   "source": [
    "* 3.3.5. KNN Classifier"
   ]
  },
  {
   "cell_type": "code",
   "execution_count": null,
   "id": "30f11ab0",
   "metadata": {
    "colab": {
     "base_uri": "https://localhost:8080/",
     "height": 675
    },
    "executionInfo": {
     "elapsed": 1070,
     "status": "ok",
     "timestamp": 1681519966700,
     "user": {
      "displayName": "Bill Jericko Mercado",
      "userId": "12923505684249867943"
     },
     "user_tz": -480
    },
    "id": "30f11ab0",
    "outputId": "162f4e93-3e17-4faa-8ff6-d20c3a0ebdd1"
   },
   "outputs": [],
   "source": [
    "from sklearn.neighbors import KNeighborsClassifier\n",
    "\n",
    "knn = KNeighborsClassifier();\n",
    "knn.fit(X_train,y_train);\n",
    "\n",
    "evaluate_model(knn)"
   ]
  },
  {
   "cell_type": "markdown",
   "id": "a8c49338",
   "metadata": {
    "id": "a8c49338"
   },
   "source": [
    "* 3.3.6. Logistic Regression"
   ]
  },
  {
   "cell_type": "code",
   "execution_count": null,
   "id": "6fec89b1",
   "metadata": {
    "colab": {
     "base_uri": "https://localhost:8080/",
     "height": 675
    },
    "executionInfo": {
     "elapsed": 5,
     "status": "ok",
     "timestamp": 1681519971345,
     "user": {
      "displayName": "Bill Jericko Mercado",
      "userId": "12923505684249867943"
     },
     "user_tz": -480
    },
    "id": "6fec89b1",
    "outputId": "150ab648-3845-49d4-ac6a-b278106fee1d"
   },
   "outputs": [],
   "source": [
    "from sklearn.linear_model import LogisticRegression\n",
    "\n",
    "lr = LogisticRegression();\n",
    "lr.fit(X_train,y_train);\n",
    "\n",
    "evaluate_model(lr)"
   ]
  },
  {
   "cell_type": "markdown",
   "id": "4126905f",
   "metadata": {
    "id": "4126905f"
   },
   "source": [
    "###### Hyperparameter Tuning / Cross Validation\n",
    "To tune our model into a better model"
   ]
  },
  {
   "cell_type": "code",
   "execution_count": null,
   "id": "92ed5ade",
   "metadata": {
    "executionInfo": {
     "elapsed": 354,
     "status": "ok",
     "timestamp": 1681519981869,
     "user": {
      "displayName": "Bill Jericko Mercado",
      "userId": "12923505684249867943"
     },
     "user_tz": -480
    },
    "id": "92ed5ade"
   },
   "outputs": [],
   "source": [
    "from sklearn.model_selection import RandomizedSearchCV"
   ]
  },
  {
   "cell_type": "markdown",
   "id": "6e1ca78a",
   "metadata": {
    "id": "6e1ca78a"
   },
   "source": [
    "* 4.1.1. Decision Tree Classifier Hyperparameter Tuning"
   ]
  },
  {
   "cell_type": "code",
   "execution_count": null,
   "id": "c7a8203e",
   "metadata": {
    "colab": {
     "base_uri": "https://localhost:8080/",
     "height": 118
    },
    "executionInfo": {
     "elapsed": 1529,
     "status": "ok",
     "timestamp": 1681519984733,
     "user": {
      "displayName": "Bill Jericko Mercado",
      "userId": "12923505684249867943"
     },
     "user_tz": -480
    },
    "id": "c7a8203e",
    "outputId": "4b49d3c7-ba62-43b4-c414-75dcd53e3ebb"
   },
   "outputs": [],
   "source": [
    "params = {\n",
    "    'criterion': ['gini','entropy'],\n",
    "    'splitter': ['best','random'],\n",
    "    'max_depth': [5,10,15,20]\n",
    "}\n",
    "\n",
    "rsearch = RandomizedSearchCV(DecisionTreeClassifier(), params, \n",
    "n_iter = 15, cv=10)\n",
    "rsearch.fit(X_train,y_train)"
   ]
  },
  {
   "cell_type": "code",
   "execution_count": null,
   "id": "43d7d0ee",
   "metadata": {
    "colab": {
     "base_uri": "https://localhost:8080/"
    },
    "executionInfo": {
     "elapsed": 8,
     "status": "ok",
     "timestamp": 1681519984734,
     "user": {
      "displayName": "Bill Jericko Mercado",
      "userId": "12923505684249867943"
     },
     "user_tz": -480
    },
    "id": "43d7d0ee",
    "outputId": "97419fa9-c999-4c7a-af42-01b0b7e6e1f5"
   },
   "outputs": [],
   "source": [
    "rsearch.best_params_"
   ]
  },
  {
   "cell_type": "code",
   "execution_count": null,
   "id": "1567a766",
   "metadata": {
    "executionInfo": {
     "elapsed": 344,
     "status": "ok",
     "timestamp": 1681519987372,
     "user": {
      "displayName": "Bill Jericko Mercado",
      "userId": "12923505684249867943"
     },
     "user_tz": -480
    },
    "id": "1567a766"
   },
   "outputs": [],
   "source": [
    "dt_tuned = DecisionTreeClassifier(\n",
    "    splitter='best',\n",
    "    max_depth=10,\n",
    "    criterion='gini'\n",
    ");"
   ]
  },
  {
   "cell_type": "code",
   "execution_count": null,
   "id": "2196432b",
   "metadata": {
    "colab": {
     "base_uri": "https://localhost:8080/",
     "height": 75
    },
    "executionInfo": {
     "elapsed": 364,
     "status": "ok",
     "timestamp": 1681519990377,
     "user": {
      "displayName": "Bill Jericko Mercado",
      "userId": "12923505684249867943"
     },
     "user_tz": -480
    },
    "id": "2196432b",
    "outputId": "01b55223-97fc-44df-c21d-151d88a15dce"
   },
   "outputs": [],
   "source": [
    "dt_tuned.fit(X_train,y_train)"
   ]
  },
  {
   "cell_type": "code",
   "execution_count": null,
   "id": "e0ecf48b",
   "metadata": {
    "colab": {
     "base_uri": "https://localhost:8080/",
     "height": 675
    },
    "executionInfo": {
     "elapsed": 511,
     "status": "ok",
     "timestamp": 1681519992645,
     "user": {
      "displayName": "Bill Jericko Mercado",
      "userId": "12923505684249867943"
     },
     "user_tz": -480
    },
    "id": "e0ecf48b",
    "outputId": "8ee7c15e-020d-480f-f1f6-874c20aae14e"
   },
   "outputs": [],
   "source": [
    "evaluate_model(dt_tuned)"
   ]
  },
  {
   "cell_type": "code",
   "execution_count": null,
   "id": "676fb879",
   "metadata": {
    "colab": {
     "base_uri": "https://localhost:8080/"
    },
    "executionInfo": {
     "elapsed": 316,
     "status": "ok",
     "timestamp": 1681519995806,
     "user": {
      "displayName": "Bill Jericko Mercado",
      "userId": "12923505684249867943"
     },
     "user_tz": -480
    },
    "id": "676fb879",
    "outputId": "57e32a2e-3b5e-4cba-db2a-671cd6f4f305"
   },
   "outputs": [],
   "source": [
    "from sklearn.model_selection import cross_val_score;\n",
    "\n",
    "scores = cross_val_score(dt_tuned, X_train,y_train, cv=20);\n",
    "scores.mean()"
   ]
  },
  {
   "cell_type": "markdown",
   "id": "6622f32e",
   "metadata": {
    "id": "6622f32e"
   },
   "source": [
    "5. Choosing a model\n",
    "<br>Since the cross validation score of models who gained 100% accuracy in both training and test dataset is still 100%, we can conclude that the best models for this data is either DecisionTree, Random Forest or KNN Classifier Algorithm."
   ]
  },
  {
   "cell_type": "code",
   "execution_count": null,
   "id": "7fd5ad27",
   "metadata": {
    "colab": {
     "base_uri": "https://localhost:8080/"
    },
    "executionInfo": {
     "elapsed": 371,
     "status": "ok",
     "timestamp": 1681519998176,
     "user": {
      "displayName": "Bill Jericko Mercado",
      "userId": "12923505684249867943"
     },
     "user_tz": -480
    },
    "id": "7fd5ad27",
    "outputId": "70ade76b-57f2-4141-9e0e-f153e2d23425"
   },
   "outputs": [],
   "source": [
    "knn.get_params()"
   ]
  },
  {
   "cell_type": "code",
   "execution_count": null,
   "id": "0046e08c",
   "metadata": {
    "executionInfo": {
     "elapsed": 3,
     "status": "ok",
     "timestamp": 1681520001206,
     "user": {
      "displayName": "Bill Jericko Mercado",
      "userId": "12923505684249867943"
     },
     "user_tz": -480
    },
    "id": "0046e08c"
   },
   "outputs": [],
   "source": [
    "from sklearn.feature_selection import mutual_info_classif\n",
    "\n",
    "importances = mutual_info_classif(X,y);\n",
    "feat_importances = pd.Series(importances, df.columns[0:len(df.columns) - 1]);\n",
    "feat_importances.plot(kind='barh')"
   ]
  },
  {
   "cell_type": "code",
   "execution_count": null,
   "id": "86583c1b",
   "metadata": {},
   "outputs": [],
   "source": []
  }
 ],
 "metadata": {
  "colab": {
   "provenance": []
  },
  "kernelspec": {
   "display_name": "Python 3 (ipykernel)",
   "language": "python",
   "name": "python3"
  },
  "language_info": {
   "codemirror_mode": {
    "name": "ipython",
    "version": 3
   },
   "file_extension": ".py",
   "mimetype": "text/x-python",
   "name": "python",
   "nbconvert_exporter": "python",
   "pygments_lexer": "ipython3",
   "version": "3.9.13"
  }
 },
 "nbformat": 4,
 "nbformat_minor": 5
}
