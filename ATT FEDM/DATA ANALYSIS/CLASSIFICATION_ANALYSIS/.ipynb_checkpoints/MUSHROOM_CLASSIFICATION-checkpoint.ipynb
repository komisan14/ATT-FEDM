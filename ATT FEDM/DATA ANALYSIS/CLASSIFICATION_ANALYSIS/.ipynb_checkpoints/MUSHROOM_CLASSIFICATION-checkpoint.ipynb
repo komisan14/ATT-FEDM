{
 "cells": [
  {
   "cell_type": "markdown",
   "id": "2b9d52bf",
   "metadata": {},
   "source": [
    "## Mushroom Classification\n",
    "The goal of this activity is to create a model that predicts whether the mushroom is edible or poisonous."
   ]
  },
  {
   "cell_type": "markdown",
   "id": "9f0e2e53",
   "metadata": {},
   "source": [
    "* 1.1Exploration of Data"
   ]
  },
  {
   "cell_type": "code",
   "execution_count": 1,
   "id": "e9cd096b",
   "metadata": {},
   "outputs": [],
   "source": [
    "import numpy as np;\n",
    "import pandas as pd;\n",
    "import seaborn as sns;\n",
    "import matplotlib.pyplot as plt;"
   ]
  },
  {
   "cell_type": "code",
   "execution_count": 2,
   "id": "6a9e7702",
   "metadata": {},
   "outputs": [
    {
     "ename": "FileNotFoundError",
     "evalue": "[Errno 2] No such file or directory: 'mushrooms.csv'",
     "output_type": "error",
     "traceback": [
      "\u001b[1;31m---------------------------------------------------------------------------\u001b[0m",
      "\u001b[1;31mFileNotFoundError\u001b[0m                         Traceback (most recent call last)",
      "\u001b[1;32m~\\AppData\\Local\\Temp\\ipykernel_7324\\1198686176.py\u001b[0m in \u001b[0;36m<module>\u001b[1;34m\u001b[0m\n\u001b[1;32m----> 1\u001b[1;33m \u001b[0mdf\u001b[0m \u001b[1;33m=\u001b[0m \u001b[0mpd\u001b[0m\u001b[1;33m.\u001b[0m\u001b[0mread_csv\u001b[0m\u001b[1;33m(\u001b[0m\u001b[1;34m'mushrooms.csv'\u001b[0m\u001b[1;33m)\u001b[0m\u001b[1;33m;\u001b[0m\u001b[1;33m\u001b[0m\u001b[1;33m\u001b[0m\u001b[0m\n\u001b[0m",
      "\u001b[1;32mC:\\ProgramData\\Anaconda3\\lib\\site-packages\\pandas\\util\\_decorators.py\u001b[0m in \u001b[0;36mwrapper\u001b[1;34m(*args, **kwargs)\u001b[0m\n\u001b[0;32m    309\u001b[0m                     \u001b[0mstacklevel\u001b[0m\u001b[1;33m=\u001b[0m\u001b[0mstacklevel\u001b[0m\u001b[1;33m,\u001b[0m\u001b[1;33m\u001b[0m\u001b[1;33m\u001b[0m\u001b[0m\n\u001b[0;32m    310\u001b[0m                 )\n\u001b[1;32m--> 311\u001b[1;33m             \u001b[1;32mreturn\u001b[0m \u001b[0mfunc\u001b[0m\u001b[1;33m(\u001b[0m\u001b[1;33m*\u001b[0m\u001b[0margs\u001b[0m\u001b[1;33m,\u001b[0m \u001b[1;33m**\u001b[0m\u001b[0mkwargs\u001b[0m\u001b[1;33m)\u001b[0m\u001b[1;33m\u001b[0m\u001b[1;33m\u001b[0m\u001b[0m\n\u001b[0m\u001b[0;32m    312\u001b[0m \u001b[1;33m\u001b[0m\u001b[0m\n\u001b[0;32m    313\u001b[0m         \u001b[1;32mreturn\u001b[0m \u001b[0mwrapper\u001b[0m\u001b[1;33m\u001b[0m\u001b[1;33m\u001b[0m\u001b[0m\n",
      "\u001b[1;32mC:\\ProgramData\\Anaconda3\\lib\\site-packages\\pandas\\io\\parsers\\readers.py\u001b[0m in \u001b[0;36mread_csv\u001b[1;34m(filepath_or_buffer, sep, delimiter, header, names, index_col, usecols, squeeze, prefix, mangle_dupe_cols, dtype, engine, converters, true_values, false_values, skipinitialspace, skiprows, skipfooter, nrows, na_values, keep_default_na, na_filter, verbose, skip_blank_lines, parse_dates, infer_datetime_format, keep_date_col, date_parser, dayfirst, cache_dates, iterator, chunksize, compression, thousands, decimal, lineterminator, quotechar, quoting, doublequote, escapechar, comment, encoding, encoding_errors, dialect, error_bad_lines, warn_bad_lines, on_bad_lines, delim_whitespace, low_memory, memory_map, float_precision, storage_options)\u001b[0m\n\u001b[0;32m    676\u001b[0m     \u001b[0mkwds\u001b[0m\u001b[1;33m.\u001b[0m\u001b[0mupdate\u001b[0m\u001b[1;33m(\u001b[0m\u001b[0mkwds_defaults\u001b[0m\u001b[1;33m)\u001b[0m\u001b[1;33m\u001b[0m\u001b[1;33m\u001b[0m\u001b[0m\n\u001b[0;32m    677\u001b[0m \u001b[1;33m\u001b[0m\u001b[0m\n\u001b[1;32m--> 678\u001b[1;33m     \u001b[1;32mreturn\u001b[0m \u001b[0m_read\u001b[0m\u001b[1;33m(\u001b[0m\u001b[0mfilepath_or_buffer\u001b[0m\u001b[1;33m,\u001b[0m \u001b[0mkwds\u001b[0m\u001b[1;33m)\u001b[0m\u001b[1;33m\u001b[0m\u001b[1;33m\u001b[0m\u001b[0m\n\u001b[0m\u001b[0;32m    679\u001b[0m \u001b[1;33m\u001b[0m\u001b[0m\n\u001b[0;32m    680\u001b[0m \u001b[1;33m\u001b[0m\u001b[0m\n",
      "\u001b[1;32mC:\\ProgramData\\Anaconda3\\lib\\site-packages\\pandas\\io\\parsers\\readers.py\u001b[0m in \u001b[0;36m_read\u001b[1;34m(filepath_or_buffer, kwds)\u001b[0m\n\u001b[0;32m    573\u001b[0m \u001b[1;33m\u001b[0m\u001b[0m\n\u001b[0;32m    574\u001b[0m     \u001b[1;31m# Create the parser.\u001b[0m\u001b[1;33m\u001b[0m\u001b[1;33m\u001b[0m\u001b[0m\n\u001b[1;32m--> 575\u001b[1;33m     \u001b[0mparser\u001b[0m \u001b[1;33m=\u001b[0m \u001b[0mTextFileReader\u001b[0m\u001b[1;33m(\u001b[0m\u001b[0mfilepath_or_buffer\u001b[0m\u001b[1;33m,\u001b[0m \u001b[1;33m**\u001b[0m\u001b[0mkwds\u001b[0m\u001b[1;33m)\u001b[0m\u001b[1;33m\u001b[0m\u001b[1;33m\u001b[0m\u001b[0m\n\u001b[0m\u001b[0;32m    576\u001b[0m \u001b[1;33m\u001b[0m\u001b[0m\n\u001b[0;32m    577\u001b[0m     \u001b[1;32mif\u001b[0m \u001b[0mchunksize\u001b[0m \u001b[1;32mor\u001b[0m \u001b[0miterator\u001b[0m\u001b[1;33m:\u001b[0m\u001b[1;33m\u001b[0m\u001b[1;33m\u001b[0m\u001b[0m\n",
      "\u001b[1;32mC:\\ProgramData\\Anaconda3\\lib\\site-packages\\pandas\\io\\parsers\\readers.py\u001b[0m in \u001b[0;36m__init__\u001b[1;34m(self, f, engine, **kwds)\u001b[0m\n\u001b[0;32m    930\u001b[0m \u001b[1;33m\u001b[0m\u001b[0m\n\u001b[0;32m    931\u001b[0m         \u001b[0mself\u001b[0m\u001b[1;33m.\u001b[0m\u001b[0mhandles\u001b[0m\u001b[1;33m:\u001b[0m \u001b[0mIOHandles\u001b[0m \u001b[1;33m|\u001b[0m \u001b[1;32mNone\u001b[0m \u001b[1;33m=\u001b[0m \u001b[1;32mNone\u001b[0m\u001b[1;33m\u001b[0m\u001b[1;33m\u001b[0m\u001b[0m\n\u001b[1;32m--> 932\u001b[1;33m         \u001b[0mself\u001b[0m\u001b[1;33m.\u001b[0m\u001b[0m_engine\u001b[0m \u001b[1;33m=\u001b[0m \u001b[0mself\u001b[0m\u001b[1;33m.\u001b[0m\u001b[0m_make_engine\u001b[0m\u001b[1;33m(\u001b[0m\u001b[0mf\u001b[0m\u001b[1;33m,\u001b[0m \u001b[0mself\u001b[0m\u001b[1;33m.\u001b[0m\u001b[0mengine\u001b[0m\u001b[1;33m)\u001b[0m\u001b[1;33m\u001b[0m\u001b[1;33m\u001b[0m\u001b[0m\n\u001b[0m\u001b[0;32m    933\u001b[0m \u001b[1;33m\u001b[0m\u001b[0m\n\u001b[0;32m    934\u001b[0m     \u001b[1;32mdef\u001b[0m \u001b[0mclose\u001b[0m\u001b[1;33m(\u001b[0m\u001b[0mself\u001b[0m\u001b[1;33m)\u001b[0m\u001b[1;33m:\u001b[0m\u001b[1;33m\u001b[0m\u001b[1;33m\u001b[0m\u001b[0m\n",
      "\u001b[1;32mC:\\ProgramData\\Anaconda3\\lib\\site-packages\\pandas\\io\\parsers\\readers.py\u001b[0m in \u001b[0;36m_make_engine\u001b[1;34m(self, f, engine)\u001b[0m\n\u001b[0;32m   1214\u001b[0m             \u001b[1;31m# \"Union[str, PathLike[str], ReadCsvBuffer[bytes], ReadCsvBuffer[str]]\"\u001b[0m\u001b[1;33m\u001b[0m\u001b[1;33m\u001b[0m\u001b[0m\n\u001b[0;32m   1215\u001b[0m             \u001b[1;31m# , \"str\", \"bool\", \"Any\", \"Any\", \"Any\", \"Any\", \"Any\"\u001b[0m\u001b[1;33m\u001b[0m\u001b[1;33m\u001b[0m\u001b[0m\n\u001b[1;32m-> 1216\u001b[1;33m             self.handles = get_handle(  # type: ignore[call-overload]\n\u001b[0m\u001b[0;32m   1217\u001b[0m                 \u001b[0mf\u001b[0m\u001b[1;33m,\u001b[0m\u001b[1;33m\u001b[0m\u001b[1;33m\u001b[0m\u001b[0m\n\u001b[0;32m   1218\u001b[0m                 \u001b[0mmode\u001b[0m\u001b[1;33m,\u001b[0m\u001b[1;33m\u001b[0m\u001b[1;33m\u001b[0m\u001b[0m\n",
      "\u001b[1;32mC:\\ProgramData\\Anaconda3\\lib\\site-packages\\pandas\\io\\common.py\u001b[0m in \u001b[0;36mget_handle\u001b[1;34m(path_or_buf, mode, encoding, compression, memory_map, is_text, errors, storage_options)\u001b[0m\n\u001b[0;32m    784\u001b[0m         \u001b[1;32mif\u001b[0m \u001b[0mioargs\u001b[0m\u001b[1;33m.\u001b[0m\u001b[0mencoding\u001b[0m \u001b[1;32mand\u001b[0m \u001b[1;34m\"b\"\u001b[0m \u001b[1;32mnot\u001b[0m \u001b[1;32min\u001b[0m \u001b[0mioargs\u001b[0m\u001b[1;33m.\u001b[0m\u001b[0mmode\u001b[0m\u001b[1;33m:\u001b[0m\u001b[1;33m\u001b[0m\u001b[1;33m\u001b[0m\u001b[0m\n\u001b[0;32m    785\u001b[0m             \u001b[1;31m# Encoding\u001b[0m\u001b[1;33m\u001b[0m\u001b[1;33m\u001b[0m\u001b[0m\n\u001b[1;32m--> 786\u001b[1;33m             handle = open(\n\u001b[0m\u001b[0;32m    787\u001b[0m                 \u001b[0mhandle\u001b[0m\u001b[1;33m,\u001b[0m\u001b[1;33m\u001b[0m\u001b[1;33m\u001b[0m\u001b[0m\n\u001b[0;32m    788\u001b[0m                 \u001b[0mioargs\u001b[0m\u001b[1;33m.\u001b[0m\u001b[0mmode\u001b[0m\u001b[1;33m,\u001b[0m\u001b[1;33m\u001b[0m\u001b[1;33m\u001b[0m\u001b[0m\n",
      "\u001b[1;31mFileNotFoundError\u001b[0m: [Errno 2] No such file or directory: 'mushrooms.csv'"
     ]
    }
   ],
   "source": [
    "df = pd.read_csv('mushrooms.csv');"
   ]
  },
  {
   "cell_type": "code",
   "execution_count": null,
   "id": "4ade9db6",
   "metadata": {},
   "outputs": [],
   "source": [
    "df.head(5)"
   ]
  },
  {
   "cell_type": "code",
   "execution_count": null,
   "id": "115c4f06",
   "metadata": {},
   "outputs": [],
   "source": [
    "#To check if the data is imbalance\n",
    "\n",
    "df['class'].value_counts()"
   ]
  },
  {
   "cell_type": "code",
   "execution_count": null,
   "id": "35b9d30d",
   "metadata": {},
   "outputs": [],
   "source": [
    "sns.countplot(df['class']);"
   ]
  },
  {
   "cell_type": "markdown",
   "id": "cc17f9af",
   "metadata": {},
   "source": [
    "### 2. Data Pre-Processing\n",
    "* 2.1 Data Cleaning \n",
    "* 2.1.1 Drop Duplicates"
   ]
  },
  {
   "cell_type": "code",
   "execution_count": null,
   "id": "5db74e52",
   "metadata": {},
   "outputs": [],
   "source": [
    "#check the shape of the dataframe \n",
    "df.shape"
   ]
  },
  {
   "cell_type": "code",
   "execution_count": null,
   "id": "48f728ee",
   "metadata": {},
   "outputs": [],
   "source": [
    "#drop duplicates\n",
    "df.drop_duplicates(inplace = True)"
   ]
  },
  {
   "cell_type": "code",
   "execution_count": null,
   "id": "73ca1d7c",
   "metadata": {},
   "outputs": [],
   "source": [
    "#check again the shape of the dataframe \n",
    "df.duplicated().sum()"
   ]
  },
  {
   "cell_type": "markdown",
   "id": "7eca83ae",
   "metadata": {},
   "source": [
    "* 2.1.2 Fill-in Missing Values"
   ]
  },
  {
   "cell_type": "code",
   "execution_count": null,
   "id": "d4d64d40",
   "metadata": {},
   "outputs": [],
   "source": [
    "df.isna().sum()"
   ]
  },
  {
   "cell_type": "markdown",
   "id": "6494db33",
   "metadata": {},
   "source": [
    "### As we can see, the dataset does not have any missing values in any of its features"
   ]
  },
  {
   "cell_type": "code",
   "execution_count": null,
   "id": "3570851f",
   "metadata": {},
   "outputs": [],
   "source": [
    "#Columns - Features \n",
    "#target variable - attribute"
   ]
  },
  {
   "cell_type": "markdown",
   "id": "7a559759",
   "metadata": {},
   "source": [
    "* 2.1.3 Removing Extreme Values"
   ]
  },
  {
   "cell_type": "code",
   "execution_count": null,
   "id": "ae7beacb",
   "metadata": {},
   "outputs": [],
   "source": [
    "#check types of features\n",
    "df.dtypes"
   ]
  },
  {
   "cell_type": "markdown",
   "id": "abc867ec",
   "metadata": {},
   "source": [
    "### Since we do not have any numerical features, we will skip \"removing extreme values\" step"
   ]
  },
  {
   "cell_type": "markdown",
   "id": "f992f981",
   "metadata": {},
   "source": [
    "* 2.2 Converting Categorical Features into numerical features"
   ]
  },
  {
   "cell_type": "code",
   "execution_count": null,
   "id": "d3599265",
   "metadata": {},
   "outputs": [],
   "source": [
    "### We will use label encoding, label encoding will loop all columns to change it into 1,0 values"
   ]
  },
  {
   "cell_type": "code",
   "execution_count": null,
   "id": "bd4decb1",
   "metadata": {},
   "outputs": [],
   "source": [
    "#import\n",
    "from sklearn.preprocessing import LabelEncoder"
   ]
  },
  {
   "cell_type": "code",
   "execution_count": null,
   "id": "e6d50e64",
   "metadata": {},
   "outputs": [],
   "source": [
    "df.columns"
   ]
  },
  {
   "cell_type": "code",
   "execution_count": null,
   "id": "c867194a",
   "metadata": {},
   "outputs": [],
   "source": [
    "\n",
    "encoder = LabelEncoder();\n",
    "\n",
    "#para mapreserve yung lumang data\n",
    "df_new = df.copy();\n"
   ]
  },
  {
   "cell_type": "code",
   "execution_count": null,
   "id": "ab89061c",
   "metadata": {},
   "outputs": [],
   "source": [
    "#loop\n",
    "\n",
    "for col in df_new.columns:\n",
    "    if(col != 'class'):\n",
    "        df_new[col] = encoder.fit_transform(df_new[col]);"
   ]
  },
  {
   "cell_type": "code",
   "execution_count": null,
   "id": "d80d8843",
   "metadata": {},
   "outputs": [],
   "source": [
    "df_new.head(5)"
   ]
  },
  {
   "cell_type": "code",
   "execution_count": null,
   "id": "2eb1561f",
   "metadata": {},
   "outputs": [],
   "source": [
    "df_new['class'] = np.where(df_new['class'] == 'p', 1,0)"
   ]
  },
  {
   "cell_type": "code",
   "execution_count": null,
   "id": "62ae9e7e",
   "metadata": {},
   "outputs": [],
   "source": [
    "df_new.head(5)"
   ]
  },
  {
   "cell_type": "code",
   "execution_count": null,
   "id": "cea02814",
   "metadata": {},
   "outputs": [],
   "source": [
    "df_new.dtypes"
   ]
  },
  {
   "cell_type": "markdown",
   "id": "bac4477e",
   "metadata": {},
   "source": [
    "* 2.3 Data Normalization / Feature Scalling"
   ]
  },
  {
   "cell_type": "code",
   "execution_count": null,
   "id": "2f3ae551",
   "metadata": {},
   "outputs": [],
   "source": [
    "from sklearn.preprocessing import MinMaxScaler"
   ]
  },
  {
   "cell_type": "code",
   "execution_count": null,
   "id": "3c683366",
   "metadata": {},
   "outputs": [],
   "source": [
    "df_scaled = df_new.copy()\n",
    "scaler = MinMaxScaler()"
   ]
  },
  {
   "cell_type": "code",
   "execution_count": null,
   "id": "79ca9655",
   "metadata": {},
   "outputs": [],
   "source": [
    "#loop\n",
    "\n",
    "for col in df_scaled.columns:\n",
    "    if(col != 'class'):\n",
    "        df_scaled[col] = scaler.fit_transform(df_scaled[col].values.reshape(-1,1));\n",
    "        #convert into 2 dimensional array - values.reshape(-1,1)"
   ]
  },
  {
   "cell_type": "code",
   "execution_count": null,
   "id": "11c08a87",
   "metadata": {},
   "outputs": [],
   "source": [
    "df_scaled.head(5)"
   ]
  },
  {
   "cell_type": "markdown",
   "id": "0b7d793d",
   "metadata": {},
   "source": [
    "* FEATURE SELECTION / Correlation Analysis"
   ]
  },
  {
   "cell_type": "code",
   "execution_count": null,
   "id": "388e8135",
   "metadata": {},
   "outputs": [],
   "source": [
    "sns.heatmap(df_scaled.corr());"
   ]
  },
  {
   "cell_type": "code",
   "execution_count": null,
   "id": "ee1e9d01",
   "metadata": {},
   "outputs": [],
   "source": [
    "df_scaled = df_scaled.drop(['veil-type'], axis=1)"
   ]
  },
  {
   "cell_type": "code",
   "execution_count": null,
   "id": "ad6deecb",
   "metadata": {},
   "outputs": [],
   "source": [
    "sns.heatmap(df_scaled.corr());"
   ]
  },
  {
   "cell_type": "code",
   "execution_count": null,
   "id": "a5998fd2",
   "metadata": {},
   "outputs": [],
   "source": [
    "corr = df_scaled.corr()\n",
    "corr_mask = corr.mask(np.triu(np.ones_like(corr, dtype=np.bool)))\n",
    "corr_unstacked = corr_mask.unstack().sort_values(ascending = False);\n",
    "corr_df = pd.DataFrame(corr_unstacked[corr_unstacked>.75]).sort_index()"
   ]
  },
  {
   "cell_type": "code",
   "execution_count": null,
   "id": "de377d86",
   "metadata": {},
   "outputs": [],
   "source": [
    "corr_df"
   ]
  },
  {
   "cell_type": "code",
   "execution_count": null,
   "id": "d2d5f585",
   "metadata": {},
   "outputs": [],
   "source": [
    "#drop gill-attachments to remove any correlation\n",
    "df_scaled = df_scaled.drop(['gill-attachment'], axis=1)"
   ]
  },
  {
   "cell_type": "code",
   "execution_count": null,
   "id": "ac529474",
   "metadata": {},
   "outputs": [],
   "source": [
    "sns.heatmap(df_scaled.corr());"
   ]
  },
  {
   "cell_type": "markdown",
   "id": "627e56ab",
   "metadata": {},
   "source": [
    "### 3. DATA MODELLING\n",
    "* 3.1 Split Target variables to feature variables"
   ]
  },
  {
   "cell_type": "code",
   "execution_count": null,
   "id": "43488e1e",
   "metadata": {},
   "outputs": [],
   "source": [
    "#class is traget var\n",
    "X = df_scaled.drop(['class'], axis=1);\n",
    "y = df_scaled['class'];"
   ]
  },
  {
   "cell_type": "markdown",
   "id": "8433e7ef",
   "metadata": {},
   "source": [
    "* 3.2 Split the dataset to training and tests\n",
    "* if supervised learning"
   ]
  },
  {
   "cell_type": "code",
   "execution_count": null,
   "id": "697920f1",
   "metadata": {},
   "outputs": [],
   "source": [
    "#importing model selection for training and test\n",
    "from sklearn.model_selection import train_test_split"
   ]
  },
  {
   "cell_type": "code",
   "execution_count": null,
   "id": "9883afa1",
   "metadata": {},
   "outputs": [],
   "source": [
    "X_train, X_test, y_train, y_test = train_test_split(X,y,random_state=42, train_size=.80, stratify=y);\n",
    "#stratify - para same ang feature."
   ]
  },
  {
   "cell_type": "code",
   "execution_count": null,
   "id": "e0e7f14e",
   "metadata": {},
   "outputs": [],
   "source": [
    "#see values of train and test\n",
    "print(X.shape)\n",
    "print(X_train.shape)\n",
    "print(X_test.shape)"
   ]
  },
  {
   "cell_type": "markdown",
   "id": "8d491469",
   "metadata": {},
   "source": [
    "* 3.3 Choose The Best Model "
   ]
  },
  {
   "cell_type": "markdown",
   "id": "75606c5a",
   "metadata": {},
   "source": [
    "* 3.3.1 Naive Bayes"
   ]
  },
  {
   "cell_type": "code",
   "execution_count": null,
   "id": "3bb8adde",
   "metadata": {},
   "outputs": [],
   "source": [
    "#gaussian naive bayes\n",
    "from sklearn.naive_bayes import GaussianNB"
   ]
  },
  {
   "cell_type": "code",
   "execution_count": null,
   "id": "2bc4cc11",
   "metadata": {},
   "outputs": [],
   "source": [
    "#for evaluation\n",
    "\n",
    "from sklearn.metrics import confusion_matrix \n",
    "from sklearn.metrics import plot_roc_curve\n",
    "from sklearn.metrics import classification_report # so that we will not compute the accuracy"
   ]
  },
  {
   "cell_type": "code",
   "execution_count": null,
   "id": "1f20cb3d",
   "metadata": {},
   "outputs": [],
   "source": [
    "def evaluate_model(model):\n",
    "    print('Classification Report\\n',classification_report(y_test, model.predict(X_test), target_names=['edible','poisonous']));\n",
    "    print('Confusion Matrix \\n',confusion_matrix(y_test, model.predict(X_test), labels=[0,1]));\n",
    "    print('\\nTraining Accuracy Score: ', model.score(X_train, y_train))\n",
    "    print('Test Accuracy Score: ', model.score(X_test, y_test))\n",
    "    print('\\n ROC Curve')\n",
    "    plot_roc_curve(model,X_test,y_test);"
   ]
  },
  {
   "cell_type": "code",
   "execution_count": null,
   "id": "6bcc7a1a",
   "metadata": {},
   "outputs": [],
   "source": [
    "gnb = GaussianNB()\n",
    "gnb.fit(X_train, y_train);\n",
    "gnb.score(X_test, y_test)"
   ]
  },
  {
   "cell_type": "code",
   "execution_count": null,
   "id": "a48c2504",
   "metadata": {},
   "outputs": [],
   "source": [
    "evaluate_model(gnb)\n",
    "#classification - titignan lagi ang f1 score para sa accuracy rate\n",
    "#not smooth"
   ]
  },
  {
   "cell_type": "markdown",
   "id": "c10ae4c2",
   "metadata": {},
   "source": [
    "* 3.3.2 Bernoulli Naive Bayes"
   ]
  },
  {
   "cell_type": "code",
   "execution_count": null,
   "id": "dae1feb4",
   "metadata": {},
   "outputs": [],
   "source": [
    "from sklearn.naive_bayes import BernoulliNB"
   ]
  },
  {
   "cell_type": "code",
   "execution_count": null,
   "id": "07a5412d",
   "metadata": {},
   "outputs": [],
   "source": [
    "bnb = BernoulliNB()\n",
    "bnb.fit(X_train, y_train);\n",
    "bnb.score(X_test, y_test)"
   ]
  },
  {
   "cell_type": "code",
   "execution_count": null,
   "id": "11575af2",
   "metadata": {},
   "outputs": [],
   "source": [
    "evaluate_model(bnb)\n",
    "#not smooth"
   ]
  },
  {
   "cell_type": "markdown",
   "id": "622df115",
   "metadata": {},
   "source": [
    "* 3.3.3 Decision Tree"
   ]
  },
  {
   "cell_type": "code",
   "execution_count": null,
   "id": "7445a422",
   "metadata": {},
   "outputs": [],
   "source": [
    "from sklearn.tree import DecisionTreeClassifier"
   ]
  },
  {
   "cell_type": "code",
   "execution_count": null,
   "id": "b99ea104",
   "metadata": {},
   "outputs": [],
   "source": [
    "dt = DecisionTreeClassifier()\n",
    "dt.fit(X_train, y_train);\n",
    "dt.score(X_test, y_test)"
   ]
  },
  {
   "cell_type": "code",
   "execution_count": null,
   "id": "42d61584",
   "metadata": {},
   "outputs": [],
   "source": [
    "evaluate_model(dt)\n",
    "#panget kasi hindi magiging accurate ang prediction"
   ]
  },
  {
   "cell_type": "markdown",
   "id": "a8aa2e9e",
   "metadata": {},
   "source": [
    "* 3.3.4 Random Forest"
   ]
  },
  {
   "cell_type": "code",
   "execution_count": null,
   "id": "18c8a9ae",
   "metadata": {},
   "outputs": [],
   "source": [
    "from sklearn.ensemble import RandomForestClassifier"
   ]
  },
  {
   "cell_type": "code",
   "execution_count": null,
   "id": "4fd36a74",
   "metadata": {},
   "outputs": [],
   "source": [
    "rf = RandomForestClassifier()\n",
    "rf.fit(X_train, y_train);\n",
    "rf.score(X_test, y_test)"
   ]
  },
  {
   "cell_type": "code",
   "execution_count": null,
   "id": "8f25adad",
   "metadata": {},
   "outputs": [],
   "source": [
    "evaluate_model(rf)\n",
    "#smooth but not recommended same with decision tree"
   ]
  },
  {
   "cell_type": "markdown",
   "id": "03722af9",
   "metadata": {},
   "source": [
    "* 3.3.5 KNN"
   ]
  },
  {
   "cell_type": "code",
   "execution_count": null,
   "id": "fb50eba4",
   "metadata": {},
   "outputs": [],
   "source": [
    "from sklearn.neighbors import KNeighborsClassifier"
   ]
  },
  {
   "cell_type": "code",
   "execution_count": null,
   "id": "9d9d62ac",
   "metadata": {},
   "outputs": [],
   "source": [
    "knn = KNeighborsClassifier()\n",
    "knn.fit(X_train, y_train);\n",
    "knn.score(X_test, y_test)"
   ]
  },
  {
   "cell_type": "code",
   "execution_count": null,
   "id": "c231c803",
   "metadata": {},
   "outputs": [],
   "source": [
    "evaluate_model(knn)"
   ]
  },
  {
   "cell_type": "markdown",
   "id": "443bc25f",
   "metadata": {},
   "source": [
    "* 3.3.5 Logistic Regression"
   ]
  },
  {
   "cell_type": "code",
   "execution_count": null,
   "id": "3451bba1",
   "metadata": {},
   "outputs": [],
   "source": [
    "from sklearn.linear_model import LogisticRegression"
   ]
  },
  {
   "cell_type": "code",
   "execution_count": null,
   "id": "40660a99",
   "metadata": {},
   "outputs": [],
   "source": [
    "lr = LogisticRegression()\n",
    "lr.fit(X_train, y_train);\n",
    "lr.score(X_test, y_test)"
   ]
  },
  {
   "cell_type": "code",
   "execution_count": null,
   "id": "5b13786c",
   "metadata": {},
   "outputs": [],
   "source": [
    "evaluate_model(lr)\n",
    "#not so smooth"
   ]
  },
  {
   "cell_type": "markdown",
   "id": "e307b03e",
   "metadata": {},
   "source": [
    "### 4. Hyperparameter Tuning / Cross Validation\n",
    "To tune our model into a better model"
   ]
  },
  {
   "cell_type": "markdown",
   "id": "fd88ff3a",
   "metadata": {},
   "source": [
    "* 4.1.1 Decision Tree Classifier Hyperparameter Tuning"
   ]
  },
  {
   "cell_type": "code",
   "execution_count": null,
   "id": "858680b5",
   "metadata": {},
   "outputs": [],
   "source": [
    "from sklearn.model_selection import RandomizedSearchCV"
   ]
  },
  {
   "cell_type": "code",
   "execution_count": null,
   "id": "6776ea5c",
   "metadata": {},
   "outputs": [],
   "source": [
    "params = {\n",
    "    'criterion': ['gini', 'entropy'],\n",
    "    'splitter': ['best','random'],\n",
    "    'max_depth': [5,10,15,20]\n",
    "}\n",
    "\n",
    "rsearch = RandomizedSearchCV(DecisionTreeClassifier(), params, n_iter = 15, cv = 10)\n",
    "rsearch.fit(X_train, y_train)"
   ]
  },
  {
   "cell_type": "code",
   "execution_count": null,
   "id": "cff610d9",
   "metadata": {},
   "outputs": [],
   "source": [
    "rsearch.best_params_"
   ]
  },
  {
   "cell_type": "code",
   "execution_count": null,
   "id": "325317c5",
   "metadata": {},
   "outputs": [],
   "source": [
    "dt_tuned = DecisionTreeClassifier(\n",
    "        splitter ='best',\n",
    "        max_depth = 10, \n",
    "        criterion = 'gini'\n",
    ")"
   ]
  },
  {
   "cell_type": "code",
   "execution_count": null,
   "id": "684b0621",
   "metadata": {},
   "outputs": [],
   "source": [
    "dt_tuned.fit(X_train, y_train)"
   ]
  },
  {
   "cell_type": "code",
   "execution_count": null,
   "id": "8c9e0f7e",
   "metadata": {},
   "outputs": [],
   "source": [
    "evaluate_model(dt_tuned)"
   ]
  },
  {
   "cell_type": "markdown",
   "id": "675edfb7",
   "metadata": {},
   "source": [
    "* 4.4.2 RANDOM FOREST CLASSIFIER HYPERPARAMETER TUNING"
   ]
  },
  {
   "cell_type": "code",
   "execution_count": null,
   "id": "d78e952d",
   "metadata": {},
   "outputs": [],
   "source": [
    "rf.get_params()"
   ]
  },
  {
   "cell_type": "code",
   "execution_count": null,
   "id": "0dcb7416",
   "metadata": {},
   "outputs": [],
   "source": [
    "params = {\n",
    "    'criterion': ['gini', 'entropy'],\n",
    "    'n_estimators': [5,10,15,20,30,50,100],\n",
    "    'max_depth': [5,10,15,20]\n",
    "}\n",
    "\n",
    "rsearch_rf = RandomizedSearchCV(RandomForestClassifier(), params, n_iter = 15, cv = 10)\n",
    "rsearch_rf.fit(X_train, y_train)"
   ]
  },
  {
   "cell_type": "code",
   "execution_count": null,
   "id": "0f2e63e7",
   "metadata": {},
   "outputs": [],
   "source": [
    "rsearch_rf.best_params_"
   ]
  },
  {
   "cell_type": "code",
   "execution_count": null,
   "id": "137b7588",
   "metadata": {},
   "outputs": [],
   "source": [
    "rf_tuned = RandomForestClassifier(\n",
    "        n_estimators = ,\n",
    "        max_depth = 10, \n",
    "        criterion = 'gini'\n",
    ")"
   ]
  },
  {
   "cell_type": "code",
   "execution_count": null,
   "id": "274ff645",
   "metadata": {},
   "outputs": [],
   "source": [
    "rf_tuned.fit(X_train, y_train)"
   ]
  },
  {
   "cell_type": "code",
   "execution_count": null,
   "id": "ff2d844f",
   "metadata": {},
   "outputs": [],
   "source": [
    "evaluate_model(rf_tuned)"
   ]
  },
  {
   "cell_type": "code",
   "execution_count": null,
   "id": "8dc3af42",
   "metadata": {},
   "outputs": [],
   "source": []
  },
  {
   "cell_type": "code",
   "execution_count": null,
   "id": "a6b0f8dd",
   "metadata": {},
   "outputs": [],
   "source": [
    "#cross validation \n",
    "from sklearn.model_selection import cross_val_score"
   ]
  },
  {
   "cell_type": "code",
   "execution_count": null,
   "id": "8b68d05c",
   "metadata": {},
   "outputs": [],
   "source": [
    "scores = cross_val_score(dt_tuned, X_train, y_train, cv=20);\n",
    "scores.mean()"
   ]
  },
  {
   "cell_type": "markdown",
   "id": "cec2bbd9",
   "metadata": {},
   "source": [
    "### 5. Choosing a model / conclusion"
   ]
  },
  {
   "cell_type": "markdown",
   "id": "3ded8e46",
   "metadata": {},
   "source": [
    "\n",
    "* Since the cross validation score of models who gaines 100% accuracy in both training and test dataset is still 100%, we can conclude that the best models for tjis data is either DecisionTree, RandomForest or KNN Classifier Algorithm"
   ]
  },
  {
   "cell_type": "code",
   "execution_count": null,
   "id": "9094df83",
   "metadata": {},
   "outputs": [],
   "source": [
    "# Golden Rule\n",
    "#pag clean ang data good ang model\n",
    "#pinaka magandang model ang pipiliin, mataas"
   ]
  },
  {
   "cell_type": "code",
   "execution_count": null,
   "id": "7dedff08",
   "metadata": {},
   "outputs": [],
   "source": []
  }
 ],
 "metadata": {
  "kernelspec": {
   "display_name": "Python 3 (ipykernel)",
   "language": "python",
   "name": "python3"
  },
  "language_info": {
   "codemirror_mode": {
    "name": "ipython",
    "version": 3
   },
   "file_extension": ".py",
   "mimetype": "text/x-python",
   "name": "python",
   "nbconvert_exporter": "python",
   "pygments_lexer": "ipython3",
   "version": "3.9.13"
  }
 },
 "nbformat": 4,
 "nbformat_minor": 5
}
