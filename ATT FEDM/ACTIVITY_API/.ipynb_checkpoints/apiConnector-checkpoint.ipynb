{
 "cells": [
  {
   "cell_type": "code",
   "execution_count": 1,
   "id": "2376fc57",
   "metadata": {},
   "outputs": [],
   "source": [
    "import pandas as pd;\n",
    "from flask import Flask;\n",
    "from flask import request,jsonify; #edited\n",
    "from flask_cors import CORS,cross_origin; #edited\n",
    "import pickle;"
   ]
  },
  {
   "cell_type": "code",
   "execution_count": 2,
   "id": "a8ec7635",
   "metadata": {},
   "outputs": [],
   "source": [
    "app = Flask(__name__);\n",
    "app.config['CORS_HEADERS'] = 'Content-Type';\n",
    "cors=CORS(app,resources={r\"/api/*\":{\"origins\": \"*\"}});"
   ]
  },
  {
   "cell_type": "code",
   "execution_count": 3,
   "id": "be9868eb",
   "metadata": {},
   "outputs": [],
   "source": [
    "@app.route('/api/predict',methods=['GET'])\n",
    "@cross_origin()\n",
    "def welcome():\n",
    "    return \"Hello World!\";\n",
    "\n",
    "@app.route('/api/predict',methods=['POST','OPTIONS'])\n",
    "@cross_origin()\n",
    "def predict():\n",
    "    dbfile=open('prediction_model.sav','rb');\n",
    "    model=pickle.load(dbfile);\n",
    "    \n",
    "    \n",
    "    #predict model\n",
    "    #age,sex,height\n",
    "    req = request.form;\n",
    "    params = pd.DataFrame([(req['age'],req['sex'],req['strand'],req['skill'])]);\n",
    "    res = model.predict(params);\n",
    "    ans = str(res[0])\n",
    "        \n",
    "    return jsonify({'prediction': ans});\n"
   ]
  },
  {
   "cell_type": "code",
   "execution_count": 4,
   "id": "886cbbb2",
   "metadata": {},
   "outputs": [
    {
     "name": "stdout",
     "output_type": "stream",
     "text": [
      " * Serving Flask app \"__main__\" (lazy loading)\n",
      " * Environment: production\n",
      "\u001b[31m   WARNING: This is a development server. Do not use it in a production deployment.\u001b[0m\n",
      "\u001b[2m   Use a production WSGI server instead.\u001b[0m\n",
      " * Debug mode: off\n"
     ]
    },
    {
     "name": "stderr",
     "output_type": "stream",
     "text": [
      " * Running on http://127.0.0.1:105/ (Press CTRL+C to quit)\n",
      "127.0.0.1 - - [06/May/2023 09:43:15] \"OPTIONS /api/predict HTTP/1.1\" 200 -\n",
      "C:\\Users\\alxmn\\anaconda3\\lib\\site-packages\\sklearn\\base.py:450: UserWarning: X does not have valid feature names, but RandomForestRegressor was fitted with feature names\n",
      "  warnings.warn(\n",
      "127.0.0.1 - - [06/May/2023 09:43:15] \"POST /api/predict HTTP/1.1\" 200 -\n",
      "127.0.0.1 - - [06/May/2023 09:43:29] \"OPTIONS /api/predict HTTP/1.1\" 200 -\n",
      "C:\\Users\\alxmn\\anaconda3\\lib\\site-packages\\sklearn\\base.py:450: UserWarning: X does not have valid feature names, but RandomForestRegressor was fitted with feature names\n",
      "  warnings.warn(\n",
      "127.0.0.1 - - [06/May/2023 09:43:29] \"POST /api/predict HTTP/1.1\" 200 -\n",
      "127.0.0.1 - - [06/May/2023 09:43:40] \"OPTIONS /api/predict HTTP/1.1\" 200 -\n",
      "C:\\Users\\alxmn\\anaconda3\\lib\\site-packages\\sklearn\\base.py:450: UserWarning: X does not have valid feature names, but RandomForestRegressor was fitted with feature names\n",
      "  warnings.warn(\n",
      "127.0.0.1 - - [06/May/2023 09:43:40] \"POST /api/predict HTTP/1.1\" 200 -\n",
      "127.0.0.1 - - [06/May/2023 09:44:41] \"OPTIONS /api/predict HTTP/1.1\" 200 -\n",
      "C:\\Users\\alxmn\\anaconda3\\lib\\site-packages\\sklearn\\base.py:450: UserWarning: X does not have valid feature names, but RandomForestRegressor was fitted with feature names\n",
      "  warnings.warn(\n",
      "127.0.0.1 - - [06/May/2023 09:44:41] \"POST /api/predict HTTP/1.1\" 200 -\n",
      "127.0.0.1 - - [06/May/2023 09:44:45] \"OPTIONS /api/predict HTTP/1.1\" 200 -\n",
      "C:\\Users\\alxmn\\anaconda3\\lib\\site-packages\\sklearn\\base.py:450: UserWarning: X does not have valid feature names, but RandomForestRegressor was fitted with feature names\n",
      "  warnings.warn(\n",
      "127.0.0.1 - - [06/May/2023 09:44:45] \"POST /api/predict HTTP/1.1\" 200 -\n",
      "127.0.0.1 - - [06/May/2023 09:46:51] \"OPTIONS /api/predict HTTP/1.1\" 200 -\n",
      "C:\\Users\\alxmn\\anaconda3\\lib\\site-packages\\sklearn\\base.py:450: UserWarning: X does not have valid feature names, but RandomForestRegressor was fitted with feature names\n",
      "  warnings.warn(\n",
      "127.0.0.1 - - [06/May/2023 09:46:51] \"POST /api/predict HTTP/1.1\" 200 -\n",
      "127.0.0.1 - - [06/May/2023 09:47:23] \"OPTIONS /api/predict HTTP/1.1\" 200 -\n",
      "C:\\Users\\alxmn\\anaconda3\\lib\\site-packages\\sklearn\\base.py:450: UserWarning: X does not have valid feature names, but RandomForestRegressor was fitted with feature names\n",
      "  warnings.warn(\n",
      "127.0.0.1 - - [06/May/2023 09:47:23] \"POST /api/predict HTTP/1.1\" 200 -\n",
      "127.0.0.1 - - [06/May/2023 09:48:16] \"OPTIONS /api/predict HTTP/1.1\" 200 -\n",
      "C:\\Users\\alxmn\\anaconda3\\lib\\site-packages\\sklearn\\base.py:450: UserWarning: X does not have valid feature names, but RandomForestRegressor was fitted with feature names\n",
      "  warnings.warn(\n",
      "127.0.0.1 - - [06/May/2023 09:48:16] \"POST /api/predict HTTP/1.1\" 200 -\n",
      "127.0.0.1 - - [06/May/2023 09:48:27] \"OPTIONS /api/predict HTTP/1.1\" 200 -\n",
      "C:\\Users\\alxmn\\anaconda3\\lib\\site-packages\\sklearn\\base.py:450: UserWarning: X does not have valid feature names, but RandomForestRegressor was fitted with feature names\n",
      "  warnings.warn(\n",
      "127.0.0.1 - - [06/May/2023 09:48:27] \"POST /api/predict HTTP/1.1\" 200 -\n",
      "127.0.0.1 - - [06/May/2023 09:48:37] \"OPTIONS /api/predict HTTP/1.1\" 200 -\n",
      "C:\\Users\\alxmn\\anaconda3\\lib\\site-packages\\sklearn\\base.py:450: UserWarning: X does not have valid feature names, but RandomForestRegressor was fitted with feature names\n",
      "  warnings.warn(\n",
      "127.0.0.1 - - [06/May/2023 09:48:37] \"POST /api/predict HTTP/1.1\" 200 -\n",
      "127.0.0.1 - - [06/May/2023 09:48:42] \"OPTIONS /api/predict HTTP/1.1\" 200 -\n",
      "C:\\Users\\alxmn\\anaconda3\\lib\\site-packages\\sklearn\\base.py:450: UserWarning: X does not have valid feature names, but RandomForestRegressor was fitted with feature names\n",
      "  warnings.warn(\n",
      "127.0.0.1 - - [06/May/2023 09:48:42] \"POST /api/predict HTTP/1.1\" 200 -\n",
      "127.0.0.1 - - [06/May/2023 09:49:18] \"OPTIONS /api/predict HTTP/1.1\" 200 -\n",
      "C:\\Users\\alxmn\\anaconda3\\lib\\site-packages\\sklearn\\base.py:450: UserWarning: X does not have valid feature names, but RandomForestRegressor was fitted with feature names\n",
      "  warnings.warn(\n",
      "127.0.0.1 - - [06/May/2023 09:49:18] \"POST /api/predict HTTP/1.1\" 200 -\n"
     ]
    }
   ],
   "source": [
    "if __name__ == '__main__':\n",
    "    app.run(host='127.0.0.1', port=105)"
   ]
  }
 ],
 "metadata": {
  "kernelspec": {
   "display_name": "Python 3 (ipykernel)",
   "language": "python",
   "name": "python3"
  },
  "language_info": {
   "codemirror_mode": {
    "name": "ipython",
    "version": 3
   },
   "file_extension": ".py",
   "mimetype": "text/x-python",
   "name": "python",
   "nbconvert_exporter": "python",
   "pygments_lexer": "ipython3",
   "version": "3.9.13"
  }
 },
 "nbformat": 4,
 "nbformat_minor": 5
}
