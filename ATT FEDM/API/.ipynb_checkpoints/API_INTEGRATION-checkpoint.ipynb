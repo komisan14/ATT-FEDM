{
 "cells": [
  {
   "cell_type": "code",
   "execution_count": 1,
   "id": "f5109c6c",
   "metadata": {},
   "outputs": [],
   "source": [
    "import pandas as pd;\n",
    "from flask import Flask;\n",
    "from flask import request;\n",
    "from flask_cors import CORS;\n",
    "import pickle;"
   ]
  },
  {
   "cell_type": "code",
   "execution_count": 2,
   "id": "7929029f",
   "metadata": {},
   "outputs": [],
   "source": [
    "app = Flask(__name__);\n",
    "cors = CORS(app, resources={r\"/API/*\": {\"origins\" : \"*\"}});"
   ]
  },
  {
   "cell_type": "code",
   "execution_count": 3,
   "id": "4d3928d5",
   "metadata": {},
   "outputs": [],
   "source": [
    "@app.route('/API/hello', methods=['GET'])\n",
    "\n",
    "def welcome():\n",
    "    return \"ANNYEONGHASEYO\";\n",
    "\n",
    "@app.route('/api/predict', methods=['POST'])\n",
    "def predict():\n",
    "    #load model\n",
    "    dbfile = open('weightmodel.sav', 'rb');\n",
    "    model = pickle.load(dbfile);\n",
    "    \n",
    "    #predict model\n",
    "    #age, sex, height \n",
    "    req = request.form;\n",
    "    params = pd.DataFrame([req['age'],req['Sex'], req['Height']]);\n",
    "    res = model.predict(params)\n",
    "    res = str(res[0]) #convert output into string\n",
    "    \n",
    "    return res;"
   ]
  },
  {
   "cell_type": "code",
   "execution_count": 4,
   "id": "0e72d9d4",
   "metadata": {},
   "outputs": [
    {
     "name": "stdout",
     "output_type": "stream",
     "text": [
      " * Serving Flask app \"__main__\" (lazy loading)\n",
      " * Environment: production\n",
      "\u001b[31m   WARNING: This is a development server. Do not use it in a production deployment.\u001b[0m\n",
      "\u001b[2m   Use a production WSGI server instead.\u001b[0m\n",
      " * Debug mode: off\n"
     ]
    },
    {
     "name": "stderr",
     "output_type": "stream",
     "text": [
      " * Running on http://127.0.0.1:105/ (Press CTRL+C to quit)\n",
      "127.0.0.1 - - [22/Apr/2023 10:54:10] \"GET / HTTP/1.1\" 404 -\n"
     ]
    }
   ],
   "source": [
    "if __name__ == '__main__':\n",
    "    app.run(host='127.0.0.1', port = 5500)"
   ]
  },
  {
   "cell_type": "code",
   "execution_count": null,
   "id": "1e4dd186",
   "metadata": {},
   "outputs": [],
   "source": []
  }
 ],
 "metadata": {
  "kernelspec": {
   "display_name": "Python 3 (ipykernel)",
   "language": "python",
   "name": "python3"
  },
  "language_info": {
   "codemirror_mode": {
    "name": "ipython",
    "version": 3
   },
   "file_extension": ".py",
   "mimetype": "text/x-python",
   "name": "python",
   "nbconvert_exporter": "python",
   "pygments_lexer": "ipython3",
   "version": "3.9.13"
  }
 },
 "nbformat": 4,
 "nbformat_minor": 5
}
