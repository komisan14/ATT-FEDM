{
 "cells": [
  {
   "cell_type": "code",
   "execution_count": 1,
   "id": "47af54a2",
   "metadata": {},
   "outputs": [],
   "source": [
    "import numpy as np;\n",
    "import pandas as pd;\n",
    "import matplotlib.pyplot as plt;\n",
    "import seaborn as sns;\n",
    "import warnings\n",
    "warnings.filterwarnings('ignore')"
   ]
  },
  {
   "cell_type": "code",
   "execution_count": 2,
   "id": "2549041e",
   "metadata": {},
   "outputs": [
    {
     "data": {
      "text/html": [
       "<div>\n",
       "<style scoped>\n",
       "    .dataframe tbody tr th:only-of-type {\n",
       "        vertical-align: middle;\n",
       "    }\n",
       "\n",
       "    .dataframe tbody tr th {\n",
       "        vertical-align: top;\n",
       "    }\n",
       "\n",
       "    .dataframe thead th {\n",
       "        text-align: right;\n",
       "    }\n",
       "</style>\n",
       "<table border=\"1\" class=\"dataframe\">\n",
       "  <thead>\n",
       "    <tr style=\"text-align: right;\">\n",
       "      <th></th>\n",
       "      <th>Timestamp</th>\n",
       "      <th>Age</th>\n",
       "      <th>Sex</th>\n",
       "      <th>Height in (cm)</th>\n",
       "      <th>Weight in (kilograms)</th>\n",
       "    </tr>\n",
       "  </thead>\n",
       "  <tbody>\n",
       "    <tr>\n",
       "      <th>0</th>\n",
       "      <td>2023/03/18 1:41:28 PM GMT+8</td>\n",
       "      <td>21</td>\n",
       "      <td>Female</td>\n",
       "      <td>158.0</td>\n",
       "      <td>47</td>\n",
       "    </tr>\n",
       "    <tr>\n",
       "      <th>1</th>\n",
       "      <td>2023/03/18 1:41:32 PM GMT+8</td>\n",
       "      <td>20</td>\n",
       "      <td>Male</td>\n",
       "      <td>180.0</td>\n",
       "      <td>54</td>\n",
       "    </tr>\n",
       "    <tr>\n",
       "      <th>2</th>\n",
       "      <td>2023/03/18 1:41:52 PM GMT+8</td>\n",
       "      <td>20</td>\n",
       "      <td>Male</td>\n",
       "      <td>178.0</td>\n",
       "      <td>85</td>\n",
       "    </tr>\n",
       "    <tr>\n",
       "      <th>3</th>\n",
       "      <td>2023/03/18 1:41:57 PM GMT+8</td>\n",
       "      <td>21</td>\n",
       "      <td>Male</td>\n",
       "      <td>152.4</td>\n",
       "      <td>43</td>\n",
       "    </tr>\n",
       "    <tr>\n",
       "      <th>4</th>\n",
       "      <td>2023/03/18 1:42:00 PM GMT+8</td>\n",
       "      <td>21</td>\n",
       "      <td>Male</td>\n",
       "      <td>165.0</td>\n",
       "      <td>89</td>\n",
       "    </tr>\n",
       "  </tbody>\n",
       "</table>\n",
       "</div>"
      ],
      "text/plain": [
       "                     Timestamp  Age     Sex  Height in (cm)  \\\n",
       "0  2023/03/18 1:41:28 PM GMT+8   21  Female           158.0   \n",
       "1  2023/03/18 1:41:32 PM GMT+8   20    Male           180.0   \n",
       "2  2023/03/18 1:41:52 PM GMT+8   20    Male           178.0   \n",
       "3  2023/03/18 1:41:57 PM GMT+8   21    Male           152.4   \n",
       "4  2023/03/18 1:42:00 PM GMT+8   21    Male           165.0   \n",
       "\n",
       "   Weight in (kilograms)  \n",
       "0                     47  \n",
       "1                     54  \n",
       "2                     85  \n",
       "3                     43  \n",
       "4                     89  "
      ]
     },
     "execution_count": 2,
     "metadata": {},
     "output_type": "execute_result"
    }
   ],
   "source": [
    "df = pd.read_csv('survey_dataset.csv');\n",
    "df.head(5)"
   ]
  },
  {
   "cell_type": "code",
   "execution_count": 3,
   "id": "979c084a",
   "metadata": {},
   "outputs": [
    {
     "data": {
      "text/plain": [
       "(100, 5)"
      ]
     },
     "execution_count": 3,
     "metadata": {},
     "output_type": "execute_result"
    }
   ],
   "source": [
    "df.shape"
   ]
  },
  {
   "cell_type": "code",
   "execution_count": 4,
   "id": "1dc4c196",
   "metadata": {},
   "outputs": [],
   "source": [
    "df.drop(['Timestamp'],axis = 1, inplace = True)"
   ]
  },
  {
   "cell_type": "code",
   "execution_count": 5,
   "id": "212ddb60",
   "metadata": {},
   "outputs": [
    {
     "data": {
      "text/plain": [
       "Age                      0\n",
       "Sex                      0\n",
       "Height in (cm)           0\n",
       "Weight in (kilograms)    0\n",
       "dtype: int64"
      ]
     },
     "execution_count": 5,
     "metadata": {},
     "output_type": "execute_result"
    }
   ],
   "source": [
    "df.isna().sum()"
   ]
  },
  {
   "cell_type": "code",
   "execution_count": 6,
   "id": "acdca860",
   "metadata": {},
   "outputs": [],
   "source": [
    "def removeOutliers(df,col):\n",
    "    q3 = df[col].quantile(0.75);\n",
    "    q1 = df[col].quantile(0.25);\n",
    "    iqr = q3 -q1;\n",
    "    max_ = q3 + (iqr * 1.5);\n",
    "    min_ = q1 - (iqr * 1.5);\n",
    "    df.loc[df[col] > max_,col] = max_;\n",
    "    df.loc[df[col] < min_,col] = min_;"
   ]
  },
  {
   "cell_type": "code",
   "execution_count": 7,
   "id": "7699929c",
   "metadata": {},
   "outputs": [
    {
     "data": {
      "text/plain": [
       "Age                        int64\n",
       "Sex                       object\n",
       "Height in (cm)           float64\n",
       "Weight in (kilograms)      int64\n",
       "dtype: object"
      ]
     },
     "execution_count": 7,
     "metadata": {},
     "output_type": "execute_result"
    }
   ],
   "source": [
    "df.dtypes"
   ]
  },
  {
   "cell_type": "code",
   "execution_count": 8,
   "id": "a865895b",
   "metadata": {},
   "outputs": [],
   "source": [
    "for col in df.columns:\n",
    "    if (df[col].dtypes != 'object'):\n",
    "        removeOutliers(df,col)"
   ]
  },
  {
   "cell_type": "code",
   "execution_count": 9,
   "id": "c8b3b57b",
   "metadata": {},
   "outputs": [
    {
     "data": {
      "image/png": "[encoded data removed]",
      "text/plain": [
       "<Figure size 640x480 with 1 Axes>"
      ]
     },
     "metadata": {},
     "output_type": "display_data"
    },
    {
     "data": {
      "image/png": "[encoded data removed]",
      "text/plain": [
       "<Figure size 640x480 with 1 Axes>"
      ]
     },
     "metadata": {},
     "output_type": "display_data"
    },
    {
     "data": {
      "image/png": "[encoded data removed]",
      "text/plain": [
       "<Figure size 640x480 with 1 Axes>"
      ]
     },
     "metadata": {},
     "output_type": "display_data"
    }
   ],
   "source": [
    "for col in df.columns:\n",
    "    if (df[col].dtypes != 'object'):\n",
    "        plt.figure();\n",
    "        sns.boxplot(df[col])"
   ]
  },
  {
   "cell_type": "code",
   "execution_count": null,
   "id": "297e0fcb",
   "metadata": {},
   "outputs": [],
   "source": []
  }
 ],
 "metadata": {
  "kernelspec": {
   "display_name": "Python 3 (ipykernel)",
   "language": "python",
   "name": "python3"
  },
  "language_info": {
   "codemirror_mode": {
    "name": "ipython",
    "version": 3
   },
   "file_extension": ".py",
   "mimetype": "text/x-python",
   "name": "python",
   "nbconvert_exporter": "python",
   "pygments_lexer": "ipython3",
   "version": "3.9.13"
  }
 },
 "nbformat": 4,
 "nbformat_minor": 5
}
