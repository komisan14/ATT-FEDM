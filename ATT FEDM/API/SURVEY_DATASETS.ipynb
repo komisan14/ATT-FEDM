{
 "cells": [
  {
   "cell_type": "code",
   "execution_count": 1,
   "id": "47af54a2",
   "metadata": {},
   "outputs": [],
   "source": [
    "import numpy as np;\n",
    "import pandas as pd;\n",
    "import matplotlib.pyplot as plt;\n",
    "import seaborn as sns;\n",
    "\n",
    "import warnings\n",
    "warnings.filterwarnings('ignore')"
   ]
  },
  {
   "cell_type": "code",
   "execution_count": 2,
   "id": "2549041e",
   "metadata": {},
   "outputs": [
    {
     "data": {
      "text/html": [
       "<div>\n",
       "<style scoped>\n",
       "    .dataframe tbody tr th:only-of-type {\n",
       "        vertical-align: middle;\n",
       "    }\n",
       "\n",
       "    .dataframe tbody tr th {\n",
       "        vertical-align: top;\n",
       "    }\n",
       "\n",
       "    .dataframe thead th {\n",
       "        text-align: right;\n",
       "    }\n",
       "</style>\n",
       "<table border=\"1\" class=\"dataframe\">\n",
       "  <thead>\n",
       "    <tr style=\"text-align: right;\">\n",
       "      <th></th>\n",
       "      <th>Timestamp</th>\n",
       "      <th>Age</th>\n",
       "      <th>Sex</th>\n",
       "      <th>Height in (cm)</th>\n",
       "      <th>Weight in (kilograms)</th>\n",
       "    </tr>\n",
       "  </thead>\n",
       "  <tbody>\n",
       "    <tr>\n",
       "      <th>0</th>\n",
       "      <td>2023/03/18 1:41:28 PM GMT+8</td>\n",
       "      <td>21</td>\n",
       "      <td>Female</td>\n",
       "      <td>158.0</td>\n",
       "      <td>47</td>\n",
       "    </tr>\n",
       "    <tr>\n",
       "      <th>1</th>\n",
       "      <td>2023/03/18 1:41:32 PM GMT+8</td>\n",
       "      <td>20</td>\n",
       "      <td>Male</td>\n",
       "      <td>180.0</td>\n",
       "      <td>54</td>\n",
       "    </tr>\n",
       "    <tr>\n",
       "      <th>2</th>\n",
       "      <td>2023/03/18 1:41:52 PM GMT+8</td>\n",
       "      <td>20</td>\n",
       "      <td>Male</td>\n",
       "      <td>178.0</td>\n",
       "      <td>85</td>\n",
       "    </tr>\n",
       "    <tr>\n",
       "      <th>3</th>\n",
       "      <td>2023/03/18 1:41:57 PM GMT+8</td>\n",
       "      <td>21</td>\n",
       "      <td>Male</td>\n",
       "      <td>152.4</td>\n",
       "      <td>43</td>\n",
       "    </tr>\n",
       "    <tr>\n",
       "      <th>4</th>\n",
       "      <td>2023/03/18 1:42:00 PM GMT+8</td>\n",
       "      <td>21</td>\n",
       "      <td>Male</td>\n",
       "      <td>165.0</td>\n",
       "      <td>89</td>\n",
       "    </tr>\n",
       "  </tbody>\n",
       "</table>\n",
       "</div>"
      ],
      "text/plain": [
       "                     Timestamp  Age     Sex  Height in (cm)  \\\n",
       "0  2023/03/18 1:41:28 PM GMT+8   21  Female           158.0   \n",
       "1  2023/03/18 1:41:32 PM GMT+8   20    Male           180.0   \n",
       "2  2023/03/18 1:41:52 PM GMT+8   20    Male           178.0   \n",
       "3  2023/03/18 1:41:57 PM GMT+8   21    Male           152.4   \n",
       "4  2023/03/18 1:42:00 PM GMT+8   21    Male           165.0   \n",
       "\n",
       "   Weight in (kilograms)  \n",
       "0                     47  \n",
       "1                     54  \n",
       "2                     85  \n",
       "3                     43  \n",
       "4                     89  "
      ]
     },
     "execution_count": 2,
     "metadata": {},
     "output_type": "execute_result"
    }
   ],
   "source": [
    "df = pd.read_csv('survey_dataset.csv');\n",
    "df.head(5)"
   ]
  },
  {
   "cell_type": "code",
   "execution_count": 3,
   "id": "979c084a",
   "metadata": {},
   "outputs": [
    {
     "data": {
      "text/plain": [
       "(100, 5)"
      ]
     },
     "execution_count": 3,
     "metadata": {},
     "output_type": "execute_result"
    }
   ],
   "source": [
    "df.shape"
   ]
  },
  {
   "cell_type": "code",
   "execution_count": 4,
   "id": "1dc4c196",
   "metadata": {},
   "outputs": [],
   "source": [
    "df.drop(['Timestamp'],axis = 1, inplace = True)"
   ]
  },
  {
   "cell_type": "code",
   "execution_count": 5,
   "id": "212ddb60",
   "metadata": {},
   "outputs": [
    {
     "data": {
      "text/plain": [
       "Age                      0\n",
       "Sex                      0\n",
       "Height in (cm)           0\n",
       "Weight in (kilograms)    0\n",
       "dtype: int64"
      ]
     },
     "execution_count": 5,
     "metadata": {},
     "output_type": "execute_result"
    }
   ],
   "source": [
    "df.isna().sum()"
   ]
  },
  {
   "cell_type": "code",
   "execution_count": 6,
   "id": "acdca860",
   "metadata": {},
   "outputs": [],
   "source": [
    "def removeOutliers(df,col):\n",
    "    q3 = df[col].quantile(0.75);\n",
    "    q1 = df[col].quantile(0.25);\n",
    "    iqr = q3 -q1;\n",
    "    max_ = q3 + (iqr * 1.5);\n",
    "    min_ = q1 - (iqr * 1.5);\n",
    "    df.loc[df[col] > max_,col] = max_;\n",
    "    df.loc[df[col] < min_,col] = min_;"
   ]
  },
  {
   "cell_type": "code",
   "execution_count": 7,
   "id": "7699929c",
   "metadata": {},
   "outputs": [
    {
     "data": {
      "text/plain": [
       "Age                        int64\n",
       "Sex                       object\n",
       "Height in (cm)           float64\n",
       "Weight in (kilograms)      int64\n",
       "dtype: object"
      ]
     },
     "execution_count": 7,
     "metadata": {},
     "output_type": "execute_result"
    }
   ],
   "source": [
    "df.dtypes"
   ]
  },
  {
   "cell_type": "code",
   "execution_count": 8,
   "id": "a865895b",
   "metadata": {},
   "outputs": [],
   "source": [
    "for col in df.columns:\n",
    "    if (df[col].dtypes != 'object'):\n",
    "        removeOutliers(df,col)"
   ]
  },
  {
   "cell_type": "code",
   "execution_count": 9,
   "id": "c8b3b57b",
   "metadata": {},
   "outputs": [
    {
     "data": {
      "image/png": "[encoded data removed]",
      "text/plain": [
       "<Figure size 640x480 with 1 Axes>"
      ]
     },
     "metadata": {},
     "output_type": "display_data"
    },
    {
     "data": {
      "image/png": "[encoded data removed]",
      "text/plain": [
       "<Figure size 640x480 with 1 Axes>"
      ]
     },
     "metadata": {},
     "output_type": "display_data"
    },
    {
     "data": {
      "image/png": "[encoded data removed]",
      "text/plain": [
       "<Figure size 640x480 with 1 Axes>"
      ]
     },
     "metadata": {},
     "output_type": "display_data"
    }
   ],
   "source": [
    "for col in df.columns:\n",
    "    if (df[col].dtypes != 'object'):\n",
    "        plt.figure();\n",
    "        sns.boxplot(df[col])"
   ]
  },
  {
   "cell_type": "code",
   "execution_count": 10,
   "id": "297e0fcb",
   "metadata": {},
   "outputs": [],
   "source": [
    "df['Sex'] = df['Sex'].map({'Male':0, 'Female':1})"
   ]
  },
  {
   "cell_type": "code",
   "execution_count": 11,
   "id": "6356a4c1",
   "metadata": {},
   "outputs": [
    {
     "data": {
      "text/html": [
       "<div>\n",
       "<style scoped>\n",
       "    .dataframe tbody tr th:only-of-type {\n",
       "        vertical-align: middle;\n",
       "    }\n",
       "\n",
       "    .dataframe tbody tr th {\n",
       "        vertical-align: top;\n",
       "    }\n",
       "\n",
       "    .dataframe thead th {\n",
       "        text-align: right;\n",
       "    }\n",
       "</style>\n",
       "<table border=\"1\" class=\"dataframe\">\n",
       "  <thead>\n",
       "    <tr style=\"text-align: right;\">\n",
       "      <th></th>\n",
       "      <th>Age</th>\n",
       "      <th>Sex</th>\n",
       "      <th>Height in (cm)</th>\n",
       "      <th>Weight in (kilograms)</th>\n",
       "    </tr>\n",
       "  </thead>\n",
       "  <tbody>\n",
       "    <tr>\n",
       "      <th>0</th>\n",
       "      <td>21</td>\n",
       "      <td>1</td>\n",
       "      <td>158.0</td>\n",
       "      <td>47.0</td>\n",
       "    </tr>\n",
       "    <tr>\n",
       "      <th>1</th>\n",
       "      <td>20</td>\n",
       "      <td>0</td>\n",
       "      <td>180.0</td>\n",
       "      <td>54.0</td>\n",
       "    </tr>\n",
       "    <tr>\n",
       "      <th>2</th>\n",
       "      <td>20</td>\n",
       "      <td>0</td>\n",
       "      <td>178.0</td>\n",
       "      <td>85.0</td>\n",
       "    </tr>\n",
       "    <tr>\n",
       "      <th>3</th>\n",
       "      <td>21</td>\n",
       "      <td>0</td>\n",
       "      <td>152.4</td>\n",
       "      <td>43.0</td>\n",
       "    </tr>\n",
       "    <tr>\n",
       "      <th>4</th>\n",
       "      <td>21</td>\n",
       "      <td>0</td>\n",
       "      <td>165.0</td>\n",
       "      <td>89.0</td>\n",
       "    </tr>\n",
       "    <tr>\n",
       "      <th>...</th>\n",
       "      <td>...</td>\n",
       "      <td>...</td>\n",
       "      <td>...</td>\n",
       "      <td>...</td>\n",
       "    </tr>\n",
       "    <tr>\n",
       "      <th>95</th>\n",
       "      <td>25</td>\n",
       "      <td>0</td>\n",
       "      <td>188.0</td>\n",
       "      <td>50.0</td>\n",
       "    </tr>\n",
       "    <tr>\n",
       "      <th>96</th>\n",
       "      <td>22</td>\n",
       "      <td>0</td>\n",
       "      <td>174.0</td>\n",
       "      <td>65.0</td>\n",
       "    </tr>\n",
       "    <tr>\n",
       "      <th>97</th>\n",
       "      <td>21</td>\n",
       "      <td>0</td>\n",
       "      <td>160.0</td>\n",
       "      <td>45.0</td>\n",
       "    </tr>\n",
       "    <tr>\n",
       "      <th>98</th>\n",
       "      <td>25</td>\n",
       "      <td>0</td>\n",
       "      <td>175.0</td>\n",
       "      <td>65.0</td>\n",
       "    </tr>\n",
       "    <tr>\n",
       "      <th>99</th>\n",
       "      <td>21</td>\n",
       "      <td>0</td>\n",
       "      <td>145.0</td>\n",
       "      <td>39.0</td>\n",
       "    </tr>\n",
       "  </tbody>\n",
       "</table>\n",
       "<p>100 rows × 4 columns</p>\n",
       "</div>"
      ],
      "text/plain": [
       "    Age  Sex  Height in (cm)  Weight in (kilograms)\n",
       "0    21    1           158.0                   47.0\n",
       "1    20    0           180.0                   54.0\n",
       "2    20    0           178.0                   85.0\n",
       "3    21    0           152.4                   43.0\n",
       "4    21    0           165.0                   89.0\n",
       "..  ...  ...             ...                    ...\n",
       "95   25    0           188.0                   50.0\n",
       "96   22    0           174.0                   65.0\n",
       "97   21    0           160.0                   45.0\n",
       "98   25    0           175.0                   65.0\n",
       "99   21    0           145.0                   39.0\n",
       "\n",
       "[100 rows x 4 columns]"
      ]
     },
     "execution_count": 11,
     "metadata": {},
     "output_type": "execute_result"
    }
   ],
   "source": [
    "df"
   ]
  },
  {
   "cell_type": "code",
   "execution_count": 12,
   "id": "569ff825",
   "metadata": {},
   "outputs": [],
   "source": [
    "from sklearn.model_selection import train_test_split"
   ]
  },
  {
   "cell_type": "code",
   "execution_count": 13,
   "id": "d76e3549",
   "metadata": {},
   "outputs": [],
   "source": [
    "X = df.drop(['Weight in (kilograms)'], axis=1);\n",
    "y = df['Weight in (kilograms)'];"
   ]
  },
  {
   "cell_type": "code",
   "execution_count": 14,
   "id": "af177a2c",
   "metadata": {},
   "outputs": [],
   "source": [
    "# X_train, X_test, y_train, y_test = train_test_split(X,y,random_state=42, train_size=.80);"
   ]
  },
  {
   "cell_type": "code",
   "execution_count": 15,
   "id": "13704ca9",
   "metadata": {},
   "outputs": [],
   "source": [
    "from sklearn.metrics import r2_score\n",
    "from sklearn.metrics import mean_absolute_error\n",
    "from sklearn.metrics import mean_squared_error"
   ]
  },
  {
   "cell_type": "code",
   "execution_count": 16,
   "id": "fac14241",
   "metadata": {},
   "outputs": [],
   "source": [
    "def evaluate_model(model,X,y):\n",
    "    X_train,X_test,y_train,y_test = train_test_split(X,y,random_state=42,\n",
    "                                                 train_size=.80);\n",
    "    \n",
    "    model.fit(X_train, y_train);\n",
    "    \n",
    "    y_pred = model.predict(X_test);\n",
    "    print('r^2 Score: ', r2_score(y_test, y_pred)) # accuracy score\n",
    "    print('Mean Absolute Error: ', mean_absolute_error(y_test, y_pred)); #closer to zero, better\n",
    "    print('Root Mean Square Eror: ', np.sqrt(mean_squared_error(y_test, y_pred)))  #closer to zero, better\n",
    "    \n",
    "    plt.scatter(y_train, model.predict(X_train), color='teal')\n",
    "    plt.plot(y_pred, y_pred)\n",
    "    plt.show()"
   ]
  },
  {
   "cell_type": "code",
   "execution_count": 17,
   "id": "270213c6",
   "metadata": {},
   "outputs": [
    {
     "name": "stdout",
     "output_type": "stream",
     "text": [
      "r^2 Score:  0.19662253351767411\n",
      "Mean Absolute Error:  9.583063095238098\n",
      "Root Mean Square Eror:  11.909504259517046\n"
     ]
    },
    {
     "data": {
      "image/png": "[encoded data removed]",
      "text/plain": [
       "<Figure size 640x480 with 1 Axes>"
      ]
     },
     "metadata": {},
     "output_type": "display_data"
    }
   ],
   "source": [
    "from sklearn.ensemble import RandomForestRegressor\n",
    "\n",
    "rf = RandomForestRegressor()\n",
    "evaluate_model(rf,X,y)"
   ]
  },
  {
   "cell_type": "code",
   "execution_count": 18,
   "id": "96948036",
   "metadata": {},
   "outputs": [],
   "source": [
    "import pickle;\n",
    "\n",
    "dbfile = open('weightmodel.sav', 'wb');\n",
    "pickle.dump(rf,dbfile);"
   ]
  },
  {
   "cell_type": "code",
   "execution_count": 19,
   "id": "56fafdd1",
   "metadata": {},
   "outputs": [],
   "source": [
    "# params = pd.DataFrame([[22,0,147]])"
   ]
  },
  {
   "cell_type": "code",
   "execution_count": 20,
   "id": "7dd663f7",
   "metadata": {},
   "outputs": [],
   "source": [
    "# res = model.predict(params)"
   ]
  },
  {
   "cell_type": "code",
   "execution_count": 21,
   "id": "3af69fde",
   "metadata": {},
   "outputs": [],
   "source": [
    "# res[0]"
   ]
  },
  {
   "cell_type": "code",
   "execution_count": 22,
   "id": "78a41d71",
   "metadata": {},
   "outputs": [],
   "source": [
    "# df"
   ]
  }
 ],
 "metadata": {
  "kernelspec": {
   "display_name": "Python 3 (ipykernel)",
   "language": "python",
   "name": "python3"
  },
  "language_info": {
   "codemirror_mode": {
    "name": "ipython",
    "version": 3
   },
   "file_extension": ".py",
   "mimetype": "text/x-python",
   "name": "python",
   "nbconvert_exporter": "python",
   "pygments_lexer": "ipython3",
   "version": "3.9.13"
  }
 },
 "nbformat": 4,
 "nbformat_minor": 5
}
