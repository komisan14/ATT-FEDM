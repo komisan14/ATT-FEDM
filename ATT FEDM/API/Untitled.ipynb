{
 "cells": [
  {
   "cell_type": "code",
   "execution_count": null,
   "id": "ae90eb88",
   "metadata": {},
   "outputs": [
    {
     "name": "stdout",
     "output_type": "stream",
     "text": [
      " * Serving Flask app \"__main__\" (lazy loading)\n",
      " * Environment: production\n",
      "\u001b[31m   WARNING: This is a development server. Do not use it in a production deployment.\u001b[0m\n",
      "\u001b[2m   Use a production WSGI server instead.\u001b[0m\n",
      " * Debug mode: off\n"
     ]
    },
    {
     "name": "stderr",
     "output_type": "stream",
     "text": [
      " * Running on http://127.0.0.1:5500/ (Press CTRL+C to quit)\n"
     ]
    }
   ],
   "source": [
    "#API to scale our data\n",
    "import pandas as pd;\n",
    "from sklearn.preprocessing import MinMaxScaler;\n",
    "from flask import Flask;\n",
    "from flask import request,jsonify;\n",
    "from flask_cors import CORS,cross_origin;\n",
    "import pickle;\n",
    "import json;\n",
    "\n",
    "app = Flask(__name__); #construct a Flask class \n",
    "app.config['CORS_HEADERS'] = 'Content-Type';\n",
    "cors = CORS(app, resources={r\"/API/*\": {\"origins\": \"*\"}})\n",
    "\n",
    "\n",
    "@app.route('/API/hello', methods=['GET', 'POST'])\n",
    "@cross_origin()\n",
    "def welcome():\n",
    "    return \"Hello World!\"\n",
    "\n",
    "@app.route('/API/predict', methods=['GET','POST','OPTIONS'])\n",
    "@cross_origin()\n",
    "def predict():\n",
    "    #load model\n",
    "    with open('weightmodel.sav', 'rb') as f:\n",
    "        try:\n",
    "            model = pickle.load(f)\n",
    "        except EOFError:\n",
    "            print(\"Unable to load file - EOFError: Ran out of input.\")\n",
    "    \n",
    "    #predict model\n",
    "    #age, sex, height \n",
    "    req = request.form;\n",
    "    params = pd.DataFrame([(req['age'],req['sex'], req['height'])]);\n",
    "    res = model.predict(params)\n",
    "    # res = str(res[0]) #convert output into string\n",
    "    \n",
    "    return jsonify({'Prediction': res[0]});\n",
    "\n",
    "if __name__ == '__main__':\n",
    "    app.run(host='127.0.0.1', port=5500)"
   ]
  },
  {
   "cell_type": "code",
   "execution_count": null,
   "id": "f8d6e16e",
   "metadata": {},
   "outputs": [],
   "source": []
  }
 ],
 "metadata": {
  "kernelspec": {
   "display_name": "Python 3 (ipykernel)",
   "language": "python",
   "name": "python3"
  },
  "language_info": {
   "codemirror_mode": {
    "name": "ipython",
    "version": 3
   },
   "file_extension": ".py",
   "mimetype": "text/x-python",
   "name": "python",
   "nbconvert_exporter": "python",
   "pygments_lexer": "ipython3",
   "version": "3.9.13"
  }
 },
 "nbformat": 4,
 "nbformat_minor": 5
}
