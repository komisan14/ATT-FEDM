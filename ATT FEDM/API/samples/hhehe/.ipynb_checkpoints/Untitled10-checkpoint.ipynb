{
 "cells": [
  {
   "cell_type": "code",
   "execution_count": 1,
   "id": "2a3c1814",
   "metadata": {},
   "outputs": [],
   "source": [
    "import pandas as pd\n",
    "from flask import Flask;\n",
    "from flask import request, jsonify;\n",
    "from flask_cors import CORS, cross_origin;\n",
    "import pickle\n"
   ]
  },
  {
   "cell_type": "code",
   "execution_count": 2,
   "id": "aa204fd5",
   "metadata": {},
   "outputs": [],
   "source": [
    "app = Flask(__name__)\n",
    "app.config['CORS_HEADERS'] = 'Content-typpe';\n",
    "cors = CORS(app, resources={r\"/api/\": {\"origins\": \"\"}})"
   ]
  },
  {
   "cell_type": "code",
   "execution_count": 3,
   "id": "4a9885bc",
   "metadata": {},
   "outputs": [],
   "source": [
    "@app.route(\"/api/hello/\", methods=['GET'])\n",
    "@cross_origin()\n",
    "def welcome():\n",
    "    return \"Hello World!\"\n",
    "\n",
    "@app.route(\"/api/predict\", methods=['POST','OPTIONS'])\n",
    "@cross_origin()\n",
    "def predict():\n",
    "    dbfile = open('weightmodel.sav', 'rb')\n",
    "    model = pickle.load(dbfile)\n",
    "    request_data = request.form\n",
    "    params = pd.DataFrame([(request_data['age'], request_data['sex'], request_data['height'])])\n",
    "    res = model.predict(params)\n",
    "    return jsonify({'prediction': res[0]});"
   ]
  },
  {
   "cell_type": "code",
   "execution_count": null,
   "id": "23067c59",
   "metadata": {},
   "outputs": [
    {
     "name": "stdout",
     "output_type": "stream",
     "text": [
      " * Serving Flask app \"__main__\" (lazy loading)\n",
      " * Environment: production\n",
      "   WARNING: This is a development server. Do not use it in a production deployment.\n",
      "   Use a production WSGI server instead.\n",
      " * Debug mode: off\n"
     ]
    },
    {
     "name": "stderr",
     "output_type": "stream",
     "text": [
      " * Running on http://127.0.0.1:105/ (Press CTRL+C to quit)\n"
     ]
    }
   ],
   "source": [
    "if __name__ == '__main__':\n",
    "    app.run(host='127.0.0.1', port=105)"
   ]
  },
  {
   "cell_type": "code",
   "execution_count": null,
   "id": "868e737f",
   "metadata": {},
   "outputs": [],
   "source": []
  }
 ],
 "metadata": {
  "kernelspec": {
   "display_name": "Python 3",
   "language": "python",
   "name": "python3"
  },
  "language_info": {
   "codemirror_mode": {
    "name": "ipython",
    "version": 3
   },
   "file_extension": ".py",
   "mimetype": "text/x-python",
   "name": "python",
   "nbconvert_exporter": "python",
   "pygments_lexer": "ipython3",
   "version": "3.8.8"
  }
 },
 "nbformat": 4,
 "nbformat_minor": 5
}
