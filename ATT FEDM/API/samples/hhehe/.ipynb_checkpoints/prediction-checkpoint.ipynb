{
 "cells": [
  {
   "cell_type": "code",
   "execution_count": 13,
   "id": "47870809",
   "metadata": {},
   "outputs": [],
   "source": [
    "import pandas as pd;\n",
    "from flask import Flask;\n",
    "from flask import request, jsonify;\n",
    "from flask_cors import CORS,cross_origin;\n",
    "import pickle;"
   ]
  },
  {
   "cell_type": "code",
   "execution_count": 14,
   "id": "8f0e9854",
   "metadata": {},
   "outputs": [],
   "source": [
    "app = Flask(__name__); #construct a flask class\n",
    "app.config['CORS_HEADER']= 'Content-Type';\n",
    "cors = CORS(app, resources = {r\"/api/*\": {\"origins\": \"*\"}});"
   ]
  },
  {
   "cell_type": "code",
   "execution_count": 15,
   "id": "c850bba5",
   "metadata": {},
   "outputs": [],
   "source": [
    "@app.route('/api/hello', methods=['GET'])\n",
    "@cross_origin()\n",
    "def welcome():\n",
    "    return \"Hello World!\"\n",
    "\n",
    "@app.route('/api/predict', methods=['POST', 'OPTIONS'])\n",
    "@cross_origin()\n",
    "def predict():\n",
    "    dbfile = open('weightmodel.sav', 'rb');\n",
    "    model = pickle.load(dbfile);\n",
    "    \n",
    "    #predict model\n",
    "    #age, sex, height\n",
    "    \n",
    "    req=request.form;\n",
    "    params = pd.DataFrame([(req['age'],req['sex'],req['height'])]);\n",
    "    res = model.predict(params);\n",
    "\n",
    "    \n",
    "    return jsonify({'prediction': res[0]});"
   ]
  },
  {
   "cell_type": "code",
   "execution_count": null,
   "id": "7cd622ce",
   "metadata": {},
   "outputs": [
    {
     "name": "stdout",
     "output_type": "stream",
     "text": [
      " * Serving Flask app \"__main__\" (lazy loading)\n",
      " * Environment: production\n",
      "   WARNING: This is a development server. Do not use it in a production deployment.\n",
      "   Use a production WSGI server instead.\n",
      " * Debug mode: off\n"
     ]
    },
    {
     "name": "stderr",
     "output_type": "stream",
     "text": [
      " * Running on http://127.0.0.1:105/ (Press CTRL+C to quit)\n",
      "127.0.0.1 - - [22/Apr/2023 15:12:57] \"\u001b[33mGET / HTTP/1.1\u001b[0m\" 404 -\n",
      "127.0.0.1 - - [22/Apr/2023 15:13:08] \"\u001b[37mOPTIONS /api/predict HTTP/1.1\u001b[0m\" 200 -\n",
      "127.0.0.1 - - [22/Apr/2023 15:13:08] \"\u001b[37mOPTIONS /api/predict HTTP/1.1\u001b[0m\" 200 -\n",
      "127.0.0.1 - - [22/Apr/2023 15:13:09] \"\u001b[37mOPTIONS /api/predict HTTP/1.1\u001b[0m\" 200 -\n",
      "127.0.0.1 - - [22/Apr/2023 15:13:09] \"\u001b[37mOPTIONS /api/predict HTTP/1.1\u001b[0m\" 200 -\n",
      "127.0.0.1 - - [22/Apr/2023 15:13:09] \"\u001b[37mPOST /api/predict HTTP/1.1\u001b[0m\" 200 -\n",
      "C:\\Users\\USER\\anaconda3\\lib\\site-packages\\sklearn\\base.py:318: UserWarning: Trying to unpickle estimator DecisionTreeRegressor from version 1.2.1 when using version 1.2.2. This might lead to breaking code or invalid results. Use at your own risk. For more info please refer to:\n",
      "https://scikit-learn.org/stable/model_persistence.html#security-maintainability-limitations\n",
      "  warnings.warn(\n",
      "C:\\Users\\USER\\anaconda3\\lib\\site-packages\\sklearn\\base.py:318: UserWarning: Trying to unpickle estimator DecisionTreeRegressor from version 1.2.1 when using version 1.2.2. This might lead to breaking code or invalid results. Use at your own risk. For more info please refer to:\n",
      "https://scikit-learn.org/stable/model_persistence.html#security-maintainability-limitations\n",
      "  warnings.warn(\n",
      "C:\\Users\\USER\\anaconda3\\lib\\site-packages\\sklearn\\base.py:318: UserWarning: Trying to unpickle estimator RandomForestRegressor from version 1.2.1 when using version 1.2.2. This might lead to breaking code or invalid results. Use at your own risk. For more info please refer to:\n",
      "https://scikit-learn.org/stable/model_persistence.html#security-maintainability-limitations\n",
      "  warnings.warn(\n",
      "C:\\Users\\USER\\anaconda3\\lib\\site-packages\\sklearn\\base.py:439: UserWarning: X does not have valid feature names, but RandomForestRegressor was fitted with feature names\n",
      "  warnings.warn(\n",
      "C:\\Users\\USER\\anaconda3\\lib\\site-packages\\sklearn\\base.py:318: UserWarning: Trying to unpickle estimator DecisionTreeRegressor from version 1.2.1 when using version 1.2.2. This might lead to breaking code or invalid results. Use at your own risk. For more info please refer to:\n",
      "https://scikit-learn.org/stable/model_persistence.html#security-maintainability-limitations\n",
      "  warnings.warn(\n",
      "C:\\Users\\USER\\anaconda3\\lib\\site-packages\\sklearn\\base.py:439: UserWarning: X does not have valid feature names, but RandomForestRegressor was fitted with feature names\n",
      "  warnings.warn(\n",
      "C:\\Users\\USER\\anaconda3\\lib\\site-packages\\sklearn\\base.py:318: UserWarning: Trying to unpickle estimator DecisionTreeRegressor from version 1.2.1 when using version 1.2.2. This might lead to breaking code or invalid results. Use at your own risk. For more info please refer to:\n",
      "https://scikit-learn.org/stable/model_persistence.html#security-maintainability-limitations\n",
      "  warnings.warn(\n",
      "127.0.0.1 - - [22/Apr/2023 15:13:10] \"\u001b[37mPOST /api/predict HTTP/1.1\u001b[0m\" 200 -\n",
      "C:\\Users\\USER\\anaconda3\\lib\\site-packages\\sklearn\\base.py:318: UserWarning: Trying to unpickle estimator RandomForestRegressor from version 1.2.1 when using version 1.2.2. This might lead to breaking code or invalid results. Use at your own risk. For more info please refer to:\n",
      "https://scikit-learn.org/stable/model_persistence.html#security-maintainability-limitations\n",
      "  warnings.warn(\n",
      "C:\\Users\\USER\\anaconda3\\lib\\site-packages\\sklearn\\base.py:439: UserWarning: X does not have valid feature names, but RandomForestRegressor was fitted with feature names\n",
      "  warnings.warn(\n",
      "127.0.0.1 - - [22/Apr/2023 15:13:10] \"\u001b[37mPOST /api/predict HTTP/1.1\u001b[0m\" 200 -\n",
      "127.0.0.1 - - [22/Apr/2023 15:13:10] \"\u001b[37mPOST /api/predict HTTP/1.1\u001b[0m\" 200 -\n"
     ]
    }
   ],
   "source": [
    "if __name__ == '__main__':\n",
    "    app.run(host='127.0.0.1', port=105)"
   ]
  },
  {
   "cell_type": "code",
   "execution_count": null,
   "id": "5ccc28ea",
   "metadata": {},
   "outputs": [],
   "source": []
  }
 ],
 "metadata": {
  "kernelspec": {
   "display_name": "Python 3",
   "language": "python",
   "name": "python3"
  },
  "language_info": {
   "codemirror_mode": {
    "name": "ipython",
    "version": 3
   },
   "file_extension": ".py",
   "mimetype": "text/x-python",
   "name": "python",
   "nbconvert_exporter": "python",
   "pygments_lexer": "ipython3",
   "version": "3.8.8"
  }
 },
 "nbformat": 4,
 "nbformat_minor": 5
}
