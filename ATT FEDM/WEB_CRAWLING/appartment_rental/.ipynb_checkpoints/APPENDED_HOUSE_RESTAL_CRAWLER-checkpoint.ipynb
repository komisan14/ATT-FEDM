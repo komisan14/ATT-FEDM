{
 "cells": [
  {
   "cell_type": "code",
   "execution_count": 29,
   "id": "c0eb64c8",
   "metadata": {},
   "outputs": [],
   "source": [
    "import pandas as pd\n",
    "import numpy as np\n",
    "import seaborn as sns\n",
    "import matplotlib.pyplot as plt"
   ]
  },
  {
   "cell_type": "code",
   "execution_count": 30,
   "id": "aaf69574",
   "metadata": {},
   "outputs": [],
   "source": [
    "#my property\n",
    "\n",
    "# df1 = pd.read_csv('myproperty-03-05-23.csv');\n",
    "# df2 = pd.read_csv('myproperty-03-08-23.csv');\n",
    "# df3 = pd.read_csv('myproperty-03-09-23.csv');\n",
    "# df4 = pd.read_csv('myproperty-03-10-23.csv');\n",
    "# df5 = pd.read_csv('myproperty-03-11-23.csv');\n",
    "# df6 = pd.read_csv('myproperty-03-17-23.csv');\n",
    "# df7 = pd.read_csv('myproperty-03-18-23.csv');"
   ]
  },
  {
   "cell_type": "code",
   "execution_count": 31,
   "id": "6f0a6c29",
   "metadata": {},
   "outputs": [],
   "source": [
    "#lamudi\n",
    "\n",
    "# df1 = pd.read_csv('lamudi-03-03-23.csv');\n",
    "# df2 = pd.read_csv('lamudi-03-04-23.csv');\n",
    "# df3 = pd.read_csv('lamudi-03-05-23.csv');\n",
    "# df4 = pd.read_csv('lamudi-03-08-23.csv');\n",
    "# df5 = pd.read_csv('lamudi-03-09-23.csv');\n",
    "# df6 = pd.read_csv('lamudi-03-10-23.csv');\n",
    "# df7 = pd.read_csv('lamudi-03-11-23.csv');\n",
    "# df8 = pd.read_csv('lamudi-03-17-23.csv');\n",
    "# df9 = pd.read_csv('lamudi-03-18-23.csv');"
   ]
  },
  {
   "cell_type": "code",
   "execution_count": 32,
   "id": "5b6695d2",
   "metadata": {},
   "outputs": [],
   "source": [
    "# dotproperty\n",
    "\n",
    "df1 = pd.read_csv('dotproperty-03-04-23.csv');\n",
    "df2 = pd.read_csv('dotproperty-03-05-23.csv');\n",
    "df3 = pd.read_csv('dotproperty-03-08-23.csv');\n",
    "df4 = pd.read_csv('dotproperty-03-09-23.csv');\n",
    "df5 = pd.read_csv('dotproperty-03-11-23.csv');\n",
    "df6 = pd.read_csv('dotproperty-03-17-23.csv');\n"
   ]
  },
  {
   "cell_type": "code",
   "execution_count": 33,
   "id": "20c1428c",
   "metadata": {},
   "outputs": [],
   "source": [
    "# dfs = [df1,df2,df3,df4,df5,df6,df7]\n",
    "# to_append = ['df2','df3','df4','df5','df6','df7']"
   ]
  },
  {
   "cell_type": "code",
   "execution_count": 34,
   "id": "24d81853",
   "metadata": {
    "scrolled": true
   },
   "outputs": [],
   "source": [
    "# print(len(to_append))"
   ]
  },
  {
   "cell_type": "code",
   "execution_count": 35,
   "id": "3523cdb6",
   "metadata": {},
   "outputs": [],
   "source": [
    "df_new = df1.copy()"
   ]
  },
  {
   "cell_type": "code",
   "execution_count": 36,
   "id": "8450ac62",
   "metadata": {
    "scrolled": false
   },
   "outputs": [],
   "source": [
    "# for x in to_append:\n",
    "#     df_new.append(x)"
   ]
  },
  {
   "cell_type": "code",
   "execution_count": 37,
   "id": "cbd273cc",
   "metadata": {},
   "outputs": [
    {
     "name": "stderr",
     "output_type": "stream",
     "text": [
      "C:\\Users\\win10\\AppData\\Local\\Temp\\ipykernel_9028\\24348522.py:1: FutureWarning: The frame.append method is deprecated and will be removed from pandas in a future version. Use pandas.concat instead.\n",
      "  df_new.append(df2,ignore_index = True)\n"
     ]
    },
    {
     "data": {
      "text/html": [
       "<div>\n",
       "<style scoped>\n",
       "    .dataframe tbody tr th:only-of-type {\n",
       "        vertical-align: middle;\n",
       "    }\n",
       "\n",
       "    .dataframe tbody tr th {\n",
       "        vertical-align: top;\n",
       "    }\n",
       "\n",
       "    .dataframe thead th {\n",
       "        text-align: right;\n",
       "    }\n",
       "</style>\n",
       "<table border=\"1\" class=\"dataframe\">\n",
       "  <thead>\n",
       "    <tr style=\"text-align: right;\">\n",
       "      <th></th>\n",
       "      <th>Unnamed: 0</th>\n",
       "      <th>name</th>\n",
       "      <th>location</th>\n",
       "      <th>desc</th>\n",
       "      <th>accomodation</th>\n",
       "      <th>price</th>\n",
       "    </tr>\n",
       "  </thead>\n",
       "  <tbody>\n",
       "    <tr>\n",
       "      <th>0</th>\n",
       "      <td>0</td>\n",
       "      <td>2-Bedroom Furnished Apartment for Rent in Bana...</td>\n",
       "      <td>Cebu City\\n                                   ...</td>\n",
       "      <td>Property Type: Apartment for RentLocation: Ban...</td>\n",
       "      <td>['&lt;i class=\"icon icon-bedroom\"&gt;&lt;/i&gt; : 2']</td>\n",
       "      <td>₱ 35,000 / month\\nNew listing</td>\n",
       "    </tr>\n",
       "    <tr>\n",
       "      <th>1</th>\n",
       "      <td>1</td>\n",
       "      <td>Very Affordable Semi Furnished Apartment for r...</td>\n",
       "      <td>Cebu City\\n                                   ...</td>\n",
       "      <td>Location: Banawa Cebu CityVery Affordable Semi...</td>\n",
       "      <td>['&lt;i class=\"icon icon-bedroom\"&gt;&lt;/i&gt; : 1']</td>\n",
       "      <td>₱ 12,000 / month\\nNew listing</td>\n",
       "    </tr>\n",
       "    <tr>\n",
       "      <th>2</th>\n",
       "      <td>2</td>\n",
       "      <td>Affordable Semi Furnished Apartment for rent i...</td>\n",
       "      <td>Cebu City\\n                                   ...</td>\n",
       "      <td>Location: Banawa Cebu CityAffordable Semi Furn...</td>\n",
       "      <td>['&lt;i class=\"icon icon-bedroom\"&gt;&lt;/i&gt; : 1']</td>\n",
       "      <td>₱ 12,000 / month\\nNew listing</td>\n",
       "    </tr>\n",
       "    <tr>\n",
       "      <th>3</th>\n",
       "      <td>3</td>\n",
       "      <td>2- Bedroom Apartment with Own Gate and Garage ...</td>\n",
       "      <td>Angeles\\n                                    ,...</td>\n",
       "      <td>Rent/ Month: Php 35,000Details:90 sqm more or ...</td>\n",
       "      <td>['&lt;i class=\"icon icon-bedroom\"&gt;&lt;/i&gt; : 2']</td>\n",
       "      <td>₱ 35,000 / month</td>\n",
       "    </tr>\n",
       "    <tr>\n",
       "      <th>4</th>\n",
       "      <td>4</td>\n",
       "      <td>Most Affordable 2 Bedroom Apartment for rent i...</td>\n",
       "      <td>Cebu City\\n                                   ...</td>\n",
       "      <td>Location: Banawa Cebu City2 Bedroom Apartment ...</td>\n",
       "      <td>['&lt;i class=\"icon icon-bedroom\"&gt;&lt;/i&gt; : 2']</td>\n",
       "      <td>₱ 15,000 / month\\nNew listing</td>\n",
       "    </tr>\n",
       "    <tr>\n",
       "      <th>...</th>\n",
       "      <td>...</td>\n",
       "      <td>...</td>\n",
       "      <td>...</td>\n",
       "      <td>...</td>\n",
       "      <td>...</td>\n",
       "      <td>...</td>\n",
       "    </tr>\n",
       "    <tr>\n",
       "      <th>1820</th>\n",
       "      <td>920</td>\n",
       "      <td>LADY BEDSPACE FOR RENT IN AFPOVAI, FORT BONIFA...</td>\n",
       "      <td>Taguig\\n                                    , ...</td>\n",
       "      <td>LADY BEDSPACE FOR RENT IN AFPOVAI, FORT BONIFA...</td>\n",
       "      <td>['&lt;i class=\"icon icon-bedroom\"&gt;&lt;/i&gt; : 5']</td>\n",
       "      <td>₱ 2,500 / month</td>\n",
       "    </tr>\n",
       "    <tr>\n",
       "      <th>1821</th>\n",
       "      <td>921</td>\n",
       "      <td>Residential/Commercial Building for Lease at S...</td>\n",
       "      <td>Mandaluyong\\n                                 ...</td>\n",
       "      <td>Residential Building for Lease in Mandaluyong ...</td>\n",
       "      <td>['&lt;i class=\"icon icon-bedroom\"&gt;&lt;/i&gt; : 43']</td>\n",
       "      <td>₱ 700,000 / month</td>\n",
       "    </tr>\n",
       "    <tr>\n",
       "      <th>1822</th>\n",
       "      <td>922</td>\n",
       "      <td>MACTAN LAPU-LAPU BOUGAINVILLEA Apartment 23 FO...</td>\n",
       "      <td>Lapu-Lapu\\n                                   ...</td>\n",
       "      <td>For Rent furnished 25 sqm studio type Bougainv...</td>\n",
       "      <td>['&lt;i class=\"icon icon-bedroom\"&gt;&lt;/i&gt; : 1']</td>\n",
       "      <td>₱ 10,000 / month</td>\n",
       "    </tr>\n",
       "    <tr>\n",
       "      <th>1823</th>\n",
       "      <td>923</td>\n",
       "      <td>1-Bedroom Semi-Furnished Apartment in Banawa, ...</td>\n",
       "      <td>Cebu City\\n                                   ...</td>\n",
       "      <td>Property Type: Apartment for RentLocation: nea...</td>\n",
       "      <td>['&lt;i class=\"icon icon-bedroom\"&gt;&lt;/i&gt; : 1']</td>\n",
       "      <td>₱ 12,000 / month</td>\n",
       "    </tr>\n",
       "    <tr>\n",
       "      <th>1824</th>\n",
       "      <td>924</td>\n",
       "      <td>For Lease: Brand New Staff House/Condo Bldg 6 ...</td>\n",
       "      <td>Makati\\n                                    , ...</td>\n",
       "      <td>For Lease: Brand New Staff House/Condo Bldg 6 ...</td>\n",
       "      <td>['&lt;i class=\"icon icon-bedroom\"&gt;&lt;/i&gt; : 44']</td>\n",
       "      <td>₱ 1,500,000 / month</td>\n",
       "    </tr>\n",
       "  </tbody>\n",
       "</table>\n",
       "<p>1825 rows × 6 columns</p>\n",
       "</div>"
      ],
      "text/plain": [
       "      Unnamed: 0                                               name  \\\n",
       "0              0  2-Bedroom Furnished Apartment for Rent in Bana...   \n",
       "1              1  Very Affordable Semi Furnished Apartment for r...   \n",
       "2              2  Affordable Semi Furnished Apartment for rent i...   \n",
       "3              3  2- Bedroom Apartment with Own Gate and Garage ...   \n",
       "4              4  Most Affordable 2 Bedroom Apartment for rent i...   \n",
       "...          ...                                                ...   \n",
       "1820         920  LADY BEDSPACE FOR RENT IN AFPOVAI, FORT BONIFA...   \n",
       "1821         921  Residential/Commercial Building for Lease at S...   \n",
       "1822         922  MACTAN LAPU-LAPU BOUGAINVILLEA Apartment 23 FO...   \n",
       "1823         923  1-Bedroom Semi-Furnished Apartment in Banawa, ...   \n",
       "1824         924  For Lease: Brand New Staff House/Condo Bldg 6 ...   \n",
       "\n",
       "                                               location  \\\n",
       "0     Cebu City\\n                                   ...   \n",
       "1     Cebu City\\n                                   ...   \n",
       "2     Cebu City\\n                                   ...   \n",
       "3     Angeles\\n                                    ,...   \n",
       "4     Cebu City\\n                                   ...   \n",
       "...                                                 ...   \n",
       "1820  Taguig\\n                                    , ...   \n",
       "1821  Mandaluyong\\n                                 ...   \n",
       "1822  Lapu-Lapu\\n                                   ...   \n",
       "1823  Cebu City\\n                                   ...   \n",
       "1824  Makati\\n                                    , ...   \n",
       "\n",
       "                                                   desc  \\\n",
       "0     Property Type: Apartment for RentLocation: Ban...   \n",
       "1     Location: Banawa Cebu CityVery Affordable Semi...   \n",
       "2     Location: Banawa Cebu CityAffordable Semi Furn...   \n",
       "3     Rent/ Month: Php 35,000Details:90 sqm more or ...   \n",
       "4     Location: Banawa Cebu City2 Bedroom Apartment ...   \n",
       "...                                                 ...   \n",
       "1820  LADY BEDSPACE FOR RENT IN AFPOVAI, FORT BONIFA...   \n",
       "1821  Residential Building for Lease in Mandaluyong ...   \n",
       "1822  For Rent furnished 25 sqm studio type Bougainv...   \n",
       "1823  Property Type: Apartment for RentLocation: nea...   \n",
       "1824  For Lease: Brand New Staff House/Condo Bldg 6 ...   \n",
       "\n",
       "                                    accomodation  \\\n",
       "0      ['<i class=\"icon icon-bedroom\"></i> : 2']   \n",
       "1      ['<i class=\"icon icon-bedroom\"></i> : 1']   \n",
       "2      ['<i class=\"icon icon-bedroom\"></i> : 1']   \n",
       "3      ['<i class=\"icon icon-bedroom\"></i> : 2']   \n",
       "4      ['<i class=\"icon icon-bedroom\"></i> : 2']   \n",
       "...                                          ...   \n",
       "1820   ['<i class=\"icon icon-bedroom\"></i> : 5']   \n",
       "1821  ['<i class=\"icon icon-bedroom\"></i> : 43']   \n",
       "1822   ['<i class=\"icon icon-bedroom\"></i> : 1']   \n",
       "1823   ['<i class=\"icon icon-bedroom\"></i> : 1']   \n",
       "1824  ['<i class=\"icon icon-bedroom\"></i> : 44']   \n",
       "\n",
       "                              price  \n",
       "0     ₱ 35,000 / month\\nNew listing  \n",
       "1     ₱ 12,000 / month\\nNew listing  \n",
       "2     ₱ 12,000 / month\\nNew listing  \n",
       "3                  ₱ 35,000 / month  \n",
       "4     ₱ 15,000 / month\\nNew listing  \n",
       "...                             ...  \n",
       "1820                ₱ 2,500 / month  \n",
       "1821              ₱ 700,000 / month  \n",
       "1822               ₱ 10,000 / month  \n",
       "1823               ₱ 12,000 / month  \n",
       "1824            ₱ 1,500,000 / month  \n",
       "\n",
       "[1825 rows x 6 columns]"
      ]
     },
     "execution_count": 37,
     "metadata": {},
     "output_type": "execute_result"
    }
   ],
   "source": [
    "df_new.append(df2,ignore_index = True)"
   ]
  },
  {
   "cell_type": "code",
   "execution_count": 38,
   "id": "c0da22de",
   "metadata": {},
   "outputs": [],
   "source": [
    "df_new = pd.concat([df1,df2,df3,df4,df5,df6], ignore_index=True)\n"
   ]
  },
  {
   "cell_type": "code",
   "execution_count": 39,
   "id": "64e66173",
   "metadata": {
    "scrolled": true
   },
   "outputs": [
    {
     "data": {
      "text/html": [
       "<div>\n",
       "<style scoped>\n",
       "    .dataframe tbody tr th:only-of-type {\n",
       "        vertical-align: middle;\n",
       "    }\n",
       "\n",
       "    .dataframe tbody tr th {\n",
       "        vertical-align: top;\n",
       "    }\n",
       "\n",
       "    .dataframe thead th {\n",
       "        text-align: right;\n",
       "    }\n",
       "</style>\n",
       "<table border=\"1\" class=\"dataframe\">\n",
       "  <thead>\n",
       "    <tr style=\"text-align: right;\">\n",
       "      <th></th>\n",
       "      <th>Unnamed: 0</th>\n",
       "      <th>name</th>\n",
       "      <th>location</th>\n",
       "      <th>desc</th>\n",
       "      <th>accomodation</th>\n",
       "      <th>price</th>\n",
       "    </tr>\n",
       "  </thead>\n",
       "  <tbody>\n",
       "    <tr>\n",
       "      <th>0</th>\n",
       "      <td>0</td>\n",
       "      <td>2-Bedroom Furnished Apartment for Rent in Bana...</td>\n",
       "      <td>Cebu City\\n                                   ...</td>\n",
       "      <td>Property Type: Apartment for RentLocation: Ban...</td>\n",
       "      <td>['&lt;i class=\"icon icon-bedroom\"&gt;&lt;/i&gt; : 2']</td>\n",
       "      <td>₱ 35,000 / month\\nNew listing</td>\n",
       "    </tr>\n",
       "    <tr>\n",
       "      <th>1</th>\n",
       "      <td>1</td>\n",
       "      <td>Very Affordable Semi Furnished Apartment for r...</td>\n",
       "      <td>Cebu City\\n                                   ...</td>\n",
       "      <td>Location: Banawa Cebu CityVery Affordable Semi...</td>\n",
       "      <td>['&lt;i class=\"icon icon-bedroom\"&gt;&lt;/i&gt; : 1']</td>\n",
       "      <td>₱ 12,000 / month\\nNew listing</td>\n",
       "    </tr>\n",
       "    <tr>\n",
       "      <th>2</th>\n",
       "      <td>2</td>\n",
       "      <td>Affordable Semi Furnished Apartment for rent i...</td>\n",
       "      <td>Cebu City\\n                                   ...</td>\n",
       "      <td>Location: Banawa Cebu CityAffordable Semi Furn...</td>\n",
       "      <td>['&lt;i class=\"icon icon-bedroom\"&gt;&lt;/i&gt; : 1']</td>\n",
       "      <td>₱ 12,000 / month\\nNew listing</td>\n",
       "    </tr>\n",
       "    <tr>\n",
       "      <th>3</th>\n",
       "      <td>3</td>\n",
       "      <td>2- Bedroom Apartment with Own Gate and Garage ...</td>\n",
       "      <td>Angeles\\n                                    ,...</td>\n",
       "      <td>Rent/ Month: Php 35,000Details:90 sqm more or ...</td>\n",
       "      <td>['&lt;i class=\"icon icon-bedroom\"&gt;&lt;/i&gt; : 2']</td>\n",
       "      <td>₱ 35,000 / month</td>\n",
       "    </tr>\n",
       "    <tr>\n",
       "      <th>4</th>\n",
       "      <td>4</td>\n",
       "      <td>Most Affordable 2 Bedroom Apartment for rent i...</td>\n",
       "      <td>Cebu City\\n                                   ...</td>\n",
       "      <td>Location: Banawa Cebu City2 Bedroom Apartment ...</td>\n",
       "      <td>['&lt;i class=\"icon icon-bedroom\"&gt;&lt;/i&gt; : 2']</td>\n",
       "      <td>₱ 15,000 / month\\nNew listing</td>\n",
       "    </tr>\n",
       "    <tr>\n",
       "      <th>...</th>\n",
       "      <td>...</td>\n",
       "      <td>...</td>\n",
       "      <td>...</td>\n",
       "      <td>...</td>\n",
       "      <td>...</td>\n",
       "      <td>...</td>\n",
       "    </tr>\n",
       "    <tr>\n",
       "      <th>5445</th>\n",
       "      <td>895</td>\n",
       "      <td>Almanza Uno Apartment Room For Rent in Las Piñ...</td>\n",
       "      <td>Las Piñas\\n                                   ...</td>\n",
       "      <td>Gated compoundCctvWell ventilated 12 sqm room ...</td>\n",
       "      <td>['&lt;i class=\"icon icon-bedroom\"&gt;&lt;/i&gt; : 1']</td>\n",
       "      <td>₱ 5,000 / month</td>\n",
       "    </tr>\n",
       "    <tr>\n",
       "      <th>5446</th>\n",
       "      <td>896</td>\n",
       "      <td>1BR Apartment for Rent at Infina Towers, Quezo...</td>\n",
       "      <td>Quezon City\\n                                 ...</td>\n",
       "      <td>1BR Apartment for Rent Infina Towers, Quezon C...</td>\n",
       "      <td>['&lt;i class=\"icon icon-bedroom\"&gt;&lt;/i&gt; : 1']</td>\n",
       "      <td>₱ 25,000 / month</td>\n",
       "    </tr>\n",
       "    <tr>\n",
       "      <th>5447</th>\n",
       "      <td>897</td>\n",
       "      <td>Apartment Room For Rent at Almanza Uno Las Piñ...</td>\n",
       "      <td>Las Piñas\\n                                   ...</td>\n",
       "      <td>Gated compoundCctvWell ventilated 12 sqm room ...</td>\n",
       "      <td>['&lt;i class=\"icon icon-bedroom\"&gt;&lt;/i&gt; : 1']</td>\n",
       "      <td>₱ 5,000 / month</td>\n",
       "    </tr>\n",
       "    <tr>\n",
       "      <th>5448</th>\n",
       "      <td>898</td>\n",
       "      <td>LADY BEDSPACE FOR RENT IN AFPOVAI, FORT BONIFA...</td>\n",
       "      <td>Taguig\\n                                    , ...</td>\n",
       "      <td>LADY BEDSPACE FOR RENT IN AFPOVAI, FORT BONIFA...</td>\n",
       "      <td>['&lt;i class=\"icon icon-bedroom\"&gt;&lt;/i&gt; : 5']</td>\n",
       "      <td>₱ 2,500 / month</td>\n",
       "    </tr>\n",
       "    <tr>\n",
       "      <th>5449</th>\n",
       "      <td>899</td>\n",
       "      <td>Affordable Room For Rent in Almanza Uno Apartm...</td>\n",
       "      <td>Las Piñas\\n                                   ...</td>\n",
       "      <td>Gated compoundCctvWell ventilated 12 sqm room ...</td>\n",
       "      <td>['&lt;i class=\"icon icon-bedroom\"&gt;&lt;/i&gt; : 1']</td>\n",
       "      <td>₱ 5,000 / month</td>\n",
       "    </tr>\n",
       "  </tbody>\n",
       "</table>\n",
       "<p>5450 rows × 6 columns</p>\n",
       "</div>"
      ],
      "text/plain": [
       "      Unnamed: 0                                               name  \\\n",
       "0              0  2-Bedroom Furnished Apartment for Rent in Bana...   \n",
       "1              1  Very Affordable Semi Furnished Apartment for r...   \n",
       "2              2  Affordable Semi Furnished Apartment for rent i...   \n",
       "3              3  2- Bedroom Apartment with Own Gate and Garage ...   \n",
       "4              4  Most Affordable 2 Bedroom Apartment for rent i...   \n",
       "...          ...                                                ...   \n",
       "5445         895  Almanza Uno Apartment Room For Rent in Las Piñ...   \n",
       "5446         896  1BR Apartment for Rent at Infina Towers, Quezo...   \n",
       "5447         897  Apartment Room For Rent at Almanza Uno Las Piñ...   \n",
       "5448         898  LADY BEDSPACE FOR RENT IN AFPOVAI, FORT BONIFA...   \n",
       "5449         899  Affordable Room For Rent in Almanza Uno Apartm...   \n",
       "\n",
       "                                               location  \\\n",
       "0     Cebu City\\n                                   ...   \n",
       "1     Cebu City\\n                                   ...   \n",
       "2     Cebu City\\n                                   ...   \n",
       "3     Angeles\\n                                    ,...   \n",
       "4     Cebu City\\n                                   ...   \n",
       "...                                                 ...   \n",
       "5445  Las Piñas\\n                                   ...   \n",
       "5446  Quezon City\\n                                 ...   \n",
       "5447  Las Piñas\\n                                   ...   \n",
       "5448  Taguig\\n                                    , ...   \n",
       "5449  Las Piñas\\n                                   ...   \n",
       "\n",
       "                                                   desc  \\\n",
       "0     Property Type: Apartment for RentLocation: Ban...   \n",
       "1     Location: Banawa Cebu CityVery Affordable Semi...   \n",
       "2     Location: Banawa Cebu CityAffordable Semi Furn...   \n",
       "3     Rent/ Month: Php 35,000Details:90 sqm more or ...   \n",
       "4     Location: Banawa Cebu City2 Bedroom Apartment ...   \n",
       "...                                                 ...   \n",
       "5445  Gated compoundCctvWell ventilated 12 sqm room ...   \n",
       "5446  1BR Apartment for Rent Infina Towers, Quezon C...   \n",
       "5447  Gated compoundCctvWell ventilated 12 sqm room ...   \n",
       "5448  LADY BEDSPACE FOR RENT IN AFPOVAI, FORT BONIFA...   \n",
       "5449  Gated compoundCctvWell ventilated 12 sqm room ...   \n",
       "\n",
       "                                   accomodation                          price  \n",
       "0     ['<i class=\"icon icon-bedroom\"></i> : 2']  ₱ 35,000 / month\\nNew listing  \n",
       "1     ['<i class=\"icon icon-bedroom\"></i> : 1']  ₱ 12,000 / month\\nNew listing  \n",
       "2     ['<i class=\"icon icon-bedroom\"></i> : 1']  ₱ 12,000 / month\\nNew listing  \n",
       "3     ['<i class=\"icon icon-bedroom\"></i> : 2']               ₱ 35,000 / month  \n",
       "4     ['<i class=\"icon icon-bedroom\"></i> : 2']  ₱ 15,000 / month\\nNew listing  \n",
       "...                                         ...                            ...  \n",
       "5445  ['<i class=\"icon icon-bedroom\"></i> : 1']                ₱ 5,000 / month  \n",
       "5446  ['<i class=\"icon icon-bedroom\"></i> : 1']               ₱ 25,000 / month  \n",
       "5447  ['<i class=\"icon icon-bedroom\"></i> : 1']                ₱ 5,000 / month  \n",
       "5448  ['<i class=\"icon icon-bedroom\"></i> : 5']                ₱ 2,500 / month  \n",
       "5449  ['<i class=\"icon icon-bedroom\"></i> : 1']                ₱ 5,000 / month  \n",
       "\n",
       "[5450 rows x 6 columns]"
      ]
     },
     "execution_count": 39,
     "metadata": {},
     "output_type": "execute_result"
    }
   ],
   "source": [
    "df_new"
   ]
  },
  {
   "cell_type": "code",
   "execution_count": 40,
   "id": "934a4066",
   "metadata": {},
   "outputs": [
    {
     "data": {
      "text/plain": [
       "(5450, 6)"
      ]
     },
     "execution_count": 40,
     "metadata": {},
     "output_type": "execute_result"
    }
   ],
   "source": [
    "df_new.shape"
   ]
  },
  {
   "cell_type": "code",
   "execution_count": 41,
   "id": "6f187e1b",
   "metadata": {
    "scrolled": true
   },
   "outputs": [
    {
     "data": {
      "text/plain": [
       "1262"
      ]
     },
     "execution_count": 41,
     "metadata": {},
     "output_type": "execute_result"
    }
   ],
   "source": [
    "df_new.duplicated().sum()"
   ]
  },
  {
   "cell_type": "code",
   "execution_count": 42,
   "id": "e08cc5c5",
   "metadata": {},
   "outputs": [
    {
     "data": {
      "text/plain": [
       "'dotproperty-as-of-03-17-23.csv'"
      ]
     },
     "execution_count": 42,
     "metadata": {},
     "output_type": "execute_result"
    }
   ],
   "source": [
    "import datetime\n",
    "\n",
    "today_d =  datetime.datetime.now().strftime('%m-%d-%y')\n",
    "file_name = 'dotproperty-as-of-' + today_d + '.csv';\n",
    "file_name\n"
   ]
  },
  {
   "cell_type": "code",
   "execution_count": 43,
   "id": "c3497436",
   "metadata": {},
   "outputs": [],
   "source": [
    "from pathlib import Path  \n",
    "filepath = Path(r'C:\\Users\\win10\\Documents\\ATT.FEDM\\WEB_CRAWLING\\appartment_rental\\\\'+file_name)  \n",
    "filepath.parent.mkdir(parents=True, exist_ok=True)  \n",
    "df_new.to_csv(filepath)\n"
   ]
  },
  {
   "cell_type": "code",
   "execution_count": null,
   "id": "11864dcd",
   "metadata": {},
   "outputs": [],
   "source": []
  },
  {
   "cell_type": "code",
   "execution_count": null,
   "id": "eb732607",
   "metadata": {},
   "outputs": [],
   "source": []
  },
  {
   "cell_type": "code",
   "execution_count": null,
   "id": "54dbe34d",
   "metadata": {},
   "outputs": [],
   "source": []
  },
  {
   "cell_type": "code",
   "execution_count": null,
   "id": "460f6579",
   "metadata": {},
   "outputs": [],
   "source": []
  },
  {
   "cell_type": "code",
   "execution_count": null,
   "id": "39076793",
   "metadata": {},
   "outputs": [],
   "source": []
  },
  {
   "cell_type": "code",
   "execution_count": null,
   "id": "8677154f",
   "metadata": {},
   "outputs": [],
   "source": []
  },
  {
   "cell_type": "code",
   "execution_count": null,
   "id": "eb6a4dd8",
   "metadata": {},
   "outputs": [],
   "source": []
  },
  {
   "cell_type": "code",
   "execution_count": null,
   "id": "3566f82f",
   "metadata": {},
   "outputs": [],
   "source": []
  },
  {
   "cell_type": "code",
   "execution_count": null,
   "id": "fda342ab",
   "metadata": {},
   "outputs": [],
   "source": []
  },
  {
   "cell_type": "code",
   "execution_count": null,
   "id": "c732f068",
   "metadata": {},
   "outputs": [],
   "source": []
  },
  {
   "cell_type": "code",
   "execution_count": null,
   "id": "a217264b",
   "metadata": {},
   "outputs": [],
   "source": []
  },
  {
   "cell_type": "code",
   "execution_count": null,
   "id": "7afee7fc",
   "metadata": {},
   "outputs": [],
   "source": []
  }
 ],
 "metadata": {
  "kernelspec": {
   "display_name": "Python 3 (ipykernel)",
   "language": "python",
   "name": "python3"
  },
  "language_info": {
   "codemirror_mode": {
    "name": "ipython",
    "version": 3
   },
   "file_extension": ".py",
   "mimetype": "text/x-python",
   "name": "python",
   "nbconvert_exporter": "python",
   "pygments_lexer": "ipython3",
   "version": "3.9.13"
  }
 },
 "nbformat": 4,
 "nbformat_minor": 5
}
