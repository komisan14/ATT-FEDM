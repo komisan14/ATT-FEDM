{
 "cells": [
  {
   "cell_type": "code",
   "execution_count": 1,
   "id": "a74177f1",
   "metadata": {},
   "outputs": [],
   "source": [
    "import pandas as pd \n",
    "import numpy as np\n",
    "import seaborn as sns\n",
    "import matplotlib.pyplot as plt"
   ]
  },
  {
   "cell_type": "markdown",
   "id": "716e87fd",
   "metadata": {},
   "source": [
    "### DATA EXPLORATION"
   ]
  },
  {
   "cell_type": "code",
   "execution_count": 2,
   "id": "e37a7e85",
   "metadata": {},
   "outputs": [],
   "source": [
    "df = pd.read_csv('lamudi as of 03.11.23.csv');"
   ]
  },
  {
   "cell_type": "code",
   "execution_count": 3,
   "id": "1d6b1ff6",
   "metadata": {
    "scrolled": true
   },
   "outputs": [
    {
     "data": {
      "text/html": [
       "<div>\n",
       "<style scoped>\n",
       "    .dataframe tbody tr th:only-of-type {\n",
       "        vertical-align: middle;\n",
       "    }\n",
       "\n",
       "    .dataframe tbody tr th {\n",
       "        vertical-align: top;\n",
       "    }\n",
       "\n",
       "    .dataframe thead th {\n",
       "        text-align: right;\n",
       "    }\n",
       "</style>\n",
       "<table border=\"1\" class=\"dataframe\">\n",
       "  <thead>\n",
       "    <tr style=\"text-align: right;\">\n",
       "      <th></th>\n",
       "      <th>title</th>\n",
       "      <th>location</th>\n",
       "      <th>description</th>\n",
       "      <th>price</th>\n",
       "      <th>features</th>\n",
       "      <th>agent</th>\n",
       "      <th>agent_membership</th>\n",
       "      <th>agent_verified</th>\n",
       "      <th>source</th>\n",
       "    </tr>\n",
       "  </thead>\n",
       "  <tbody>\n",
       "    <tr>\n",
       "      <th>0</th>\n",
       "      <td>Dormitory Spaces for Rent in Santo Tomas, Bata...</td>\n",
       "      <td>Santa Anastacia, Santo Tomas</td>\n",
       "      <td>Consuelo Park Residences (CPR) is a dormitory ...</td>\n",
       "      <td>Contact agent for price</td>\n",
       "      <td>['Bedroom : 1', 'Bath : 1', 'Floor area : 15 m²']</td>\n",
       "      <td>Oasis FPIP</td>\n",
       "      <td>MEMBER SINCE 2019</td>\n",
       "      <td>verified</td>\n",
       "      <td>lamudi</td>\n",
       "    </tr>\n",
       "    <tr>\n",
       "      <th>1</th>\n",
       "      <td>Apartment Building For Rent Located in Molino,...</td>\n",
       "      <td>Molino VII, Bacoor</td>\n",
       "      <td>3 Story Apartment / Condo Building Along Molin...</td>\n",
       "      <td>Contact agent for price</td>\n",
       "      <td>['Bedrooms : 40', 'Baths : 40', 'Floor area : ...</td>\n",
       "      <td>Clement Dizon</td>\n",
       "      <td>MEMBER SINCE 2016</td>\n",
       "      <td>verified</td>\n",
       "      <td>lamudi</td>\n",
       "    </tr>\n",
       "    <tr>\n",
       "      <th>2</th>\n",
       "      <td>Rush For Lease: 35-Door Staff House Near Circu...</td>\n",
       "      <td>Olympia, Makati</td>\n",
       "      <td>Rush For Lease: 35-Door Staff House Near Circu...</td>\n",
       "      <td>₱ 950,000</td>\n",
       "      <td>['Bedrooms : 35', 'Baths : 35', 'Floor area : ...</td>\n",
       "      <td>Fern Marie Badong</td>\n",
       "      <td>MEMBER SINCE 2017</td>\n",
       "      <td>verified</td>\n",
       "      <td>lamudi</td>\n",
       "    </tr>\n",
       "    <tr>\n",
       "      <th>3</th>\n",
       "      <td>Discounted Price! For Rent Studio Type Apartme...</td>\n",
       "      <td>Maypajo, Caloocan</td>\n",
       "      <td>Looking for a new, clean, and affordable apart...</td>\n",
       "      <td>₱ 12,000</td>\n",
       "      <td>['Bedroom : 1', 'Bath : 1', 'Floor area : 26 m²']</td>\n",
       "      <td>JESSA MARTIN</td>\n",
       "      <td>MEMBER SINCE 2022</td>\n",
       "      <td>not verified</td>\n",
       "      <td>lamudi</td>\n",
       "    </tr>\n",
       "    <tr>\n",
       "      <th>4</th>\n",
       "      <td>RDC Apartment for Rent located at 1156 (c) que...</td>\n",
       "      <td>Ugong, Valenzuela</td>\n",
       "      <td>2 STOREY\\n2 BEDROOM\\n1 TOILET AND BATH\\nRESIDE...</td>\n",
       "      <td>₱ 7,000</td>\n",
       "      <td>['Bedrooms : 2', 'Bath : 1', 'Floor area : 36 ...</td>\n",
       "      <td>ROSALIA CRAUWELS</td>\n",
       "      <td>MEMBER SINCE 2021</td>\n",
       "      <td>verified</td>\n",
       "      <td>lamudi</td>\n",
       "    </tr>\n",
       "  </tbody>\n",
       "</table>\n",
       "</div>"
      ],
      "text/plain": [
       "                                               title  \\\n",
       "0  Dormitory Spaces for Rent in Santo Tomas, Bata...   \n",
       "1  Apartment Building For Rent Located in Molino,...   \n",
       "2  Rush For Lease: 35-Door Staff House Near Circu...   \n",
       "3  Discounted Price! For Rent Studio Type Apartme...   \n",
       "4  RDC Apartment for Rent located at 1156 (c) que...   \n",
       "\n",
       "                       location  \\\n",
       "0  Santa Anastacia, Santo Tomas   \n",
       "1            Molino VII, Bacoor   \n",
       "2               Olympia, Makati   \n",
       "3             Maypajo, Caloocan   \n",
       "4             Ugong, Valenzuela   \n",
       "\n",
       "                                         description                    price  \\\n",
       "0  Consuelo Park Residences (CPR) is a dormitory ...  Contact agent for price   \n",
       "1  3 Story Apartment / Condo Building Along Molin...  Contact agent for price   \n",
       "2  Rush For Lease: 35-Door Staff House Near Circu...                ₱ 950,000   \n",
       "3  Looking for a new, clean, and affordable apart...                 ₱ 12,000   \n",
       "4  2 STOREY\\n2 BEDROOM\\n1 TOILET AND BATH\\nRESIDE...                  ₱ 7,000   \n",
       "\n",
       "                                            features              agent  \\\n",
       "0  ['Bedroom : 1', 'Bath : 1', 'Floor area : 15 m²']         Oasis FPIP   \n",
       "1  ['Bedrooms : 40', 'Baths : 40', 'Floor area : ...      Clement Dizon   \n",
       "2  ['Bedrooms : 35', 'Baths : 35', 'Floor area : ...  Fern Marie Badong   \n",
       "3  ['Bedroom : 1', 'Bath : 1', 'Floor area : 26 m²']       JESSA MARTIN   \n",
       "4  ['Bedrooms : 2', 'Bath : 1', 'Floor area : 36 ...   ROSALIA CRAUWELS   \n",
       "\n",
       "    agent_membership agent_verified  source  \n",
       "0  MEMBER SINCE 2019       verified  lamudi  \n",
       "1  MEMBER SINCE 2016       verified  lamudi  \n",
       "2  MEMBER SINCE 2017       verified  lamudi  \n",
       "3  MEMBER SINCE 2022   not verified  lamudi  \n",
       "4  MEMBER SINCE 2021       verified  lamudi  "
      ]
     },
     "execution_count": 3,
     "metadata": {},
     "output_type": "execute_result"
    }
   ],
   "source": [
    "df.head()"
   ]
  },
  {
   "cell_type": "code",
   "execution_count": 4,
   "id": "44aaeac5",
   "metadata": {},
   "outputs": [
    {
     "data": {
      "text/plain": [
       "(10890, 9)"
      ]
     },
     "execution_count": 4,
     "metadata": {},
     "output_type": "execute_result"
    }
   ],
   "source": [
    "df.shape"
   ]
  },
  {
   "cell_type": "code",
   "execution_count": 5,
   "id": "f79d1010",
   "metadata": {},
   "outputs": [
    {
     "data": {
      "text/plain": [
       "10853"
      ]
     },
     "execution_count": 5,
     "metadata": {},
     "output_type": "execute_result"
    }
   ],
   "source": [
    "df.duplicated().sum()"
   ]
  },
  {
   "cell_type": "code",
   "execution_count": 6,
   "id": "b9a41d90",
   "metadata": {},
   "outputs": [
    {
     "data": {
      "text/plain": [
       "title               0\n",
       "location            0\n",
       "description         0\n",
       "price               0\n",
       "features            0\n",
       "agent               0\n",
       "agent_membership    0\n",
       "agent_verified      0\n",
       "source              0\n",
       "dtype: int64"
      ]
     },
     "execution_count": 6,
     "metadata": {},
     "output_type": "execute_result"
    }
   ],
   "source": [
    "df.isna().sum()"
   ]
  },
  {
   "cell_type": "code",
   "execution_count": 33,
   "id": "7ff0187c",
   "metadata": {},
   "outputs": [],
   "source": [
    "#change agent_verified feature into 1 and 0 values\n",
    "df['agent_verified'] = np.where(df['agent_verified'] == 'verified',1,0)"
   ]
  },
  {
   "cell_type": "markdown",
   "id": "0f73125f",
   "metadata": {},
   "source": [
    "* check unique values in each features"
   ]
  },
  {
   "cell_type": "code",
   "execution_count": 9,
   "id": "f2ee9245",
   "metadata": {},
   "outputs": [
    {
     "data": {
      "text/plain": [
       "array(['Dormitory Spaces for Rent in Santo Tomas, Batangas',\n",
       "       'Apartment Building For Rent Located in Molino, Bacoor, Cavite',\n",
       "       'Rush For Lease: 35-Door Staff House Near Circuit Mall, Powerplant Mall In Makati',\n",
       "       'Discounted Price! For Rent Studio Type Apartment at Maypajo Caloocan City',\n",
       "       'RDC Apartment for Rent located at 1156 (c) que grande,  ugong,  valenzuela city',\n",
       "       'Newly Built, Own Meter of Electricity and Water Apartment for Rent at Bacoor',\n",
       "       'Apartment For Rent in Lapu-lapu City',\n",
       "       '8 Door Brand New Apartment For Rent',\n",
       "       'For Lease Studio type with loft balut Tondo, Manila, Metro Manila',\n",
       "       'Apartment for Rent near Cebu Business Park, IT Park, Cebu City',\n",
       "       'For Rent Corporate/OJT Housing, Room Available in Pasig City',\n",
       "       'Penthouse Apartment Unit in Camp John Hay For Daily Rent',\n",
       "       'For rent brand-new 1BR apartments & bedspaces with parking & CCTV',\n",
       "       'Studio Condo Apartment Bldg. For Rent adjacent to Northgate Cyberzone Muntinlupa',\n",
       "       'Urban Pad - Dormitory for Lease',\n",
       "       'One Bedroom Unit For Rent Fully Furnished Shaw Boulevard , Mandaluyong',\n",
       "       'Studio Apartment for Rent in Brgy. Plainview, Mandaluyong City',\n",
       "       'Female Bedspace 1-Bedroom Condo for rent in Pio Del Pilar, Makati',\n",
       "       'Very Large Convenient 45sqm 1BR Apartment unit for rent in Pasay City',\n",
       "       '1 bedroom apartment unit for rent in Dau, Mabalacat, Pampanga',\n",
       "       'Bedspace/Private Room for Students / Professionals near LRT Pureza',\n",
       "       'Studio Type Rooms for Monthly Rent near SM Mall of Asia, Baclaran Parañaque City',\n",
       "       'Studio Apartment for Rent in Plainview, Mandaluyong',\n",
       "       'Transient Room For Rent in Milagros Subdivision, Antipolo City, Rizal',\n",
       "       'For Rent: Furnished Studio Unit at The Celerio, Tejeros, Makati City',\n",
       "       'For Rent Eisen Apartel Mla 200mbps nr SM San Lazaro Tayuman LRT DOH, Manila City',\n",
       "       '1-BR Apartment for Rent at Ferros Bel Air Tower, Makati City',\n",
       "       '1 Bedroom Apartment on the 2nd Floor with a Big Terrace and a Nice View',\n",
       "       'Safestay Apartment for rent at Mactan Airport, Lapu-Lapu, Cebu',\n",
       "       '12 Bedroom Condo for Rent in Makati, Metro Manila',\n",
       "       '2 Bedrooms Apartment For Rent in Sisiman, Mariveles, Bataan',\n",
       "       'Condo sharing EDSA cor GMA MRT Station',\n",
       "       '5 Bedroom Townhouse For Rent in Muntinlupa City',\n",
       "       'apartment / house to let in cordova Cebu',\n",
       "       \"Modern Residential Property for Rent in Teacher's Village, Quezon City\"],\n",
       "      dtype=object)"
      ]
     },
     "execution_count": 9,
     "metadata": {},
     "output_type": "execute_result"
    }
   ],
   "source": [
    "df['title'].unique()"
   ]
  },
  {
   "cell_type": "code",
   "execution_count": 10,
   "id": "f41abf5f",
   "metadata": {},
   "outputs": [
    {
     "data": {
      "text/plain": [
       "array(['Santa Anastacia, Santo Tomas', 'Molino VII, Bacoor',\n",
       "       'Olympia, Makati', 'Maypajo, Caloocan', 'Ugong, Valenzuela',\n",
       "       'Molino II, Bacoor', 'Gun-Ob, Lapu-Lapu', 'Tondo, Manila',\n",
       "       'Mabolo, Cebu', 'Rosario, Pasig', 'Country Club Village, Baguio',\n",
       "       'Malate, Manila', 'Alabang, Muntinlupa',\n",
       "       'Highway Hills, Mandaluyong', 'Addition Hills, Mandaluyong',\n",
       "       'Plainview, Mandaluyong', 'Pio Del Pilar, Makati',\n",
       "       'San Rafael, Pasay', 'Dau, Mabalacat', 'Santa Mesa, Manila',\n",
       "       'Baclaran, Parañaque', 'Dalig, Antipolo', 'Tejeros, Makati',\n",
       "       'Santa Cruz, Manila', 'Poblacion, Makati', 'Banaybanay, Cabuyao',\n",
       "       'Mactan, Lapu-Lapu', 'Bangkal, Makati', 'Sisiman, Mariveles',\n",
       "       'Cubao, Quezon City', 'Cupang, Muntinlupa', 'Day-As, Cordova',\n",
       "       'Diliman, Quezon City'], dtype=object)"
      ]
     },
     "execution_count": 10,
     "metadata": {},
     "output_type": "execute_result"
    }
   ],
   "source": [
    "df['location'].unique()"
   ]
  },
  {
   "cell_type": "code",
   "execution_count": 11,
   "id": "9a00f94d",
   "metadata": {},
   "outputs": [
    {
     "data": {
      "text/plain": [
       "array(['Consuelo Park Residences (CPR) is a dormitory facility conveniently \\xa0located at the heart of First Philippine Industrial Park (FPIP), Santo \\xa0Tomas, Batangas.\\xa0\\n\\nCPR is ideal for individuals and professionals looking for dormitory \\xa0spaces within the area hoping to save on time and travel costs. Other \\xa0commercial establishments present in FPIP include hotels, banks, \\xa0sports gymnasium, and restaurants.\\xa0\\n\\nBe closer to home and join a thriving residential community at Consuelo \\xa0Park Residences! For rent: dormitory spaces\\xa0\\n\\nAmenities:\\xa0\\n• Fully furnished room\\xa0\\n• En-suite bathroom\\xa0\\n• Common facilities\\xa0\\n• Walking distance to Consuelo Park',\n",
       "       '3 Story Apartment / Condo Building Along Molino Road, Bacoor Cavite\\n\\nA 3 Story Apartment building For Sale intended for Rental Income (Dorm for Office workers / Staff house/call center agents dorm / Students). I can occupy 160 individuals or more, with 40 rooms of 1 Bedroom all with Toilet and Bath, with 6 cars basement parking. Semi Furnished with Owner aircons, and curtains for every unit. The size per unit is 16 to 20 square meters, with its own toilet and bath that includes water heaters. (Whole building For Sale)\\n\\nLot area 600sqm\\nFloor area 1,700sqm\\n40 Units of 1 Bedroom all with Toilet and Bath\\n\\nAsking Price P800,000.00 per month\\n(for the Whole Building)',\n",
       "       'Rush For Lease: 35-Door Staff House Near Circuit Mall, Powerplant Mall In Makati\\nHouse property for rent in Olympia, Makati, Metro Manila\\nStaff house for lease or for sale!\\n\\nLot area : 250sqm\\nFloor area : approx 1100sqm\\n\\n36 rooms total\\xa0\\n1 Admin Office\\n35 rooms\\xa0\\n- with double deck and foam\\n-curtains\\xa0\\n- own toilet and bath\\n-cabinets each rooms\\n- AC\\xa0\\n- Hot and cold shower\\n\\nCommon area on the 5th floor\\xa0\\nLaundry Area at the ground floor\\nRFID access at the front gate\\nCCTV monitored for safety of all the staffs\\nWIFI ready\\xa0\\nWell ventilated and well maintained building\\n\\nMinimum term : 1 year\\xa0\\n3 months security deposit\\n1 year advance ( can be negotiated)\\n\\nFor sale at : 140 Million or 127,272k/sqm which is lowest in the area\\xa0\\n3-4 parking slots\\xa0\\nOwner pays for CGT and Brokers Commission\\nTitle at the bank, can be pulled out anytime',\n",
       "       'Looking for a new, clean, and affordable apartment? IX Residences in Caloocan City is perfect for you! We offers a studio type units with 22sqm to 29sqm size, located at #98A Mabini St. Maypajo Caloocan City.\\xa0\\n\\nApartment Building is located near to:\\n1. Schools (Starland Internation School, Knowledgevill School for Excellence, The Lord is my Shepered School, St. Joseph School, Starbright Kiddie School, Kasarinlan Elementart and Highschool)\\n2. Groceries and Convinience Store (Robinsons, Puregold, 7/11)\\n3. Fast Food chains (Pizza Hut, Mcdonals, Jollibee)\\n4. Hospitals (Martinez Hospital, Caloocan City Medical Center, Tondo Medical Center, Chinese General Hospital, MCU)\\n\\nUnits Inclusions:\\n1. Window Type Aircon\\n2. Built in cabinets\\n3. RFID for Building entrances\\n4. Own electric meter and submeter on water\\n\\nBuilding Ameneties:\\n1. Air conditioned work area \\xa0and lounge at 3rd floor\\n2. Function Room at 4th floor roof deck\\n\\nPayment terms and requirement:\\xa0\\n2 months deposit and 1 month advance via Cash, Check, Bank transfer, Gcash\\nMonhtly rental \\xa0via Cash, Check, Bank transfer, Gcash',\n",
       "       '2 STOREY\\n2 BEDROOM\\n1 TOILET AND BATH\\nRESIDENTIAL APARTMENT\\xa0\\nlocated at 1156 (c) que grande, \\xa0ugong, \\xa0valenzuela city\\n\\xa0P7,000 PER MONTH, \\xa02 MONTHS DEPOSIT, \\xa01 MONTH ADVANCE\\nCONTACT: \\xa0ROSE CRAUWELS',\n",
       "       'Quiet neighborhood with parking space\\nNewly Built\\nOwn electricity and water meter',\n",
       "       \"Fully Furnished Studio Type Apartment (for Monthly and Daily Rental)\\xa0\\n\\nWith Air-con Unit, Double size Bed, Dining Table w/ chairs, TV with ABS-CBN TV Plus, small cabinet ,electric kettle ,Range Hood and Refrigerator \\xa0\\n\\nRent: \\xa0\\xa08,500/mo. or 950/day\\xa0\\nNote: Monthly rate does not include Water & Elect. bill. \\xa0\\n\\nLocation: 5mins to Market & Berhin sa Regla Church, 5mins to MEPZ 2 , SM Hypermart, The Outlet & Robinsons, 10mins to Mactan Doc Hosp., 15 mins to Mactan Grandmall,& 20mins to Mactan Intern'l Airport.\\xa0\\n\\nW/ Gate, Free WIFI, CCTV and Parking area\",\n",
       "       'Newly built studio type apartment with 8 units and 18sqm per unit with own bathroom,small kitchen, electricity and water. Max of 4 persons per room',\n",
       "       '- studio type with loft and own CR and balcony (15sq.m)\\n- no parking space\\n- no association dues\\n- with cctv\\n- 24/7 security\\n- nearest landmarks: Tondo General Hospital and Westminster High School',\n",
       "       \"This apartment is accessible to almost everywhere in Cebu.  NEAR SM, Ayala, Cebu Business Park, IT Park - it's the DREAM location for everyone.  Located in the main road, say goodbye to dark alleys and sketchy streets.  This unit is perfect for those looking for a simple studio for a no frills - easy apartment living. Practically designed with YOU in mind, it has the space, storage and basic amenities you need for a comfortable city-life.  1. Separate kitchen area so that you can cook without making the entire room smell like food. 2. Built in and spacious wardrobe to store all important personal items 3. Centralized water heating for hot and cold shower 4. Banks, ATM, Restaurant and Spa within the building 5. Maintenance personnel on standby in case of any problems 6. NO to Brownouts - 24 hours standby generator in case of power interruption 7. Safety and security - 24 hours security guards and CCTV 8. FREE and SECURE Parking Space  Bare unit\\xa0- 10,000/ month  Semi-furnished\\xa0- additional 2,5000\\xa0    Inclusions: Bed, aircon, refrigerator, electric stove, table and chair\",\n",
       "       \"Urbanspace Co-Living\\n\\nReach your business objectives, and achieve workforce efficiency, let us help your company move forward towards the new normal.\\n\\nCorporate Staff Housing Solutions at Urbanspace\\nSpecial corporate rates offered\\xa0\\n\\nWe are located at 36 Amang Rodriguez Avenue, Pasig\\nNear the following business districts:\\n\\n  Bridgetowne IPI\\n  Tiendesitas\\n  The Medical City\\n  Eastwood City\\n  Pasig Doctor's Medical Center\\n  Meralco Compound\\n\\n\\nConveniently house your teams closer to their work locations.\\xa0\\nSave time and energy on the commute.\\n\\nGet in touch for our special Corporate Staff Housing Packages. We can work together, and be your partners for staff housing solutions.\",\n",
       "       \"Our 2 bedroom penthouse is located inside Camp John Hay which offers safe and secured neighborhood, also sorrounded with trees and great view of Baguio city.\\n\\nIt is also walking distance to Baguio country club, Starbucks and Children's play ground.\\n\\nOur unit is equipped internet for the whole place and with kitchen and cooking wares so you can still cook your favorite menus, an\\nMake some memories at this unique and family-friendly place.\\n\\nHave fun and enjoy your stay.\\n\\nOur rate for October to November is 15,000 a night for 8 to 10 pax\\n\\nand\\n18,000 for 24 hours for the month December\",\n",
       "       'Brand-new apartments with balcony for rent near De La Salle Taft/ St. Scholastica’s /Vito Cruz LRT/San Andres PNR 1 br unfurnished for ₱15,000 Bedspaces ₱4,000/head With carpark additional ₱3,000 Not including utility bills Lowest prices already. Non-negotiable 1 jeepney ride to PGH, Robinsons Manila, LRT Taft, Makati City Hall, EDSA Guadalupe 5 minutes walk to Puregold, wet market, & bakery. 1 train ride (PNR - San Andres Station) to Alabang and Tutuban, Divisoria and other train stops in between Walking distance (8 minutes walk - 600m) to CSB (College of St. Benilde) Hotel and DLSU (De la Salle Univ.) Taft (13 minutes walk - 1 km)',\n",
       "       '31 Bedroom Apartment for rent in Alabang, Metro Manila\\nNEW MAHOGANY STUDIO APARTMENTS 4-STORY BUILDING in Rizal Village\\nINCLUDES a 120 square meter Roof Deck with Toilet.\\nAll units have a toilet and bath, comes with a kitchenette counter with base and overhead cabinets.\\n\\n  31 total studio units\\n\\nSuggested maximum double-deck beds per unit: 2 double decks or 4 total occupants (except for the 5 lofts on the 4th floor). Total of 134 persons.\\n\\nSPECIAL PROMO:\\nFrom PHP8,500, now to only PHP7,500\\n\\nNEAREST LANDMARK (walking distance)\\n-adjacent to North gate cyberzone\\n- near festival super mall & alabang town center.\\n- near filinvest corporate city & Madrigal business park,\\nWest gate center.\\n- near asian hospital.\\n- near south Station transport terminal.\\n\\nContact for more info\\nQuintin B. Chua Jr.',\n",
       "       '\"Urban Pad offers convenient and comfortable living spaces for young working professionals in the City\"\\xa0\\n\\nWe have available rooms (Private Room, Good for 6pax, Good for 8pax)\\n\\nWe are open for (Weekly and Monthly Stays)\\n\\n☆ Inclusions ☆\\n✓ Double deck bed frame\\n✓ Aircon (Private Room and Co sharing 6pax-Premium)\\n✓ Own toilet and bathroom\\n✓ Cabinet\\n✓ Ceiling Fan\\n☆ Amenities ☆\\n✓ 24-hour security\\n✓ Cctv\\n✓ Service elevator\\n✓ Fire alarm with sprinkler and extinguisher',\n",
       "       'Address : La Luna Residences: 806 A .Mabini St. off Puregold Mandala Park , Shaw Boulevard Mandaluyong\\nExperience exceptional condominium lifestyle with modern amenities \\xa0at the heart of Shaw Boulevard , \\xa0Mandaluyong. \\xa0Idyllically and centrally located in a quite neighborhood. A low density 4 storey \\xa0development \\xa0with only 32 units and with 400 square meters of roof top terrace with exceptional views of Makati and Ortigas skyline. All units are furnished (one ac per unit, , washing machine ,beds , cabinet ,sofas and stools ) with Toilet and bath complete with hot water and Kitchen . It has a basement parking of 13 slots , 1 street parking ,and several motor cycles. 24 hours Security and receptionist .\\n\\nModern conveniences from public transportation , shopping destinations , schools and hospitals\\nPublic transport\\nJeepney\\nMRT Shaw Station 1.8 Kilometers\\nShopping Centers\\n1. Mandala Park Shaw Boulevard 150 meters\\n2. Greenhills Shopping Center 2.1 Kilometers\\n3. Star Mall Shaw Boulevard 2.2 Kilometers\\n4. SM Megamall 2.4 Kilometers\\n5. Shangrila Mall 2.9 Kilometers\\n6. Capitol Commons Pasig 3.3 Kilometers\\n7. Estancia Pasig 3.3 Kilometers\\n8. Robinson’s Galleria 3.5 Kilometers\\n9. SM Centerpoint 4 Kilometers\\nSchools\\n1. Jose Rizal 1.8 Kilometers\\n2. UAAP Ortigas 2.9 Kilometers\\n3. Lourdes School Shaw Boulevard 3.2 Kilometers\\n4. La Salle Green Hills 3.8 Kilometers\\n5. Poveda 3.2 Kilometers\\n6. Xavier School 3 Kilometers\\nHospitals\\n1. Cardinal Santos Hospital 1.7 Kilometers\\n2. Lourdes Hospital 2.4 Kilometers\\n3. Medical City Ortigas Extension 4.6 Kilometers',\n",
       "       'This Studio apartment is located within a gated compound in Brgy. Plainview, Mandaluyong.\\n\\nPayment terms: 1 month advance for the first month; 2 months advance for the last two months; 2 months security deposit; and 9 PDCs.',\n",
       "       'Address: Victoria De Makati Condominium Washington St. corner, Dela Rosa St. Brgy. Pio Del Pillar Makati City\\n\\nFloor area: 44sqm\\n\\nBedspace, 2 Floors Condominium, 1 Bedroom, 2 Toilet & Bath\\n\\nFree WIFI\\nFree Swimming Pool\\nFree Water\\nFree Drinking Water\\nFree Landline phone for 24/7 security\\nFree Condo dues\\nFree Dishwashing liquid, sponge, trash bags, etc.\\n\\nInclusions:\\n- Aircon Split type (Latest Inverter Carrier)\\n- Refrigerator (2 doors Inverter)\\n- 40 inches Smart TV\\n- Comfortable Sofa in living area\\n- Microwave\\n- Bed matress with cover (Uratex)\\n- Electric Kettle\\n- Cabinets with own keys\\n- Shoerocks\\n- Dining Table\\n- Kitchen counter\\n- Utensils (plates, bowl, spoon, fork, knife, etc)\\n\\nPayment Terms upon Move-in/Reservation\\n- 1 month deposit (refundable)\\n- 1 month advance (consumable)\\n\\nMinimum 6 months stay\\nP6,000.00 for less than 6months\\n\\nPreferably\\n- Working professional\\n- Dayshift\\n\\nWalking distance (2-5mins away):\\n- Makati Medical Center\\n- Ayala Avenue\\n- Waltermart Mall\\n- Makati Cinema Square/Super 8\\n- Cash and Carry Mall\\n- SM Hypermarket\\n\\nVery accessible\\n- Public transporations (jeep and bus)\\n- 24/7 Convinience Store\\n- 24/7 Pharmacy\\n- 24/7 Restaurants\\n- 24/7 Laundry shops',\n",
       "       'Located on Villaruel, a quiet residential street in Pasay City, Appleton Carlmig Suites is very conveniently located nearby:\\n- Taft Ave and Buendia LRT station\\n- SM Mall of Asia\\n- Cartimar Market\\n- EGI Shopping Mall, Arellano University, and various fast-food joints and restaurants, laundry services, drugstores, and bank branches\\n\\nUnit Details:\\n- Floor area: 45sqm, convertible to 1BR or 2BR unit!\\n- Condition: Unfurnished, newly refurbished\\n- 24-hour security and CCTV\\n- Open parking for cars and motorcycles\\n- Repairs: Property Manager maintains a dedicated crew so repairs are done quickly and maintenance is very good\\n\\nPayment Terms:\\n- Php 14,000 monthly rental\\n- Php 1,000 monthly dues\\n- 1.5 months security deposit\\n- No advance',\n",
       "       'Newly-built 1 Bedroom apartments for rent.\\nPhp 6000/month including water and electric.\\xa0\\nShort term rental available.\\nTerms- 1 month advance and 1 month deposit.\\nAddress; Quiambao Compound Balaba Phase 2 Dau Mabalacat Pampanga\\n\\nApartment property for rent in Dau, Mabalacat, Pampanga',\n",
       "       \"QHouzz is located at 304 Quintana St, Bgy 633, Sta Mesa, Manila\\xa0\\n\\xa0\\nRenovated: \\xa02016\\xa0\\n\\xa0\\nNearby landmarks\\nPureza Station LRT (500m - 5-7 min walk)\\nUnitop Department Store (350m - 4-5 min walk)\\nSavemore Nagtahan (550m - 5-7 min walk)\\nBDO Savemore Nagtahan (550m - 5-7 min walk)\\nPuregold Sta. Mesa (1km - 12-15 min walk)\\nPUP Engineering & Architecture (750m - 10 min walk)\\nEarist College (850m - 11 min walk)\\nUERM Memorial Medical Center (2.3 km - 12 min by LRT)\\nSM Sta. Mesa (2.3 km - 12 min by LRT)\\n\\nFeatures:\\n* 2-story gated house\\n* with CCTV\\n* Free Wifi\\n* 6 rooms per floor (total of 12 rooms)\\n* Each room has a max capacity of 3 bunk beds (total of 6-bed spaces)\\n* Each room is fitted with a Uratex mattress, individual lockers, and ceiling fans\\n* 4 toilet and 4 separate shower stalls per floor (total of 8 baths / 8 toilets)\\n* Kitchen and dining area equipped with ref, microwave, dining tables & chairs\\n* Lounge area equipped with sofa and flat screen tv\\n* Each room measures approximately 25-26 sqm\\n\\n\\nRates:\\n* Monthly Rent: 2,500 (Upper Deck), 3,500 (Lower Deck)\\n* Private Room: 12,000 (max of 4 occupants)\\n* Water & Electricity equally divided\\n\\nTerms & Conditions:\\n* 1-year lease contract\\n* 2 months Security deposit ( Refundable )\\n* P1,500 Utilities deposit (Refundable)\\n* 1-month advance (applied to the first month's rent)\\n\\nRequirements:\\n* Fill out the Online Application form (link emailed to you)\\n* For students - Gov't ID / Student ID, proof of enrollment, proof of income of parents, guardian, or sponsor.\\n* For professionals - Gov't ID, Certificate of Employment / Latest Current payslip.\\n\\nOnce submitted, applications are evaluated within 24-48 hours and approval is advised via email and SMS.\\n\\nFor further inquiries, you may contact Mel\",\n",
       "       'E & H Residences  Rooms for monthly rent Studio Type with own CR Semi-Furnished room - Bed, aircon,table, chair,TV with Cable - Free Wi-Fi (100 mbps) - 24/7 Security and CCTV  Near SM Mall of Asia, City of Dreams,NAIA Airport Location: 3990 Airport Road, Baclaran, Parañaque City  Apartment for rent in Baclaran, Parañaque City, Metro Manila  For Inquiries look for Mr. RR',\n",
       "       'Studio unit, 1 toilet and bath, unfurnished',\n",
       "       'Transient Room For Rent in Antipolo City Rizal\\n\\n1 person 1 room\\n1 night - 500 pesos\\n2 nights - 700 pesos\\n3 nights - 1,050 pesos\\xa0\\n4 to 10 nights- with discount pls ask for computation\\n\\n2 persons 1 room\\n1 night - 600 pesos\\n2 nights - 1200 pesos\\n3 nights - 1800 pesos\\n4 to 10 nights- with discount ask for computation\\n\\nWith 100 pesos charge for towel and blanket\\n\\nWith 100 pesos key deposit binabalik ang 100 on check out\\n\\nWe serve ALL DAY BREAKFAST WITH CHARGE FEE SEE MENU INSIDE BOARDING HOUSE\\n\\nChildren age 13 and below not allowed\\n\\nNo airconditioning, we use electric fans\\n\\nMotorbikes - with parking space available sa tapat ng boarding house\\n\\nCars- No Parking Space Available\\n\\nCooking not allowed for transient stay\\n\\nNo own toilet and sink, sharing sa toilet and sink with other boarders.\\n\\nBring your own toiletries and pambahay tsinelas\\n\\nFree Electricity\\nFree Water\\nFree Drinking water\\nCan do laundry inside handwash only\\nFree use of refrigerator, kitchen equipments and utensils\\nWith housekeeper free cleaning of the rooms\\n\\nNo wifi, each boarder needs to provide own prepaid internet.\\n\\nGuest not allowed inside\\nPets not allowed inside\\nDrinking and Smoking outside of the house only\\n\\nAddress: Shalimar Boarding House Blk 13 st micheal street Milagros Subdivision Brgy Dalig Antipolo City Rizal\\n\\nNO REFUND ONCE ROOM IS BOOKED IT IS CONSUMABLE. NO REFUND.\\n\\nPage: shalimar boarding house',\n",
       "       \"The Celerio is located at 4416 Montojo St., Barangay Tejeros, Makati City\\n\\nBuilt: 2014\\n\\nNearby landmarks\\n* Tejeros Public Market (100m – 1 min walk)\\n* Philippine Daily Inquirer (500 m – 5 min walk)\\n* Shopwise Chino Roces (600 m – 5 min walk)\\n* Makati Coliseum (700m - 8 min walk)\\n* Ayala The Circuit (1km - 12 walk)\\n* Century City Mall (1.8km - 20 min walk)\\n* Makati Medical Center (2 km – 10 min by car)\\n\\nFeatures:\\n* Unfurnished Studio fitted with counter/sink and Full toilet/shower\\n* Limited no. of Furnished Studios (ac, ref, microwave, bed, tv, cabinet)\\n* All units have windows\\n* Ground Floor to Fourth Floor\\n* Utilities with submeter\\n* 24 hours security / gated building\\n* Total of 42 Units\\n* Floor Area: 23-25 square meters approx.\\n\\nType of Unit & Rate:\\n* Furnished Studio – P14,000 per month\\n\\n* Utilities: Based on consumption (submeter)\\n\\nTerms & Conditions:\\n* 1 year contract\\n* 2 months Security deposit (Refundable)\\n* 1 month advance (applied to the last month of the lease term)\\n* PDC preferred but cash payments allowed\\n\\nRequirements:\\n* Fill out Online Application form (link emailed to you)\\n* Proof of Identity - Government Issued ID (unexpired)\\n* Proof of Income - Certificate of Employment, Latest ITR or Latest Payslip\\n* Proof of Billing - recurring bill under the applicant's name (All documents to be uploaded on the online form).\\n\\nOnce submitted, applications are evaluated within 24-48 hours and approval is advised via email and SMS\",\n",
       "       'Rent : \\xa0daily, weekly, monthly\\xa0\\nDaily: \\xa01139\\n5 nights : \\xa0\\xa0890 * 5 = 4450\\n7 nignts : \\xa0770 *7 \\xa0= 5390\\n15 night : \\xa0680*15 \\xa0= 10200\\n30 nights : \\xa0550 * 30 = 16500\\n\\nLong term: 6months : \\xa0P12,000.00 exclusive of utilities\\n2 months deposits 1 month advance\\n\\nApartment property for rent in Santa Cruz, Manila, Metro Manila',\n",
       "       '1-BR Apartment for Rent at Ferros Bel Air Tower, Makati City\\n\\n2nd floor\\nFully Furnished\\xa0\\n60sqm\\n1 bedroom\\xa0\\n1 toilet and bath\\xa0\\n\\n40,000 per month\\n1 month advance and 2 months deposit\\xa0\\nMinimum of 1 year contract\\xa0\\nPDC’s Required',\n",
       "       'For rent is a 1-bedroom apartment on the 2nd floor with a big terrace and a nice view. \\xa0\\n\\nThe subdivision is along the main road, and the unit is next to the subdivision gate.\\xa0\\n\\nIt is very close to the city proper and to all amenities.\\xa0\\n\\nOne month advance, one month deposit but the rent includes the water bill.\\xa0\\n\\nMaximum four (4) persons.\\xa0\\n\\nNo pets allowed.\\xa0\\n\\nThe owner is in Australia\\n\\nThe property is managed by a neighbour- Grace. Please contact her to schedule viewing of the property',\n",
       "       'Fully Furnished apartment by GMRentals\\n\\nFloor area: 36 sqm\\n\\nApartment property for rent in Mactan, Cebu',\n",
       "       'Good for 60 persons Rate is inclusive of electric, water, cable and Wi-Fi 12 airconditioned rooms 6 bathrooms, 6 toilets Locker and bed fam for each occupant Fully furnished: Lounge w/ Sofa, Dining set for 6, TV w/ TV rack, Microwave Oven, Water Dispenser Landmarks: at the back of Eurotel, Pasong Tamo / 3 mins walk to Waltermart, Makati / 5 mins walt to Makati Square / 1 ride to Greenbelt and Glorietta   Condominium property for rent in Bangkal, Makati, Metro Manila',\n",
       "       'Negotiable\\nApartment for Rent in Mariveles\\xa0\\n(UNITS AVAILABLE) \\xa0\\n2 bedroom/Unit, Max of 4 persons\\xa0\\nSeparate water and Power meters\\xa0\\nWith limited parking\\xa0\\nCCTV Protected \\xa0\\n24/7 water supply \\xa0\\nInclusive of: \\xa0Aircon Pullout bed Refrigerator \\xa0Dining table Water heater \\xa0Water dispenser Electric fan LED TV\\xa0\\n\\xa0Ideal for company dormitory or staff house \\xa0Location: #18 Waling waling St. Sisiman, Mariveles, Bataan \\xa0\\xa0\\nThank you! \\xa0\\xa0\\nFREE WIFI \\xa0P15,000.00/ month',\n",
       "       'For female bedspacers. With aircon, washing machine. Two double deck beds in 1 room. 1 double deck bed in smaller room.',\n",
       "       'Consuelo Park Residences (CPR) is a dormitory facility conveniently \\xa0located at the heart of First Philippine Industrial Park (FPIP), Santo \\xa0Tomas, Batangas.\\xa0  CPR is ideal for individuals and professionals looking for dormitory \\xa0spaces within the area hoping to save on time and travel costs. Other \\xa0commercial establishments present in FPIP include hotels, banks, \\xa0sports gymnasium, and restaurants.\\xa0  Be closer to home and join a thriving residential community at Consuelo \\xa0Park Residences! For rent: dormitory spaces\\xa0  Amenities:\\xa0 • Fully furnished room\\xa0 • En-suite bathroom\\xa0 • Common facilities\\xa0 • Walking distance to Consuelo Park',\n",
       "       '5 Bedroom Townhouse For Rent in Muntinlupa City\\xa0\\n\\nA Townhouse for Rent in Muntinlupa City. \\xa0A few mins. away for Alabang Town Cente, Asian Hospital, \\xa0San Beda Alabang. \\xa0\\n\\nLot Area: 140 sqm\\xa0\\nFloor Area: \\xa0270 sqm\\xa0\\n\\n5 Bedrooms\\n6 Toilets and Bath\\n2 parking slots (for regular size cars)\\n\\nAsking Price: P80,000 per month',\n",
       "       'Affordable\\xa0 house in Cordova (Day As),\\xa0it is fully furnished in the first floor and partly in second. Preferably for long term\\xa0 stay but short term (starting with 1 month) can be accepted throughout.\\nThe rent is 18.500 on longterm basis , \\xa025.000 on short term basis\\n\\nother arrangements on request\\n\\nThe running costs are extra \\xa0\\xa0(electricity, water, garbage dump etc. (as you are used from stay at home)\\nThe grounds property is about 207 sq, m², gated, newly renovated and hand pump water added (in case of black out) and layed in between some rural area on the flanks to the htousands roses area\\n\\nThe house is\\xa0 divided in first & sc. floor, downstairs it is fully equipped and arranged\\xa0 decently with master bedroom + toilet/ bath , living room with\\xa0 TV\\xa0 & an extra toilet , opened to kitchen and dining area.\\xa0\\nKitchen has been newly staffed with a 4-stage stove running partly with electricity or gas (3:1)\\n\\n\\nDescription: on the way to lantaw restaurant , \"10K Roses\"\\nGrand mall and public market reacheble within a few minutes\\nviewing the property by appointment,',\n",
       "       \"Fully furnished townhouse\\n  Gated community in Teacher's Village\\n  Living and dining with balcony\\n  Powder room\\n  Spacious kitchen with ref and cooktop range\\n  Master bedroom with own toilet and bath\\n  2 kids bedroom with shared toilet and bath\\n  Maids quarters with toilet and bath\\n  2 car garage\\n  Autogate\\n  Solar power\\n  Gas line with safety features\\n  CCTV\\n  Water storage tank and booster pump\\n  Airconditioners and water heaters\"],\n",
       "      dtype=object)"
      ]
     },
     "execution_count": 11,
     "metadata": {},
     "output_type": "execute_result"
    }
   ],
   "source": [
    "df['description'].unique()"
   ]
  },
  {
   "cell_type": "code",
   "execution_count": 12,
   "id": "6c053dbc",
   "metadata": {},
   "outputs": [
    {
     "data": {
      "text/plain": [
       "array([\"['Bedroom : 1', 'Bath : 1', 'Floor area : 15 m²']\",\n",
       "       \"['Bedrooms : 40', 'Baths : 40', 'Floor area : 1700 m²']\",\n",
       "       \"['Bedrooms : 35', 'Baths : 35', 'Floor area : 1100 m²']\",\n",
       "       \"['Bedroom : 1', 'Bath : 1', 'Floor area : 26 m²']\",\n",
       "       \"['Bedrooms : 2', 'Bath : 1', 'Floor area : 36 m²']\",\n",
       "       \"['Bedroom : 1', 'Bath : 1', 'Floor area : 18 m²']\",\n",
       "       \"['Bedrooms : 8', 'Baths : 8', 'Floor area : 18 m²']\",\n",
       "       \"['Bedroom : 1', 'Bath : 1', 'Floor area : 22 m²']\",\n",
       "       \"['Bedroom : 1', 'Bath : 1']\",\n",
       "       \"['Bedrooms : 2', 'Baths : 2', 'Floor area : 70 m²']\",\n",
       "       \"['Bedroom : 1', 'Bath : 1', 'Floor area : 24 m²']\",\n",
       "       \"['Bedrooms : 31', 'Bath : 1', 'Floor area : 950 m²']\",\n",
       "       \"['Bedroom : 1', 'Bath : 1', 'Floor area : 41 m²']\",\n",
       "       \"['Bedroom : 1', 'Baths : 2', 'Floor area : 44 m²']\",\n",
       "       \"['Bedroom : 1', 'Bath : 1', 'Floor area : 45 m²']\",\n",
       "       \"['Bedroom : 1', 'Bath : 1', 'Floor area : 30 m²']\",\n",
       "       \"['Bedrooms : 12', 'Baths : 16', 'Floor area : 300 m²']\",\n",
       "       \"['Bedroom : 1', 'Baths : 2']\",\n",
       "       \"['Bedroom : 1', 'Bath : 1', 'Floor area : 23 m²']\",\n",
       "       \"['Bedroom : 1', 'Bath : 1', 'Floor area : 12 m²']\",\n",
       "       \"['Bedroom : 1', 'Bath : 1', 'Floor area : 60 m²']\",\n",
       "       \"['Bedroom : 1', 'Bath : 1', 'Floor area : 47 m²']\",\n",
       "       \"['Bedroom : 1', 'Bath : 1', 'Floor area : 36 m²']\",\n",
       "       \"['Bedrooms : 12', 'Baths : 6', 'Floor area : 256 m²']\",\n",
       "       \"['Bedrooms : 2', 'Bath : 1', 'Floor area : 80 m²']\",\n",
       "       \"['Bedrooms : 2', 'Bath : 1', 'Floor area : 42 m²']\",\n",
       "       \"['Bedrooms : 5', 'Baths : 5', 'Floor area : 270 m²']\",\n",
       "       \"['Bedrooms : 2', 'Baths : 2', 'Floor area : 150 m²']\",\n",
       "       \"['Bedrooms : 4', 'Baths : 4', 'Floor area : 198 m²']\"],\n",
       "      dtype=object)"
      ]
     },
     "execution_count": 12,
     "metadata": {},
     "output_type": "execute_result"
    }
   ],
   "source": [
    "df['features'].unique()"
   ]
  },
  {
   "cell_type": "code",
   "execution_count": 13,
   "id": "f2ead321",
   "metadata": {},
   "outputs": [
    {
     "data": {
      "text/plain": [
       "array(['Oasis FPIP', 'Clement Dizon', 'Fern Marie Badong', 'JESSA MARTIN',\n",
       "       'ROSALIA CRAUWELS', 'Carl Borela', 'Mcdel Apartelle',\n",
       "       'Melanie Lopez', 'Cebu Living Spaces', 'Urbanspace Co-Living',\n",
       "       'Cindy Budikey', 'Noeme Ruth Dimatulac', 'Yuchi Chua',\n",
       "       'CBC LAND MGMT., INC.', 'Danilo Litonjua', 'Pinnacle Real Estate',\n",
       "       'Precious Xiao', 'Miguel Blanco', 'Maricel Soriano',\n",
       "       'Len Magpusao', 'Chloe Chu', 'Malay Meisin Tan',\n",
       "       'Eisenbuilders Eisen Apartelle', 'Realus Realtors',\n",
       "       'Julio Cezar Redula', 'Sheryl Dungog', 'Wysly Fu',\n",
       "       'Jezreel Vicente', 'Male Soriano', 'Thomas Fontanari',\n",
       "       'Joanna Santana'], dtype=object)"
      ]
     },
     "execution_count": 13,
     "metadata": {},
     "output_type": "execute_result"
    }
   ],
   "source": [
    "df['agent'].unique()"
   ]
  },
  {
   "cell_type": "code",
   "execution_count": 14,
   "id": "1322c019",
   "metadata": {},
   "outputs": [
    {
     "data": {
      "text/plain": [
       "array(['MEMBER SINCE 2019', 'MEMBER SINCE 2016', 'MEMBER SINCE 2017',\n",
       "       'MEMBER SINCE 2022', 'MEMBER SINCE 2021', 'MEMBER SINCE 2023',\n",
       "       'MEMBER SINCE 2020', 'MEMBER SINCE 2018', 'MEMBER SINCE 2014',\n",
       "       'MEMBER SINCE 2015'], dtype=object)"
      ]
     },
     "execution_count": 14,
     "metadata": {},
     "output_type": "execute_result"
    }
   ],
   "source": [
    "df['agent_membership'].unique()"
   ]
  },
  {
   "cell_type": "code",
   "execution_count": 15,
   "id": "b8333e3d",
   "metadata": {},
   "outputs": [
    {
     "data": {
      "text/plain": [
       "array(['verified', 'not verified'], dtype=object)"
      ]
     },
     "execution_count": 15,
     "metadata": {},
     "output_type": "execute_result"
    }
   ],
   "source": [
    "df['agent_verified'].unique()"
   ]
  },
  {
   "cell_type": "code",
   "execution_count": 16,
   "id": "946a6d42",
   "metadata": {},
   "outputs": [
    {
     "data": {
      "text/plain": [
       "array(['lamudi'], dtype=object)"
      ]
     },
     "execution_count": 16,
     "metadata": {},
     "output_type": "execute_result"
    }
   ],
   "source": [
    "df['source'].unique()"
   ]
  },
  {
   "cell_type": "markdown",
   "id": "4a99fdf5",
   "metadata": {},
   "source": [
    "### DATA PROCESSING \n",
    "* 2.1 Data Cleaning\n",
    "* 2.1.1 Drop DUplicates"
   ]
  },
  {
   "cell_type": "code",
   "execution_count": null,
   "id": "946c864c",
   "metadata": {},
   "outputs": [],
   "source": [
    "df = df.drop_duplicates()"
   ]
  },
  {
   "cell_type": "code",
   "execution_count": null,
   "id": "df1ed69f",
   "metadata": {},
   "outputs": [],
   "source": [
    "df.duplicated().sum()"
   ]
  },
  {
   "cell_type": "markdown",
   "id": "f2e0414e",
   "metadata": {},
   "source": [
    "* Replace price symbol into white space"
   ]
  },
  {
   "cell_type": "code",
   "execution_count": 17,
   "id": "b9785bcf",
   "metadata": {
    "scrolled": true
   },
   "outputs": [
    {
     "data": {
      "text/html": [
       "<div>\n",
       "<style scoped>\n",
       "    .dataframe tbody tr th:only-of-type {\n",
       "        vertical-align: middle;\n",
       "    }\n",
       "\n",
       "    .dataframe tbody tr th {\n",
       "        vertical-align: top;\n",
       "    }\n",
       "\n",
       "    .dataframe thead th {\n",
       "        text-align: right;\n",
       "    }\n",
       "</style>\n",
       "<table border=\"1\" class=\"dataframe\">\n",
       "  <thead>\n",
       "    <tr style=\"text-align: right;\">\n",
       "      <th></th>\n",
       "      <th>price</th>\n",
       "    </tr>\n",
       "  </thead>\n",
       "  <tbody>\n",
       "    <tr>\n",
       "      <th>0</th>\n",
       "      <td>Contact agent for price</td>\n",
       "    </tr>\n",
       "    <tr>\n",
       "      <th>1</th>\n",
       "      <td>Contact agent for price</td>\n",
       "    </tr>\n",
       "    <tr>\n",
       "      <th>2</th>\n",
       "      <td>950000</td>\n",
       "    </tr>\n",
       "    <tr>\n",
       "      <th>3</th>\n",
       "      <td>12000</td>\n",
       "    </tr>\n",
       "    <tr>\n",
       "      <th>4</th>\n",
       "      <td>7000</td>\n",
       "    </tr>\n",
       "    <tr>\n",
       "      <th>5</th>\n",
       "      <td>5000</td>\n",
       "    </tr>\n",
       "    <tr>\n",
       "      <th>6</th>\n",
       "      <td>8500</td>\n",
       "    </tr>\n",
       "    <tr>\n",
       "      <th>7</th>\n",
       "      <td>6000</td>\n",
       "    </tr>\n",
       "    <tr>\n",
       "      <th>8</th>\n",
       "      <td>5000</td>\n",
       "    </tr>\n",
       "    <tr>\n",
       "      <th>9</th>\n",
       "      <td>10000</td>\n",
       "    </tr>\n",
       "    <tr>\n",
       "      <th>10</th>\n",
       "      <td>Contact agent for price</td>\n",
       "    </tr>\n",
       "    <tr>\n",
       "      <th>11</th>\n",
       "      <td>15000</td>\n",
       "    </tr>\n",
       "    <tr>\n",
       "      <th>12</th>\n",
       "      <td>15000</td>\n",
       "    </tr>\n",
       "    <tr>\n",
       "      <th>13</th>\n",
       "      <td>7500</td>\n",
       "    </tr>\n",
       "    <tr>\n",
       "      <th>14</th>\n",
       "      <td>5000</td>\n",
       "    </tr>\n",
       "    <tr>\n",
       "      <th>15</th>\n",
       "      <td>17000</td>\n",
       "    </tr>\n",
       "    <tr>\n",
       "      <th>16</th>\n",
       "      <td>10000</td>\n",
       "    </tr>\n",
       "    <tr>\n",
       "      <th>17</th>\n",
       "      <td>5000</td>\n",
       "    </tr>\n",
       "    <tr>\n",
       "      <th>18</th>\n",
       "      <td>14000</td>\n",
       "    </tr>\n",
       "    <tr>\n",
       "      <th>19</th>\n",
       "      <td>6000</td>\n",
       "    </tr>\n",
       "    <tr>\n",
       "      <th>20</th>\n",
       "      <td>2500</td>\n",
       "    </tr>\n",
       "    <tr>\n",
       "      <th>21</th>\n",
       "      <td>Contact agent for price</td>\n",
       "    </tr>\n",
       "    <tr>\n",
       "      <th>22</th>\n",
       "      <td>11000</td>\n",
       "    </tr>\n",
       "    <tr>\n",
       "      <th>23</th>\n",
       "      <td>500</td>\n",
       "    </tr>\n",
       "    <tr>\n",
       "      <th>24</th>\n",
       "      <td>14000</td>\n",
       "    </tr>\n",
       "    <tr>\n",
       "      <th>25</th>\n",
       "      <td>1139</td>\n",
       "    </tr>\n",
       "    <tr>\n",
       "      <th>26</th>\n",
       "      <td>40000</td>\n",
       "    </tr>\n",
       "    <tr>\n",
       "      <th>27</th>\n",
       "      <td>6500</td>\n",
       "    </tr>\n",
       "    <tr>\n",
       "      <th>28</th>\n",
       "      <td>18000</td>\n",
       "    </tr>\n",
       "    <tr>\n",
       "      <th>29</th>\n",
       "      <td>240000</td>\n",
       "    </tr>\n",
       "    <tr>\n",
       "      <th>3095</th>\n",
       "      <td>15000</td>\n",
       "    </tr>\n",
       "    <tr>\n",
       "      <th>4654</th>\n",
       "      <td>3500</td>\n",
       "    </tr>\n",
       "    <tr>\n",
       "      <th>6210</th>\n",
       "      <td>Contact agent for price</td>\n",
       "    </tr>\n",
       "    <tr>\n",
       "      <th>6213</th>\n",
       "      <td>80000</td>\n",
       "    </tr>\n",
       "    <tr>\n",
       "      <th>6221</th>\n",
       "      <td>10000</td>\n",
       "    </tr>\n",
       "    <tr>\n",
       "      <th>6226</th>\n",
       "      <td>18500</td>\n",
       "    </tr>\n",
       "    <tr>\n",
       "      <th>9336</th>\n",
       "      <td>60000</td>\n",
       "    </tr>\n",
       "  </tbody>\n",
       "</table>\n",
       "</div>"
      ],
      "text/plain": [
       "                        price\n",
       "0     Contact agent for price\n",
       "1     Contact agent for price\n",
       "2                      950000\n",
       "3                       12000\n",
       "4                        7000\n",
       "5                        5000\n",
       "6                        8500\n",
       "7                        6000\n",
       "8                        5000\n",
       "9                       10000\n",
       "10    Contact agent for price\n",
       "11                      15000\n",
       "12                      15000\n",
       "13                       7500\n",
       "14                       5000\n",
       "15                      17000\n",
       "16                      10000\n",
       "17                       5000\n",
       "18                      14000\n",
       "19                       6000\n",
       "20                       2500\n",
       "21    Contact agent for price\n",
       "22                      11000\n",
       "23                        500\n",
       "24                      14000\n",
       "25                       1139\n",
       "26                      40000\n",
       "27                       6500\n",
       "28                      18000\n",
       "29                     240000\n",
       "3095                    15000\n",
       "4654                     3500\n",
       "6210  Contact agent for price\n",
       "6213                    80000\n",
       "6221                    10000\n",
       "6226                    18500\n",
       "9336                    60000"
      ]
     },
     "execution_count": 17,
     "metadata": {},
     "output_type": "execute_result"
    }
   ],
   "source": [
    "df['price'] = df['price'].str.replace('₱', '')\n",
    "df['price'] = df['price'].str.replace(',', '')\n",
    "\n",
    "df[['price']]"
   ]
  },
  {
   "cell_type": "code",
   "execution_count": 19,
   "id": "ed00ac8d",
   "metadata": {},
   "outputs": [],
   "source": [
    "#Replacing the 'contact agent for price' into null values\n",
    "def change_price(col):\n",
    "    price_change = 'Contact agent for price';\n",
    "    \n",
    "    df[col][df[col] == price_change] = None;"
   ]
  },
  {
   "cell_type": "code",
   "execution_count": 20,
   "id": "e4b30555",
   "metadata": {},
   "outputs": [],
   "source": [
    "change_price('price')"
   ]
  },
  {
   "cell_type": "code",
   "execution_count": 21,
   "id": "c4bcc3ec",
   "metadata": {
    "scrolled": true
   },
   "outputs": [
    {
     "data": {
      "text/plain": [
       "0          None\n",
       "1          None\n",
       "2        950000\n",
       "3         12000\n",
       "4          7000\n",
       "5          5000\n",
       "6          8500\n",
       "7          6000\n",
       "8          5000\n",
       "9         10000\n",
       "10         None\n",
       "11        15000\n",
       "12        15000\n",
       "13         7500\n",
       "14         5000\n",
       "15        17000\n",
       "16        10000\n",
       "17         5000\n",
       "18        14000\n",
       "19         6000\n",
       "20         2500\n",
       "21         None\n",
       "22        11000\n",
       "23          500\n",
       "24        14000\n",
       "25         1139\n",
       "26        40000\n",
       "27         6500\n",
       "28        18000\n",
       "29       240000\n",
       "3095      15000\n",
       "4654       3500\n",
       "6210       None\n",
       "6213      80000\n",
       "6221      10000\n",
       "6226      18500\n",
       "9336      60000\n",
       "Name: price, dtype: object"
      ]
     },
     "execution_count": 21,
     "metadata": {},
     "output_type": "execute_result"
    }
   ],
   "source": [
    "df['price']"
   ]
  },
  {
   "cell_type": "markdown",
   "id": "c16d3ef5",
   "metadata": {},
   "source": [
    "* 2.1.2 Fill-in Missing Values"
   ]
  },
  {
   "cell_type": "code",
   "execution_count": 22,
   "id": "c5e1e09b",
   "metadata": {},
   "outputs": [
    {
     "data": {
      "text/plain": [
       "title               0\n",
       "location            0\n",
       "description         0\n",
       "price               5\n",
       "features            0\n",
       "agent               0\n",
       "agent_membership    0\n",
       "agent_verified      0\n",
       "source              0\n",
       "dtype: int64"
      ]
     },
     "execution_count": 22,
     "metadata": {},
     "output_type": "execute_result"
    }
   ],
   "source": [
    "#Check if there are missing values\n",
    "\n",
    "df.isna().sum()"
   ]
  },
  {
   "cell_type": "code",
   "execution_count": 23,
   "id": "d7204887",
   "metadata": {},
   "outputs": [],
   "source": [
    "#Fill in price values with median values, the price is not normally distributed \n",
    "df['price'].fillna(df['price'].median(),inplace = True);"
   ]
  },
  {
   "cell_type": "code",
   "execution_count": 31,
   "id": "67841132",
   "metadata": {},
   "outputs": [
    {
     "data": {
      "text/plain": [
       "title               0\n",
       "location            0\n",
       "description         0\n",
       "price               0\n",
       "features            0\n",
       "agent               0\n",
       "agent_membership    0\n",
       "agent_verified      0\n",
       "source              0\n",
       "dtype: int64"
      ]
     },
     "execution_count": 31,
     "metadata": {},
     "output_type": "execute_result"
    }
   ],
   "source": [
    "df.isna().sum()"
   ]
  },
  {
   "cell_type": "code",
   "execution_count": 18,
   "id": "4e669c90",
   "metadata": {},
   "outputs": [
    {
     "data": {
      "text/plain": [
       "title               object\n",
       "location            object\n",
       "description         object\n",
       "price               object\n",
       "features            object\n",
       "agent               object\n",
       "agent_membership    object\n",
       "agent_verified      object\n",
       "source              object\n",
       "dtype: object"
      ]
     },
     "execution_count": 18,
     "metadata": {},
     "output_type": "execute_result"
    }
   ],
   "source": [
    "#Check datatypes\n",
    "df.dtypes"
   ]
  },
  {
   "cell_type": "code",
   "execution_count": 24,
   "id": "2cc2a83a",
   "metadata": {},
   "outputs": [],
   "source": [
    "#Change Datatypes into string values\n",
    "df = df.astype('string')"
   ]
  },
  {
   "cell_type": "code",
   "execution_count": 25,
   "id": "c6f429c7",
   "metadata": {},
   "outputs": [
    {
     "data": {
      "text/plain": [
       "title               string\n",
       "location            string\n",
       "description         string\n",
       "price               string\n",
       "features            string\n",
       "agent               string\n",
       "agent_membership    string\n",
       "agent_verified      string\n",
       "source              string\n",
       "dtype: object"
      ]
     },
     "execution_count": 25,
     "metadata": {},
     "output_type": "execute_result"
    }
   ],
   "source": [
    "df.dtypes"
   ]
  },
  {
   "cell_type": "code",
   "execution_count": 26,
   "id": "bead31c9",
   "metadata": {},
   "outputs": [],
   "source": [
    "#Parse the price into float data type\n",
    "df['price'] = df['price'].astype(float)"
   ]
  },
  {
   "cell_type": "markdown",
   "id": "8786b358",
   "metadata": {},
   "source": [
    "* 2.1.3 Remove Extreme Values / Outliers"
   ]
  },
  {
   "cell_type": "code",
   "execution_count": 27,
   "id": "47471297",
   "metadata": {},
   "outputs": [
    {
     "name": "stderr",
     "output_type": "stream",
     "text": [
      "C:\\Users\\Jake\\anaconda3\\lib\\site-packages\\seaborn\\_decorators.py:36: FutureWarning: Pass the following variable as a keyword arg: x. From version 0.12, the only valid positional argument will be `data`, and passing other arguments without an explicit keyword will result in an error or misinterpretation.\n",
      "  warnings.warn(\n"
     ]
    },
    {
     "data": {
      "text/plain": [
       "<AxesSubplot:xlabel='price'>"
      ]
     },
     "execution_count": 27,
     "metadata": {},
     "output_type": "execute_result"
    },
    {
     "data": {
      "image/png": "[encoded data removed]",
      "text/plain": [
       "<Figure size 432x288 with 1 Axes>"
      ]
     },
     "metadata": {
      "needs_background": "light"
     },
     "output_type": "display_data"
    }
   ],
   "source": [
    "#Check outliers in our float value which is the price\n",
    "\n",
    "sns.boxplot(df['price'])"
   ]
  },
  {
   "cell_type": "code",
   "execution_count": 28,
   "id": "c7a127c4",
   "metadata": {},
   "outputs": [],
   "source": [
    "#iqr\n",
    "##removing outliers\n",
    "\n",
    "def remove_outliers(col):\n",
    "    q1 = df[col].quantile(0.25);\n",
    "    q3 = df[col].quantile(0.75);\n",
    "    iqr = q3 - q1;\n",
    "    \n",
    "    max_ = q3 + (1.5*iqr);\n",
    "    min_ = q1 - (1.5*iqr);\n",
    "    \n",
    "    df[col][df[col] < min_] = min_;\n",
    "    df[col][df[col] > max_] = max_;\n",
    "    "
   ]
  },
  {
   "cell_type": "code",
   "execution_count": 29,
   "id": "8c047757",
   "metadata": {},
   "outputs": [
    {
     "name": "stderr",
     "output_type": "stream",
     "text": [
      "C:\\Users\\Jake\\AppData\\Local\\Temp\\ipykernel_12888\\4236709323.py:13: SettingWithCopyWarning: \n",
      "A value is trying to be set on a copy of a slice from a DataFrame\n",
      "\n",
      "See the caveats in the documentation: https://pandas.pydata.org/pandas-docs/stable/user_guide/indexing.html#returning-a-view-versus-a-copy\n",
      "  df[col][df[col] < min_] = min_;\n",
      "C:\\Users\\Jake\\AppData\\Local\\Temp\\ipykernel_12888\\4236709323.py:14: SettingWithCopyWarning: \n",
      "A value is trying to be set on a copy of a slice from a DataFrame\n",
      "\n",
      "See the caveats in the documentation: https://pandas.pydata.org/pandas-docs/stable/user_guide/indexing.html#returning-a-view-versus-a-copy\n",
      "  df[col][df[col] > max_] = max_;\n"
     ]
    }
   ],
   "source": [
    "remove_outliers('price')"
   ]
  },
  {
   "cell_type": "code",
   "execution_count": 30,
   "id": "38dee8aa",
   "metadata": {},
   "outputs": [
    {
     "name": "stderr",
     "output_type": "stream",
     "text": [
      "C:\\Users\\Jake\\anaconda3\\lib\\site-packages\\seaborn\\_decorators.py:36: FutureWarning: Pass the following variable as a keyword arg: x. From version 0.12, the only valid positional argument will be `data`, and passing other arguments without an explicit keyword will result in an error or misinterpretation.\n",
      "  warnings.warn(\n"
     ]
    },
    {
     "data": {
      "text/plain": [
       "<AxesSubplot:xlabel='price'>"
      ]
     },
     "execution_count": 30,
     "metadata": {},
     "output_type": "execute_result"
    },
    {
     "data": {
      "image/png": "[encoded data removed]",
      "text/plain": [
       "<Figure size 432x288 with 1 Axes>"
      ]
     },
     "metadata": {
      "needs_background": "light"
     },
     "output_type": "display_data"
    }
   ],
   "source": [
    "sns.boxplot(df['price'])"
   ]
  },
  {
   "cell_type": "markdown",
   "id": "7aa170ef",
   "metadata": {},
   "source": [
    "### We already remove the outliers"
   ]
  },
  {
   "cell_type": "markdown",
   "id": "caf69c9d",
   "metadata": {},
   "source": [
    "* 2.1.4 Converting categorical features into numerical features"
   ]
  },
  {
   "cell_type": "code",
   "execution_count": 34,
   "id": "a9f0ddbd",
   "metadata": {},
   "outputs": [],
   "source": [
    "#import\n",
    "from sklearn.preprocessing import LabelEncoder"
   ]
  },
  {
   "cell_type": "code",
   "execution_count": 35,
   "id": "4cfa7e00",
   "metadata": {},
   "outputs": [],
   "source": [
    "encoder = LabelEncoder();\n",
    "df2 = df.copy();"
   ]
  },
  {
   "cell_type": "code",
   "execution_count": null,
   "id": "6d19f093",
   "metadata": {},
   "outputs": [],
   "source": [
    "for col in df2.columns:\n",
    "    if(col != 'class'):\n",
    "        df_new[col] = encoder.fit_transform(df_new[col]);"
   ]
  },
  {
   "cell_type": "code",
   "execution_count": null,
   "id": "11ef5838",
   "metadata": {},
   "outputs": [],
   "source": []
  }
 ],
 "metadata": {
  "kernelspec": {
   "display_name": "Python 3 (ipykernel)",
   "language": "python",
   "name": "python3"
  },
  "language_info": {
   "codemirror_mode": {
    "name": "ipython",
    "version": 3
   },
   "file_extension": ".py",
   "mimetype": "text/x-python",
   "name": "python",
   "nbconvert_exporter": "python",
   "pygments_lexer": "ipython3",
   "version": "3.9.13"
  }
 },
 "nbformat": 4,
 "nbformat_minor": 5
}
