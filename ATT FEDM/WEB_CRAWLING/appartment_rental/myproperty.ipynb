{
 "cells": [
  {
   "cell_type": "code",
   "execution_count": null,
   "metadata": {},
   "outputs": [],
   "source": [
    "from selenium import webdriver;\n",
    "from bs4 import BeautifulSoup;\n",
    "from selenium.webdriver.chrome.service import Service;\n",
    "from selenium.webdriver.common.by import By;\n",
    "from selenium.webdriver.chrome.options import Options;\n",
    "from selenium.webdriver.common.action_chains import ActionChains;\n",
    "from webdriver_manager.chrome import ChromeDriverManager;\n",
    "import time;\n",
    "import pandas as pd;\n",
    "import re;\n"
   ]
  },
  {
   "cell_type": "code",
   "execution_count": null,
   "metadata": {},
   "outputs": [],
   "source": [
    "\n",
    "# *open window\n",
    "\n",
    "options  = Options();\n",
    "options.add_experimental_option(\"detach\", True);\n",
    "driver = webdriver.Chrome(service=Service(ChromeDriverManager().install()), options=options);\n",
    "\n",
    "driver.get('https://www.myproperty.ph/apartment/rent/'); # *link to open\n",
    "driver.maximize_window(); # *maximize the window\n",
    "\n",
    "# * data to get : \n",
    "# *title, location, price, key-info : bedroom, bath, floor area, agent\n",
    "\n",
    "\n",
    "# ! step 1 : get max page and curr page\n",
    "\n",
    "\n",
    "soup = BeautifulSoup(driver.page_source, \"html.parser\");\n",
    "page = driver.find_element(By.CLASS_NAME, \"nav-box-center\").find_element(By.TAG_NAME ,'select');\n",
    "\n",
    "curr_page = int(page.get_attribute('data-pagination-current'));\n",
    "max_page = int(page.get_attribute('data-pagination-end'));\n",
    "\n",
    "print(curr_page, max_page)\n",
    "rows = [] \n",
    "\n",
    "# cnt = 0\n",
    "while curr_page <= max_page:\n",
    "    for item in soup.find_all('div', class_ = 'ListingCell-wrapper'): # selecting the card wrapper\n",
    "        #getting listing details : title,loc,desc,price,feaures/ammenities,agent,agent_details\n",
    "        title = item.find('h2',\"ListingCell-KeyInfo-title\").text.strip(); \n",
    "        location = item.find('span',\"ListingCell-KeyInfo-address-text\").text.strip();\n",
    "        desc = item.find('div',\"ListingCell-shortDescription\").text.strip();\n",
    "        price = item.select_one(\".ListingCell-KeyInfo-price > :first-child\").text.strip();\n",
    "        features_holder = item.select(\".ListingCell-keyInfo-details > .KeyInformation_v2 > .KeyInformation-attribute_v2\");\n",
    "        z = [];\n",
    "        for x in features_holder: # looping through feautures\n",
    "            # print(x)\n",
    "            ammenity =  x.find('span', 'KeyInformation-label_v2').text.strip();\n",
    "            amount = x.select_one(\"div > span\").text.strip();\n",
    "            y = ammenity + \" : \" + amount;\n",
    "            print(y)\n",
    "            z.append(y);\n",
    "        features = z \n",
    "\n",
    "        agent = item.find('div',\"ListingDetail-agent-name\").text.strip();\n",
    "        membership = item.find('div',\"ListingDetail-agent-membership\").text.strip();\n",
    "        verified = item.find('img',\"ListingDetail-agent-verified-icon\");\n",
    "        \n",
    "        if(str(verified) != 'None'): # setting agent verified status\n",
    "            verified = 'verified'\n",
    "        else:\n",
    "            verified = 'not verified'\n",
    "        # print (verified)\n",
    "\n",
    "        rows.append([title,location,desc,price,features,agent,membership,verified]) # appending to rows\n",
    "\n",
    "    time.sleep(2);\n",
    "    actions = ActionChains(driver);\n",
    "\n",
    "    toAction = driver.find_element(By.CLASS_NAME,\"BaseSection\");\n",
    "    actions.move_to_element(toAction).perform();\n",
    "\n",
    "    time.sleep(2);\n",
    "    actions = ActionChains(driver);\n",
    "    try:\n",
    "        nextbtn = driver.find_element(By.CSS_SELECTOR,\".next > a\");\n",
    "        actions.click(nextbtn); \n",
    "        actions.perform();\n",
    "    except:\n",
    "        print('no button found')\n",
    "\n",
    "    curr_page = curr_page + 1;\n",
    "    time.sleep(5);\n",
    "\n",
    "\n",
    "   "
   ]
  },
  {
   "cell_type": "code",
   "execution_count": null,
   "metadata": {},
   "outputs": [],
   "source": [
    "# rows\n",
    "df = pd.DataFrame(rows,\n",
    "                  columns=['title','location','description','price','features','agent','agent_membership','agent_verified'])\n",
    "\n",
    "df"
   ]
  },
  {
   "cell_type": "code",
   "execution_count": null,
   "metadata": {},
   "outputs": [],
   "source": [
    "import datetime\n",
    "\n",
    "today_d =  datetime.datetime.now().strftime('%m-%d-%y')\n",
    "file_name = 'myproperty-' + today_d + '.csv';\n",
    "file_name\n"
   ]
  },
  {
   "cell_type": "code",
   "execution_count": null,
   "metadata": {},
   "outputs": [],
   "source": [
    "from pathlib import Path  \n",
    "filepath = Path(r'C:\\Users\\Jake\\Desktop\\YEJI\\\\3Y2S\\Analytics Techniques and Tools\\WEB_CRAWLING\\\\appartment_rental\\\\'+file_name)  \n",
    "filepath.parent.mkdir(parents=True, exist_ok=True)  \n",
    "df.to_csv(filepath)\n"
   ]
  }
 ],
 "metadata": {
  "kernelspec": {
   "display_name": "base",
   "language": "python",
   "name": "python3"
  },
  "language_info": {
   "codemirror_mode": {
    "name": "ipython",
    "version": 3
   },
   "file_extension": ".py",
   "mimetype": "text/x-python",
   "name": "python",
   "nbconvert_exporter": "python",
   "pygments_lexer": "ipython3",
   "version": "3.9.12"
  },
  "orig_nbformat": 4,
  "vscode": {
   "interpreter": {
    "hash": "119404a951b6d412e328d52110be8664210c2c1c67dbae2204add742710a45f7"
   }
  }
 },
 "nbformat": 4,
 "nbformat_minor": 2
}
