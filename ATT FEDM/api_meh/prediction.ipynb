{
 "cells": [
  {
   "cell_type": "code",
   "execution_count": 9,
   "id": "47870809",
   "metadata": {},
   "outputs": [],
   "source": [
    "import pandas as pd;\n",
    "from flask import Flask;\n",
    "from flask import request, jsonify;\n",
    "from flask_cors import CORS,cross_origin;\n",
    "import pickle;"
   ]
  },
  {
   "cell_type": "code",
   "execution_count": 10,
   "id": "8f0e9854",
   "metadata": {},
   "outputs": [],
   "source": [
    "app = Flask(__name__); #construct a flask class\n",
    "app.config['CORS_HEADER']= 'Content-Type';\n",
    "cors = CORS(app, resources = {r\"/api/*\": {\"origins\": \"*\"}});"
   ]
  },
  {
   "cell_type": "code",
   "execution_count": 11,
   "id": "c850bba5",
   "metadata": {},
   "outputs": [],
   "source": [
    "from sklearn.preprocessing import LabelEncoder\n",
    "encoder = LabelEncoder();\n",
    "\n",
    "@app.route('/api_meh/hello', methods=['GET'])\n",
    "@cross_origin()\n",
    "def welcome():\n",
    "    return \"Hello World!\"\n",
    "\n",
    "@app.route('/api_meh/predict', methods=['POST', 'OPTIONS'])\n",
    "@cross_origin()\n",
    "def predict():\n",
    "    dbfile = open('/api_meh/it_survey.sav', 'rb');\n",
    "    model = pickle.load(dbfile);\n",
    "    \n",
    "    #predict model\n",
    "    #age, sex, height\n",
    "    \n",
    "    req = request.form;\n",
    "    # params = pd.DataFrame([(req['age'],req['sex'],req['strand_shs'],req['preferred_skill'])]);\n",
    "    # params = pd.DataFrame([(req['Age'],req['Sex'],req['Strand in SHS'],req['Prefer Skill'])]);\n",
    "    # res = model.predict(params);\n",
    "\n",
    "    dfv = []\n",
    "    \n",
    "    #KAILANGAN MAKITA NG SIR BILL\n",
    "    # dashboard, storytelling\n",
    "    #modelling\n",
    "    # when python, application kung san nagconnect ng api \n",
    "        #visualizations\n",
    "    #data warehousing\n",
    "    #DOCUMENTATION\n",
    "    \n",
    "    \n",
    "    \n",
    "    dfv.append([req['age'],req['sex'],req['strand_shs'],req['preferred_skill']]);\n",
    "    print(\"dfv\",dfv)\n",
    "    df = pd.DataFrame(dfv,columns=[\"Age\",\"Sex\",\"Strand in SHS\",\"Prefer Skill\"])\n",
    "\n",
    "    # df = pd.DataFrame(dfv,columns=[\"Sex\"]);\n",
    "    \n",
    "    \n",
    "\n",
    "    # params = pd.DataFrame([(req['Age'],req['Sex'],req['Strand in SHS'],req['Prefer Skill'])]);\n",
    "\n",
    "\n",
    "\n",
    "\n",
    "    file = open(\"encode_sex.pkl\",'rb');\n",
    "    loading = pickle.load(file);\n",
    "    file.close()\n",
    "    df['Sex'] = loading.transform(df['Sex']);\n",
    "\n",
    "    \n",
    "    file = open(\"encode_strand.pkl\",'rb');\n",
    "    loading = pickle.load(file);\n",
    "    file.close()\n",
    "    df['Strand in SHS'] = loading.transform(df['Strand in SHS']);\n",
    "\n",
    "    \n",
    "    file = open(\"encode_skill.pkl\",'rb');\n",
    "    loading = pickle.load(file);\n",
    "    file.close()\n",
    "    df['Prefer Skill'] = loading.transform(df['Prefer Skill']);\n",
    "\n",
    "    \n",
    "\n",
    "    res = model.predict(df);\n",
    "    \n",
    "    returns = str(res[0]);\n",
    "\n",
    "    # print(params)\n",
    "    # print(res)\n",
    "    # print(\"hmm\")\n",
    "    return jsonify({'prediction': returns});"
   ]
  },
  {
   "cell_type": "code",
   "execution_count": 12,
   "id": "7cd622ce",
   "metadata": {},
   "outputs": [
    {
     "name": "stdout",
     "output_type": "stream",
     "text": [
      " * Serving Flask app \"__main__\" (lazy loading)\n",
      " * Environment: production\n",
      "\u001b[31m   WARNING: This is a development server. Do not use it in a production deployment.\u001b[0m\n",
      "\u001b[2m   Use a production WSGI server instead.\u001b[0m\n",
      " * Debug mode: off\n"
     ]
    },
    {
     "name": "stderr",
     "output_type": "stream",
     "text": [
      " * Running on http://127.0.0.1:5500/ (Press CTRL+C to quit)\n"
     ]
    }
   ],
   "source": [
    "if __name__ == '__main__':\n",
    "    app.run(host='127.0.0.1', port=5500)"
   ]
  },
  {
   "cell_type": "code",
   "execution_count": null,
   "id": "5ccc28ea",
   "metadata": {},
   "outputs": [],
   "source": []
  }
 ],
 "metadata": {
  "kernelspec": {
   "display_name": "Python 3",
   "language": "python",
   "name": "python3"
  },
  "language_info": {
   "codemirror_mode": {
    "name": "ipython",
    "version": 3
   },
   "file_extension": ".py",
   "mimetype": "text/x-python",
   "name": "python",
   "nbconvert_exporter": "python",
   "pygments_lexer": "ipython3",
   "version": "3.9.13"
  }
 },
 "nbformat": 4,
 "nbformat_minor": 5
}
